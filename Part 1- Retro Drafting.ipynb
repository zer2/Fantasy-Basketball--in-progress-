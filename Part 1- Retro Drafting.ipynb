{
 "cells": [
  {
   "cell_type": "markdown",
   "id": "7274e4f1",
   "metadata": {},
   "source": [
    "![meme](https://i.imgflip.com/6x0g1f.jpg)"
   ]
  },
  {
   "cell_type": "markdown",
   "id": "1a8f61da",
   "metadata": {},
   "source": [
    "# Optimizing fantasy basketball\n",
    "\n",
    "Fantasy basketball is an extremely popular pasttime for nba fans. Participants 'draft' players before the season, then get rewarded for their proxys' in-game performances during the season. \n",
    "\n",
    "There are three commonly played standard formats. As described by [ESPN](https://support.espn.com/hc/en-us/articles/360003913632-Scoring-Formats), they are\n",
    "\n",
    ">Rotisserie: Rotisserie, or \"Roto,\" is the most common way to play fantasy basketball. In this scoring type, teams are ranked from first to last in each statistical category. Points are then awarded according to the order in each category and totaled to determine an overall score and league rank.\n",
    "\n",
    ">Head-to-Head: Each Category: H2H Each Category is the most common type of head-to-head play in fantasy basketball. It allows you to select the \"X\" number of statistic categories. For each scoring period, team totals are accumulated and a win, loss or tie is credited in each category based on the matchup results (i.e. 6-3-1 in a 10 category league). If selected, your league will have team schedules/playoffs and you will have the option to set up divisions.\n",
    "\n",
    ">Head-to-Head: Most Categories: H2H Most Categories allows you to set \"X\" number of statistic categories. For each scoring period (usually Monday through Sunday) team totals are accumulated in each of the categories. At the end of the scoring period, the winner is determined by which team wins the most number of categories. The end result is a win (1-0-0), loss (0-1-0) or tie (0-0-1). These results correspond directly to each team's overall record. If selected, your league will have team schedules/playoffs and you will have the option to set up divisions.\n",
    "\n",
    "Common settings specify 9 categories: points, rebounds, assists, steals, blocks, 3-pointers, field goal %, free throw %, and turnovers. Participants are paired up to compete week-by-week, and at the end of the season, the player with the best record wins.\n",
    "\n",
    "One might note that from a mathematical perspective the first two formats are very similar. In Rotisserie, if you perform better in a category than five other teams and worse than six, you get five points. That is the same reward that you would get if you faced them individually and got points for winning the category. The rotisserie format has less variance because you are effectively facing everyone in one week instead of spread out over several weeks, allowing more total data points. But the mathematical objective remains the same: maximizing the expected number of wins across all categories and opponents. For our purposes, we will therefore only look at H2H and the winner-take-all version, assuming that the H2H strategy will also work for Rotisserie\n",
    "\n",
    "Understanding the game of basketball helps win fantasy drafts. However, it's not the whole ballgame: even if we had precise probability distributions for player performance beforehand, or exact numbers with no uncertainty, it would not be obvious how to draft correctly. Do we want to optimize for all nine categories, or just some of them? Do we try to compete on the categories that other drafters are going for, or ones they are not? Do we embrace high-volatility players or low-volatility players? The problem becomes a rich mathematical one, more familiar to data scientists than to basketball enthusiasts\n",
    "\n",
    "There is plenty of speculation about all this within the fantasy basketball community. However, few in the community realize that their strategies are leveraging high-level mathematical intuition. If we lean into the math, and treat this as an optimization problem, can we derive a method for fantasy drafting that delivers consistently high performance?\n",
    "\n",
    "Our approach will be to break down the drafting problem into three mathematical steps\n",
    "- Part one (this notebook): Retrospectively drafting a full previous season, with full knowledge of player performance. Weekly totals will be randomly sampled from actual weekly totals for each player. Fantasy drafting this way becomes a full-information game, and therefore at least one Nash equilibrium exists. However, since in practice the vast majority of players are using approximate strategies rather than attempting to be optimal, we will instead look for strategies that beat common naive strategies\n",
    "- Part two: Using predictive data science methods to make estimates of future performance\n",
    "- Part three: Plug in the results from part two into the algorithms of part one in order to create a drafting strategy that will theoretically work well for real fantasy drafts \n",
    "\n",
    "One other note, before we get started on part one:\n",
    "\n",
    "NBA fantasy drafts require participants to play with a certain number of players at each position, e.g. three centers, plus a few players on the bench who do not count. I've personally found in my (albeit limited) experience that usually I can have all of my players and games count by shifting players to the bench when they are not playing. This would not be the case if my team was totally imbalanced and for example had no centers, but otherwise I think it is a fair assumption. Therefore I will simplify the problem in the following way: \n",
    "\n",
    "- Each team must have 3 centers, 1 point guard, 1 shooting guard, 2 guards (either PG or SG), 1 small forward, 1 power forward, 2 forwards (either SF or PF), and 3 utilities (any positions)\n",
    "- Every game played by all of your players count towards your totals"
   ]
  },
  {
   "cell_type": "markdown",
   "id": "9c67dd3a",
   "metadata": {},
   "source": [
    "# Retrospective drafting\n",
    "\n",
    "Let's lay out the infrastructure for the first step, retrospective drafting"
   ]
  },
  {
   "cell_type": "code",
   "execution_count": 186,
   "id": "d266d129",
   "metadata": {},
   "outputs": [],
   "source": [
    "import pandas as pd\n",
    "from sklearn.preprocessing import StandardScaler, MinMaxScaler, QuantileTransformer\n",
    "from itertools import combinations\n",
    "from collections import Counter\n",
    "import numpy as np\n",
    "from datetime import datetime\n",
    "import matplotlib.pyplot as plt\n",
    "import copy\n",
    "import cvxpy\n",
    "from unidecode import unidecode\n",
    "\n",
    "from src.drafting_agents import ZAgent, ZPlusAgent, GOAgent\n",
    "from src.simulation import run_draft, run_multiple_seasons\n",
    "from src.helper_functions import check_team_eligibility\n",
    "\n",
    "pd.set_option('display.max_rows', 150)\n",
    "pd.options.mode.chained_assignment = None  # default='warn'\n",
    "\n",
    "categories = ['pts', 'trb', 'ast', 'stl', 'blk', 'fg3','tov', 'fg_pct','ft_pct']"
   ]
  },
  {
   "cell_type": "markdown",
   "id": "a3232b21",
   "metadata": {},
   "source": [
    "We will use the raw data from [Advanced Sports Analytics](https://www.advancedsportsanalytics.com/nba-raw-data), which has game-by-game player statistics"
   ]
  },
  {
   "cell_type": "code",
   "execution_count": 200,
   "id": "7bab59ac",
   "metadata": {},
   "outputs": [
    {
     "data": {
      "text/html": [
       "<div>\n",
       "<style scoped>\n",
       "    .dataframe tbody tr th:only-of-type {\n",
       "        vertical-align: middle;\n",
       "    }\n",
       "\n",
       "    .dataframe tbody tr th {\n",
       "        vertical-align: top;\n",
       "    }\n",
       "\n",
       "    .dataframe thead th {\n",
       "        text-align: right;\n",
       "    }\n",
       "</style>\n",
       "<table border=\"1\" class=\"dataframe\">\n",
       "  <thead>\n",
       "    <tr style=\"text-align: right;\">\n",
       "      <th></th>\n",
       "      <th>id</th>\n",
       "      <th>pts</th>\n",
       "      <th>trb</th>\n",
       "      <th>ast</th>\n",
       "      <th>stl</th>\n",
       "      <th>blk</th>\n",
       "      <th>fg3</th>\n",
       "      <th>tov</th>\n",
       "      <th>fg</th>\n",
       "      <th>fga</th>\n",
       "      <th>ft</th>\n",
       "      <th>fta</th>\n",
       "      <th>date</th>\n",
       "      <th>player</th>\n",
       "    </tr>\n",
       "  </thead>\n",
       "  <tbody>\n",
       "    <tr>\n",
       "      <th>0</th>\n",
       "      <td>1629726</td>\n",
       "      <td>6</td>\n",
       "      <td>14</td>\n",
       "      <td>0</td>\n",
       "      <td>1</td>\n",
       "      <td>1</td>\n",
       "      <td>3</td>\n",
       "      <td>0</td>\n",
       "      <td>4</td>\n",
       "      <td>7</td>\n",
       "      <td>3</td>\n",
       "      <td>3</td>\n",
       "      <td>2022-04-10</td>\n",
       "      <td>Garrison Mathews</td>\n",
       "    </tr>\n",
       "    <tr>\n",
       "      <th>1</th>\n",
       "      <td>1629726</td>\n",
       "      <td>5</td>\n",
       "      <td>9</td>\n",
       "      <td>2</td>\n",
       "      <td>0</td>\n",
       "      <td>1</td>\n",
       "      <td>2</td>\n",
       "      <td>2</td>\n",
       "      <td>2</td>\n",
       "      <td>3</td>\n",
       "      <td>3</td>\n",
       "      <td>5</td>\n",
       "      <td>2022-04-08</td>\n",
       "      <td>Garrison Mathews</td>\n",
       "    </tr>\n",
       "    <tr>\n",
       "      <th>2</th>\n",
       "      <td>1629726</td>\n",
       "      <td>4</td>\n",
       "      <td>4</td>\n",
       "      <td>0</td>\n",
       "      <td>0</td>\n",
       "      <td>0</td>\n",
       "      <td>0</td>\n",
       "      <td>0</td>\n",
       "      <td>1</td>\n",
       "      <td>7</td>\n",
       "      <td>2</td>\n",
       "      <td>3</td>\n",
       "      <td>2022-04-05</td>\n",
       "      <td>Garrison Mathews</td>\n",
       "    </tr>\n",
       "    <tr>\n",
       "      <th>3</th>\n",
       "      <td>1629726</td>\n",
       "      <td>1</td>\n",
       "      <td>7</td>\n",
       "      <td>2</td>\n",
       "      <td>2</td>\n",
       "      <td>1</td>\n",
       "      <td>2</td>\n",
       "      <td>1</td>\n",
       "      <td>2</td>\n",
       "      <td>9</td>\n",
       "      <td>1</td>\n",
       "      <td>2</td>\n",
       "      <td>2022-04-03</td>\n",
       "      <td>Garrison Mathews</td>\n",
       "    </tr>\n",
       "    <tr>\n",
       "      <th>4</th>\n",
       "      <td>1629726</td>\n",
       "      <td>2</td>\n",
       "      <td>22</td>\n",
       "      <td>2</td>\n",
       "      <td>2</td>\n",
       "      <td>1</td>\n",
       "      <td>6</td>\n",
       "      <td>0</td>\n",
       "      <td>7</td>\n",
       "      <td>11</td>\n",
       "      <td>2</td>\n",
       "      <td>2</td>\n",
       "      <td>2022-04-02</td>\n",
       "      <td>Garrison Mathews</td>\n",
       "    </tr>\n",
       "  </tbody>\n",
       "</table>\n",
       "</div>"
      ],
      "text/plain": [
       "        id  pts  trb  ast  stl  blk  fg3  tov  fg  fga  ft  fta        date  \\\n",
       "0  1629726    6   14    0    1    1    3    0   4    7   3    3  2022-04-10   \n",
       "1  1629726    5    9    2    0    1    2    2   2    3   3    5  2022-04-08   \n",
       "2  1629726    4    4    0    0    0    0    0   1    7   2    3  2022-04-05   \n",
       "3  1629726    1    7    2    2    1    2    1   2    9   1    2  2022-04-03   \n",
       "4  1629726    2   22    2    2    1    6    0   7   11   2    2  2022-04-02   \n",
       "\n",
       "             player  \n",
       "0  Garrison Mathews  \n",
       "1  Garrison Mathews  \n",
       "2  Garrison Mathews  \n",
       "3  Garrison Mathews  \n",
       "4  Garrison Mathews  "
      ]
     },
     "execution_count": 200,
     "metadata": {},
     "output_type": "execute_result"
    }
   ],
   "source": [
    "stat_df = pd.read_csv('../data/stat_data/2021-22.csv')\n",
    "player_df = pd.read_csv('../data/player_id_reference.csv')\n",
    "position_df = pd.read_csv('../data/positions.csv')\n",
    "\n",
    "essential_info = stat_df.merge(player_df[['id','player']]).drop(columns = 'status') #for now\n",
    "essential_info.head()"
   ]
  },
  {
   "cell_type": "code",
   "execution_count": 201,
   "id": "53c8bb61",
   "metadata": {},
   "outputs": [
    {
     "data": {
      "text/plain": [
       "\"{'PF'}\""
      ]
     },
     "execution_count": 201,
     "metadata": {},
     "output_type": "execute_result"
    }
   ],
   "source": [
    "positions.loc['Marcus Morris']"
   ]
  },
  {
   "cell_type": "markdown",
   "id": "d83d701b",
   "metadata": {},
   "source": [
    "Different platforms define positions in different ways. We will try to do it fairly, by making a player eligible for a position if they spent more than a third of their play time at that position."
   ]
  },
  {
   "cell_type": "code",
   "execution_count": 202,
   "id": "9f90a809",
   "metadata": {},
   "outputs": [
    {
     "data": {
      "text/plain": [
       "player\n",
       "Aaron Gordon     {'PF'}\n",
       "Aaron Henry      {'SF'}\n",
       "Aaron Holiday    {'PG'}\n",
       "Aaron Nesmith    {'SF'}\n",
       "Aaron Wiggins    {'SG'}\n",
       "Name: pos, dtype: object"
      ]
     },
     "execution_count": 202,
     "metadata": {},
     "output_type": "execute_result"
    }
   ],
   "source": [
    "position_df = position_df[position_df['season'] == 2022]\n",
    "positions = position_df.set_index(['player'])['pos']\n",
    "positions.head()"
   ]
  },
  {
   "cell_type": "markdown",
   "id": "6c54eb13",
   "metadata": {},
   "source": [
    "The most important infrastructure is code simulating an actual NBA fantasy season, so that we can evaluate the success of our strategies. Actually, since our model is probabilistic, we want to run many seasons and get the average # of wins.\n",
    "\n",
    "We'll synthesize the 2021 season into weeks of play, and randomly sample from it for the season"
   ]
  },
  {
   "cell_type": "code",
   "execution_count": 203,
   "id": "757bd533",
   "metadata": {},
   "outputs": [
    {
     "data": {
      "text/html": [
       "<div>\n",
       "<style scoped>\n",
       "    .dataframe tbody tr th:only-of-type {\n",
       "        vertical-align: middle;\n",
       "    }\n",
       "\n",
       "    .dataframe tbody tr th {\n",
       "        vertical-align: top;\n",
       "    }\n",
       "\n",
       "    .dataframe thead th {\n",
       "        text-align: right;\n",
       "    }\n",
       "</style>\n",
       "<table border=\"1\" class=\"dataframe\">\n",
       "  <thead>\n",
       "    <tr style=\"text-align: right;\">\n",
       "      <th></th>\n",
       "      <th></th>\n",
       "      <th>pts</th>\n",
       "      <th>trb</th>\n",
       "      <th>ast</th>\n",
       "      <th>stl</th>\n",
       "      <th>blk</th>\n",
       "      <th>fg3</th>\n",
       "      <th>tov</th>\n",
       "      <th>fg</th>\n",
       "      <th>fga</th>\n",
       "      <th>ft</th>\n",
       "      <th>fta</th>\n",
       "    </tr>\n",
       "    <tr>\n",
       "      <th>player</th>\n",
       "      <th>week</th>\n",
       "      <th></th>\n",
       "      <th></th>\n",
       "      <th></th>\n",
       "      <th></th>\n",
       "      <th></th>\n",
       "      <th></th>\n",
       "      <th></th>\n",
       "      <th></th>\n",
       "      <th></th>\n",
       "      <th></th>\n",
       "      <th></th>\n",
       "    </tr>\n",
       "  </thead>\n",
       "  <tbody>\n",
       "    <tr>\n",
       "      <th rowspan=\"5\" valign=\"top\">Garrison Mathews</th>\n",
       "      <th>14</th>\n",
       "      <td>15.0</td>\n",
       "      <td>27.0</td>\n",
       "      <td>2.0</td>\n",
       "      <td>1.0</td>\n",
       "      <td>2.0</td>\n",
       "      <td>5.0</td>\n",
       "      <td>2.0</td>\n",
       "      <td>7.0</td>\n",
       "      <td>17.0</td>\n",
       "      <td>8.0</td>\n",
       "      <td>11.0</td>\n",
       "    </tr>\n",
       "    <tr>\n",
       "      <th>13</th>\n",
       "      <td>6.0</td>\n",
       "      <td>35.0</td>\n",
       "      <td>5.0</td>\n",
       "      <td>5.0</td>\n",
       "      <td>4.0</td>\n",
       "      <td>10.0</td>\n",
       "      <td>3.0</td>\n",
       "      <td>11.0</td>\n",
       "      <td>32.0</td>\n",
       "      <td>3.0</td>\n",
       "      <td>4.0</td>\n",
       "    </tr>\n",
       "    <tr>\n",
       "      <th>12</th>\n",
       "      <td>6.0</td>\n",
       "      <td>19.0</td>\n",
       "      <td>4.0</td>\n",
       "      <td>6.0</td>\n",
       "      <td>4.0</td>\n",
       "      <td>5.0</td>\n",
       "      <td>0.0</td>\n",
       "      <td>6.0</td>\n",
       "      <td>20.0</td>\n",
       "      <td>2.0</td>\n",
       "      <td>2.0</td>\n",
       "    </tr>\n",
       "    <tr>\n",
       "      <th>11</th>\n",
       "      <td>4.0</td>\n",
       "      <td>14.0</td>\n",
       "      <td>3.0</td>\n",
       "      <td>3.0</td>\n",
       "      <td>0.0</td>\n",
       "      <td>3.0</td>\n",
       "      <td>0.0</td>\n",
       "      <td>3.0</td>\n",
       "      <td>9.0</td>\n",
       "      <td>5.0</td>\n",
       "      <td>7.0</td>\n",
       "    </tr>\n",
       "    <tr>\n",
       "      <th>10</th>\n",
       "      <td>9.0</td>\n",
       "      <td>31.0</td>\n",
       "      <td>5.0</td>\n",
       "      <td>8.0</td>\n",
       "      <td>0.0</td>\n",
       "      <td>6.0</td>\n",
       "      <td>5.0</td>\n",
       "      <td>8.0</td>\n",
       "      <td>19.0</td>\n",
       "      <td>9.0</td>\n",
       "      <td>13.0</td>\n",
       "    </tr>\n",
       "  </tbody>\n",
       "</table>\n",
       "</div>"
      ],
      "text/plain": [
       "                        pts   trb  ast  stl  blk   fg3  tov    fg   fga   ft  \\\n",
       "player           week                                                          \n",
       "Garrison Mathews 14    15.0  27.0  2.0  1.0  2.0   5.0  2.0   7.0  17.0  8.0   \n",
       "                 13     6.0  35.0  5.0  5.0  4.0  10.0  3.0  11.0  32.0  3.0   \n",
       "                 12     6.0  19.0  4.0  6.0  4.0   5.0  0.0   6.0  20.0  2.0   \n",
       "                 11     4.0  14.0  3.0  3.0  0.0   3.0  0.0   3.0   9.0  5.0   \n",
       "                 10     9.0  31.0  5.0  8.0  0.0   6.0  5.0   8.0  19.0  9.0   \n",
       "\n",
       "                        fta  \n",
       "player           week        \n",
       "Garrison Mathews 14    11.0  \n",
       "                 13     4.0  \n",
       "                 12     2.0  \n",
       "                 11     7.0  \n",
       "                 10    13.0  "
      ]
     },
     "execution_count": 203,
     "metadata": {},
     "output_type": "execute_result"
    }
   ],
   "source": [
    "essential_info['date'] = pd.to_datetime(essential_info['date'])\n",
    "essential_info['week'] = essential_info['date'].dt.isocalendar()['week']\n",
    "\n",
    "weekly_df_index = pd.MultiIndex.from_product([pd.unique(essential_info['player'])\n",
    "                                             ,pd.unique(essential_info['week'])]\n",
    "                                             ,names = ['player','week'])\n",
    "weekly_df_2021_season = essential_info.drop(columns = ['date','id']).groupby(['player','week']).sum()\n",
    "season_df = pd.DataFrame(weekly_df_2021_season, index = weekly_df_index ).fillna(0)\n",
    "season_df.head()"
   ]
  },
  {
   "cell_type": "markdown",
   "id": "ce02607d",
   "metadata": {},
   "source": [
    "We've imported a function that simulates multiple seasons, based on the dataframe with statistics from the 2021 season"
   ]
  },
  {
   "cell_type": "code",
   "execution_count": 204,
   "id": "fbd30e9a",
   "metadata": {},
   "outputs": [
    {
     "name": "stdout",
     "output_type": "stream",
     "text": [
      "Simulate multiple seasons with the same drafters \n",
      "    \n",
      "    Weekly performances are sampled from a dataframe of real season performance\n",
      "    Teams win weeks by winning more categories than their opponents. They win seasons by winning the\n",
      "    most weeks of all players \n",
      "    \n",
      "    Args:\n",
      "        teams: player assignment dict, as produced by the run_draft() functoin\n",
      "        season_df: dataframe of weekly numbers per players. These will be sampled to simulate seasons\n",
      "        n_seasons: number of seasons to simulate\n",
      "        n_weeks: number of weeks per season\n",
      "        winner_take_all: If True, the winner of a majority of categories in a week gets a point.\n",
      "                         If false, each player gets a point for each category won \n",
      "        \n",
      "    Returns:\n",
      "        Series of winning percentages with the structure\n",
      "         team_number : winning_percent  \n",
      "    \n"
     ]
    }
   ],
   "source": [
    "print(run_multiple_seasons.__doc__)"
   ]
  },
  {
   "cell_type": "markdown",
   "id": "b9f6f4f9",
   "metadata": {},
   "source": [
    "We also imported a function that simulates the drafting process, with agents that pick players based on rules. Drafts are typically run in the snake format. We'll consider a single round to be the back and forth of the snake- so for example with three drafters, player one picks, player two picks, player three picks two players, player two picks, and player one picks"
   ]
  },
  {
   "cell_type": "code",
   "execution_count": 205,
   "id": "47dfe78e",
   "metadata": {},
   "outputs": [
    {
     "name": "stdout",
     "output_type": "stream",
     "text": [
      "Run a snake draft\n",
      "\n",
      "    Snake drafts wrap around like 1 -> 2 -> 3 -> 3 -> 2 -> 1 -> 1 -> 2 -> 3 etc. \n",
      "    \n",
      "    Args:\n",
      "        agents: list of Agents, which are required to have make_pick() methods\n",
      "        n_rounds: number of rounds to do of the snake draft. Each drafter will get n_rounds * 2 players\n",
      "        \n",
      "    Returns:\n",
      "        dictionary of player assignments with the structure\n",
      "         {'player name' : team_number } \n",
      "    \n"
     ]
    }
   ],
   "source": [
    "print(run_draft.__doc__)"
   ]
  },
  {
   "cell_type": "markdown",
   "id": "dde9c231",
   "metadata": {},
   "source": [
    " A simple drafter will use player stat totals, so we will create a table for them"
   ]
  },
  {
   "cell_type": "code",
   "execution_count": 206,
   "id": "6996109a",
   "metadata": {},
   "outputs": [],
   "source": [
    "player_averages = season_df.reset_index().drop(columns= 'week').groupby('player').mean()\n",
    "player_averages['fg_pct'] = (player_averages['fg']/player_averages['fga']).fillna(0)\n",
    "player_averages['ft_pct'] = (player_averages['ft']/player_averages['fta']).fillna(0)\n",
    "player_averages = player_averages[categories]"
   ]
  },
  {
   "cell_type": "markdown",
   "id": "f546c6d4",
   "metadata": {},
   "source": [
    "When we test a strategy, we want to see if it works broadly, not just in any one position. So we will create a helper function that tries a strategy in each position against some default agent in all the other positions"
   ]
  },
  {
   "cell_type": "code",
   "execution_count": 207,
   "id": "72002861",
   "metadata": {},
   "outputs": [],
   "source": [
    "def try_strategy(primary_agent, default_agent, n_seasons, winner_take_all = True):\n",
    "\n",
    "    strategy_res = [[] for i in range(12)]\n",
    "    for i in range(12):\n",
    "        #we need to deepcopy the agents so that they don't share references with each other\n",
    "        agents = [copy.deepcopy(default_agent) for x in range(i)] + \\\n",
    "                    [copy.deepcopy(primary_agent)] + \\\n",
    "                    [copy.deepcopy(default_agent) for x in range(11-i)]\n",
    "        \n",
    "        teams = run_draft(agents ,7)\n",
    "        res = run_multiple_seasons(teams = teams\n",
    "                                   , season_df = season_df\n",
    "                                   , categories = categories\n",
    "                                   ,n_seasons = n_seasons\n",
    "                                   ,winner_take_all = winner_take_all)\n",
    "        strategy_res[i] = (res.get(i)) if (res.get(i)) is not None else 0 \n",
    "        \n",
    "    return np.sum(strategy_res)/(12*n_seasons)\n"
   ]
  },
  {
   "cell_type": "markdown",
   "id": "9ff8d5d0",
   "metadata": {},
   "source": [
    "One last bit of infrastructure worth mentioning is a function to check if a team is valid, based on its players' positions. We will use it to validate whether we can add a particular player to an existing team. Surprisingly, this is not a trivial problem. \n",
    "\n",
    "Many players can slot into multiple positions, which makes it complicated to determine which positions are still open and which are not. The most elegant way to solve the problem is to model it as a 'phase one' optimization problem, whereby we  model the constraints with an extra variable 'z' loosening the constraints, and aim to minimize z. Fortunately we don't have to set that up manually- optimization software will do it automatically if we set up the optimization problem as is and give a dummy objective of zero. \n",
    "\n",
    "ZR: Put in formulation of the feasibility question\n",
    "\n",
    "One might argue that our model needs to be an integer program to handle its' decision variables. This would not be ideal, since integer programs are much slower than linear programs.  Luckily we don't need to worry about that; the problem is an assignment problem and therefore the results will be integers. \n",
    "\n",
    "The function that checks for feasibility is a helper function used by the drafting Agents to make sure they are choosing players that fit their team. The docstring is printed below"
   ]
  },
  {
   "cell_type": "code",
   "execution_count": 208,
   "id": "47a5e9f6",
   "metadata": {},
   "outputs": [
    {
     "name": "stdout",
     "output_type": "stream",
     "text": [
      "Checks if a team is eligible or not, based on the players' possible positions\n",
      "\n",
      "    The function works by setting up an optimization problem for assigning players to team positions\n",
      "    If the optimization problem is infeasible, the team is not eligible\n",
      "    \n",
      "    Args:\n",
      "        players:Lists of players, which are themselves lists of eligible positions. E.g. \n",
      "                [['SF','PF'],['C'],['SF']]\n",
      "\n",
      "    Returns:\n",
      "        True or False, depending on if the team is found to be eligible or not\n",
      "\n",
      "    \n"
     ]
    }
   ],
   "source": [
    "print(check_team_eligibility.__doc__)"
   ]
  },
  {
   "cell_type": "code",
   "execution_count": 209,
   "id": "4cd8978d",
   "metadata": {},
   "outputs": [
    {
     "data": {
      "text/html": [
       "<div>\n",
       "<style scoped>\n",
       "    .dataframe tbody tr th:only-of-type {\n",
       "        vertical-align: middle;\n",
       "    }\n",
       "\n",
       "    .dataframe tbody tr th {\n",
       "        vertical-align: top;\n",
       "    }\n",
       "\n",
       "    .dataframe thead th {\n",
       "        text-align: right;\n",
       "    }\n",
       "</style>\n",
       "<table border=\"1\" class=\"dataframe\">\n",
       "  <thead>\n",
       "    <tr style=\"text-align: right;\">\n",
       "      <th></th>\n",
       "      <th>pts</th>\n",
       "      <th>trb</th>\n",
       "      <th>ast</th>\n",
       "      <th>stl</th>\n",
       "      <th>blk</th>\n",
       "      <th>fg3</th>\n",
       "      <th>tov</th>\n",
       "      <th>fg_pct</th>\n",
       "      <th>ft_pct</th>\n",
       "    </tr>\n",
       "    <tr>\n",
       "      <th>player</th>\n",
       "      <th></th>\n",
       "      <th></th>\n",
       "      <th></th>\n",
       "      <th></th>\n",
       "      <th></th>\n",
       "      <th></th>\n",
       "      <th></th>\n",
       "      <th></th>\n",
       "      <th></th>\n",
       "    </tr>\n",
       "  </thead>\n",
       "  <tbody>\n",
       "    <tr>\n",
       "      <th>Aaron Gordon</th>\n",
       "      <td>16.846154</td>\n",
       "      <td>43.307692</td>\n",
       "      <td>7.230769</td>\n",
       "      <td>1.692308</td>\n",
       "      <td>1.692308</td>\n",
       "      <td>3.346154</td>\n",
       "      <td>5.115385</td>\n",
       "      <td>0.520384</td>\n",
       "      <td>0.743478</td>\n",
       "    </tr>\n",
       "    <tr>\n",
       "      <th>Aaron Henry</th>\n",
       "      <td>0.038462</td>\n",
       "      <td>0.076923</td>\n",
       "      <td>0.000000</td>\n",
       "      <td>0.000000</td>\n",
       "      <td>0.076923</td>\n",
       "      <td>0.000000</td>\n",
       "      <td>0.076923</td>\n",
       "      <td>0.200000</td>\n",
       "      <td>0.000000</td>\n",
       "    </tr>\n",
       "    <tr>\n",
       "      <th>Aaron Holiday</th>\n",
       "      <td>4.692308</td>\n",
       "      <td>15.384615</td>\n",
       "      <td>5.884615</td>\n",
       "      <td>1.615385</td>\n",
       "      <td>0.346154</td>\n",
       "      <td>1.500000</td>\n",
       "      <td>2.538462</td>\n",
       "      <td>0.446746</td>\n",
       "      <td>0.867647</td>\n",
       "    </tr>\n",
       "    <tr>\n",
       "      <th>Aaron Nesmith</th>\n",
       "      <td>3.423077</td>\n",
       "      <td>7.538462</td>\n",
       "      <td>0.846154</td>\n",
       "      <td>0.807692</td>\n",
       "      <td>0.153846</td>\n",
       "      <td>1.192308</td>\n",
       "      <td>1.192308</td>\n",
       "      <td>0.395604</td>\n",
       "      <td>0.807692</td>\n",
       "    </tr>\n",
       "    <tr>\n",
       "      <th>Aaron Wiggins</th>\n",
       "      <td>6.846154</td>\n",
       "      <td>16.000000</td>\n",
       "      <td>2.615385</td>\n",
       "      <td>1.153846</td>\n",
       "      <td>0.346154</td>\n",
       "      <td>1.615385</td>\n",
       "      <td>2.076923</td>\n",
       "      <td>0.462908</td>\n",
       "      <td>0.729412</td>\n",
       "    </tr>\n",
       "    <tr>\n",
       "      <th>...</th>\n",
       "      <td>...</td>\n",
       "      <td>...</td>\n",
       "      <td>...</td>\n",
       "      <td>...</td>\n",
       "      <td>...</td>\n",
       "      <td>...</td>\n",
       "      <td>...</td>\n",
       "      <td>...</td>\n",
       "      <td>...</td>\n",
       "    </tr>\n",
       "    <tr>\n",
       "      <th>Zavier Simpson</th>\n",
       "      <td>0.807692</td>\n",
       "      <td>1.692308</td>\n",
       "      <td>1.153846</td>\n",
       "      <td>0.192308</td>\n",
       "      <td>0.153846</td>\n",
       "      <td>0.038462</td>\n",
       "      <td>0.384615</td>\n",
       "      <td>0.365385</td>\n",
       "      <td>1.000000</td>\n",
       "    </tr>\n",
       "    <tr>\n",
       "      <th>Zeke Nnaji</th>\n",
       "      <td>5.653846</td>\n",
       "      <td>10.384615</td>\n",
       "      <td>0.653846</td>\n",
       "      <td>0.653846</td>\n",
       "      <td>0.500000</td>\n",
       "      <td>1.423077</td>\n",
       "      <td>0.884615</td>\n",
       "      <td>0.516129</td>\n",
       "      <td>0.630769</td>\n",
       "    </tr>\n",
       "    <tr>\n",
       "      <th>Ziaire Williams</th>\n",
       "      <td>4.961538</td>\n",
       "      <td>19.269231</td>\n",
       "      <td>2.500000</td>\n",
       "      <td>1.384615</td>\n",
       "      <td>0.423077</td>\n",
       "      <td>2.923077</td>\n",
       "      <td>1.576923</td>\n",
       "      <td>0.450472</td>\n",
       "      <td>0.781818</td>\n",
       "    </tr>\n",
       "    <tr>\n",
       "      <th>Zion Williamson</th>\n",
       "      <td>0.000000</td>\n",
       "      <td>0.000000</td>\n",
       "      <td>0.000000</td>\n",
       "      <td>0.000000</td>\n",
       "      <td>0.000000</td>\n",
       "      <td>0.000000</td>\n",
       "      <td>0.000000</td>\n",
       "      <td>0.000000</td>\n",
       "      <td>0.000000</td>\n",
       "    </tr>\n",
       "    <tr>\n",
       "      <th>Zylan Cheatham</th>\n",
       "      <td>0.000000</td>\n",
       "      <td>0.000000</td>\n",
       "      <td>0.000000</td>\n",
       "      <td>0.000000</td>\n",
       "      <td>0.000000</td>\n",
       "      <td>0.000000</td>\n",
       "      <td>0.000000</td>\n",
       "      <td>0.000000</td>\n",
       "      <td>0.000000</td>\n",
       "    </tr>\n",
       "  </tbody>\n",
       "</table>\n",
       "<p>628 rows × 9 columns</p>\n",
       "</div>"
      ],
      "text/plain": [
       "                       pts        trb       ast       stl       blk       fg3  \\\n",
       "player                                                                          \n",
       "Aaron Gordon     16.846154  43.307692  7.230769  1.692308  1.692308  3.346154   \n",
       "Aaron Henry       0.038462   0.076923  0.000000  0.000000  0.076923  0.000000   \n",
       "Aaron Holiday     4.692308  15.384615  5.884615  1.615385  0.346154  1.500000   \n",
       "Aaron Nesmith     3.423077   7.538462  0.846154  0.807692  0.153846  1.192308   \n",
       "Aaron Wiggins     6.846154  16.000000  2.615385  1.153846  0.346154  1.615385   \n",
       "...                    ...        ...       ...       ...       ...       ...   \n",
       "Zavier Simpson    0.807692   1.692308  1.153846  0.192308  0.153846  0.038462   \n",
       "Zeke Nnaji        5.653846  10.384615  0.653846  0.653846  0.500000  1.423077   \n",
       "Ziaire Williams   4.961538  19.269231  2.500000  1.384615  0.423077  2.923077   \n",
       "Zion Williamson   0.000000   0.000000  0.000000  0.000000  0.000000  0.000000   \n",
       "Zylan Cheatham    0.000000   0.000000  0.000000  0.000000  0.000000  0.000000   \n",
       "\n",
       "                      tov    fg_pct    ft_pct  \n",
       "player                                         \n",
       "Aaron Gordon     5.115385  0.520384  0.743478  \n",
       "Aaron Henry      0.076923  0.200000  0.000000  \n",
       "Aaron Holiday    2.538462  0.446746  0.867647  \n",
       "Aaron Nesmith    1.192308  0.395604  0.807692  \n",
       "Aaron Wiggins    2.076923  0.462908  0.729412  \n",
       "...                   ...       ...       ...  \n",
       "Zavier Simpson   0.384615  0.365385  1.000000  \n",
       "Zeke Nnaji       0.884615  0.516129  0.630769  \n",
       "Ziaire Williams  1.576923  0.450472  0.781818  \n",
       "Zion Williamson  0.000000  0.000000  0.000000  \n",
       "Zylan Cheatham   0.000000  0.000000  0.000000  \n",
       "\n",
       "[628 rows x 9 columns]"
      ]
     },
     "execution_count": 209,
     "metadata": {},
     "output_type": "execute_result"
    }
   ],
   "source": [
    "player_averages"
   ]
  },
  {
   "cell_type": "markdown",
   "id": "0ea8c635",
   "metadata": {},
   "source": [
    "## 1a. Z-scores\n",
    "\n",
    "Fantasy rankings are often made by summing players' Z-scores (this means exactly the same thing as it does in statistics, the # of standard deviations away from the mean) by category. We can use this methodology as a naive baselines for player rankings. Since many real drafters use Z-scores, we can expect that the strategies that work the best against z-scores will do the best in practice. \n",
    "\n",
    "Normally, Z-scores are calculated based on the league average. This is slightly odd because most league players never get used in fantasy drafts, and shouldn't influence our way of thinking about relevant players. Perhaps we can improve on the basic Z-score methodology by re-scaling with only the top players. We will call this strategy 'Z+'"
   ]
  },
  {
   "cell_type": "code",
   "execution_count": 210,
   "id": "55813507",
   "metadata": {},
   "outputs": [
    {
     "name": "stdout",
     "output_type": "stream",
     "text": [
      "Winner take all: 19.9%\n",
      "Total categories: 22.4%\n",
      "0:01:40.971540\n"
     ]
    }
   ],
   "source": [
    "start = datetime.now()\n",
    "primary_agent = ZPlusAgent(player_averages = player_averages\n",
    "                           ,positions = positions\n",
    "                           ,n_players = 12*7*2)\n",
    "default_agent = ZAgent(player_averages = player_averages\n",
    "                           ,positions = positions)\n",
    "z_plus_res_wta = try_strategy(primary_agent, default_agent, 1000)\n",
    "z_plus_res_tot = try_strategy(primary_agent, default_agent, 1000, winner_take_all = False)\n",
    "\n",
    "print('Winner take all: ' + str(round(z_plus_res_wta*100,1)) + '%')\n",
    "print('Total categories: ' + str(round(z_plus_res_tot*100,1)) + '%')\n",
    "\n",
    "print(datetime.now() - start)"
   ]
  },
  {
   "cell_type": "markdown",
   "id": "1eeb9029",
   "metadata": {},
   "source": [
    "For both formats, the Z+ score performs better than the baseline rate of $\\frac{1}{12}$, which one would expect by chance. It makes sense that it works particularly well for 'Total categories', since the objective is to maximize overall performance across categories, which the Z+ score gets at nicely. This is a great starting point!"
   ]
  },
  {
   "cell_type": "markdown",
   "id": "2e7542d6",
   "metadata": {},
   "source": [
    "## 1b. Optimization through punting\n",
    "\n",
    "There is one more common strategy that we should consider: punting. Many fantasy drafters choose to ignore some number of categories in order to improve their performance in the other categories. We will test this to see if it gives our methodology a boost"
   ]
  },
  {
   "cell_type": "code",
   "execution_count": 211,
   "id": "10273e34",
   "metadata": {},
   "outputs": [],
   "source": [
    "def try_punting_strategy(punting_cats, n = 500, winner_take_all = True):\n",
    "    primary_agent = ZPlusAgent(player_averages = player_averages\n",
    "                               ,positions = positions\n",
    "                               ,punting_cats = punting_cats\n",
    "                               ,n_players = 12*7*2)\n",
    "    default_agent = ZAgent(player_averages = player_averages\n",
    "                           ,positions = positions\n",
    "                            ,punting_cats = [])\n",
    "    res = try_strategy(primary_agent, default_agent, n, winner_take_all = winner_take_all)\n",
    "    variance = np.sqrt(res*(1-res)/(12 * n))\n",
    "    return res, variance"
   ]
  },
  {
   "cell_type": "code",
   "execution_count": 212,
   "id": "fcad7603",
   "metadata": {},
   "outputs": [
    {
     "name": "stdout",
     "output_type": "stream",
     "text": [
      "0:11:34.393998\n"
     ]
    }
   ],
   "source": [
    "start = datetime.now()\n",
    "punting_results_wta = {cat : try_punting_strategy([cat]) for cat in categories}\n",
    "punting_results_tot = {cat : try_punting_strategy([cat], winner_take_all = False) for cat in categories}\n",
    "print(datetime.now() - start)"
   ]
  },
  {
   "cell_type": "code",
   "execution_count": 213,
   "id": "5849ebf3",
   "metadata": {},
   "outputs": [
    {
     "data": {
      "image/png": "[encoded data removed]",
      "text/plain": [
       "<Figure size 432x288 with 1 Axes>"
      ]
     },
     "metadata": {
      "needs_background": "light"
     },
     "output_type": "display_data"
    }
   ],
   "source": [
    "results_unpacked = list(map(list,zip(*[(x[0],x[1][0],x[1][1]) for x in punting_results_wta.items()])))\n",
    "\n",
    "fig, ax = plt.subplots()\n",
    "\n",
    "x_pos = np.arange(len(results_unpacked[0]))\n",
    "ax.bar(x_pos\n",
    "       , results_unpacked[1]\n",
    "       , yerr=results_unpacked[2]\n",
    "       , align='center'\n",
    "       , alpha=0.5\n",
    "       , ecolor='black'\n",
    "       , capsize=10)\n",
    "\n",
    "ax.set_ylabel('Winning fraction')\n",
    "ax.set_xticks(x_pos)\n",
    "ax.set_xticklabels(results_unpacked[0])\n",
    "ax.set_title('Viability of punting strategies, winner takes all')\n",
    "ax.axhline(y=z_plus_res_wta, color='green', linestyle='-', label = 'Z+ score')\n",
    "ax.axhline(y=1/12, color='orange', linestyle='-', label = 'Z score')\n",
    "plt.legend()\n",
    "\n",
    "# Save the figure and show\n",
    "plt.tight_layout()\n",
    "plt.show()"
   ]
  },
  {
   "cell_type": "code",
   "execution_count": 214,
   "id": "bc311714",
   "metadata": {},
   "outputs": [
    {
     "data": {
      "image/png": "[encoded data removed]",
      "text/plain": [
       "<Figure size 432x288 with 1 Axes>"
      ]
     },
     "metadata": {
      "needs_background": "light"
     },
     "output_type": "display_data"
    }
   ],
   "source": [
    "results_unpacked = list(map(list,zip(*[(x[0],x[1][0],x[1][1]) for x in punting_results_tot.items()])))\n",
    "\n",
    "fig, ax = plt.subplots()\n",
    "\n",
    "x_pos = np.arange(len(results_unpacked[0]))\n",
    "ax.bar(x_pos\n",
    "       , results_unpacked[1]\n",
    "       , yerr=results_unpacked[2]\n",
    "       , align='center'\n",
    "       , alpha=0.5\n",
    "       , ecolor='black'\n",
    "       , capsize=10)\n",
    "\n",
    "ax.set_ylabel('Winning fraction')\n",
    "ax.set_xticks(x_pos)\n",
    "ax.set_xticklabels(results_unpacked[0])\n",
    "ax.set_title('Viability of punting strategies, each category')\n",
    "ax.axhline(y=z_plus_res_tot, color='green', linestyle='-', label = 'Z+ score')\n",
    "ax.axhline(y=1/12, color='orange', linestyle='-', label = 'Z score')\n",
    "plt.legend()\n",
    "\n",
    "# Save the figure and show\n",
    "plt.tight_layout()\n",
    "plt.show()"
   ]
  },
  {
   "cell_type": "markdown",
   "id": "4aa7da65",
   "metadata": {},
   "source": [
    "Matching many drafters' intuitions, punting is a better strategy in 'winner take all' than 'each category'. In winner take all, winning ~half of the categories consistently is all that is needed to win every week and maximize points. By contrast, without winner take all, teams will always be punished for losing any category consistently.\n",
    "\n",
    "Punting blocks in winner-take-all is our best strategy so far. Let's take a look at a team generated by the strategy"
   ]
  },
  {
   "cell_type": "code",
   "execution_count": 215,
   "id": "0ef9d674",
   "metadata": {},
   "outputs": [
    {
     "data": {
      "text/plain": [
       "player\n",
       "LaMelo Ball         {'PG'}\n",
       "Desmond Bane        {'SG'}\n",
       "Gary Trent Jr.      {'SG'}\n",
       "DeMar DeRozan       {'PF'}\n",
       "Khris Middleton     {'SF'}\n",
       "Jalen Brunson       {'SG'}\n",
       "Monte Morris        {'PG'}\n",
       "Harrison Barnes     {'PF'}\n",
       "Tyler Herro         {'SG'}\n",
       "Seth Curry          {'SG'}\n",
       "Bojan Bogdanovic    {'PF'}\n",
       "Dwight Powell        {'C'}\n",
       "Jaxson Hayes         {'C'}\n",
       "Drew Eubanks         {'C'}\n",
       "Name: pos, dtype: object"
      ]
     },
     "execution_count": 215,
     "metadata": {},
     "output_type": "execute_result"
    }
   ],
   "source": [
    "primary_agent = ZPlusAgent(player_averages = player_averages\n",
    "                           ,positions = positions\n",
    "                           ,punting_cats = ['blk'])\n",
    "default_agent = ZAgent(player_averages = player_averages\n",
    "                           ,positions = positions\n",
    "                       ,punting_cats = [])\n",
    "\n",
    "i = 6\n",
    "agents = [copy.deepcopy(default_agent) for x in range(i)] + \\\n",
    "                    [copy.deepcopy(primary_agent)] + \\\n",
    "                    [copy.deepcopy(default_agent) for x in range(11-i)]\n",
    "        \n",
    "teams = run_draft(agents ,7)\n",
    "positions.loc[[k for k,v in teams.items() if v == i]]"
   ]
  },
  {
   "cell_type": "markdown",
   "id": "15842709",
   "metadata": {},
   "source": [
    "This team heavily leaned into point guards and deprioritized centers. It won't win on blocks often, but it has such a good squad of shooters that it more than compensates with other categories"
   ]
  },
  {
   "cell_type": "markdown",
   "id": "0675faf2",
   "metadata": {},
   "source": [
    "## 1c. The Gaussian optimizer \n",
    "\n",
    "To start designing a more sophisticated algorithm, let's analyze the points we'll score in a category, and the points an opponent will score in the same category. Where $F_{pc}$ is the number of points scored by player $p$ in category $c$, we can write them as \n",
    "\n",
    "$$\n",
    "  \\sum_{p \\in T_0} F_{pc} \\quad , \\quad \\sum_{p \\in T_1} F_{pc}\n",
    "$$\n",
    "\n",
    "The point differential between the two is\n",
    "\n",
    "$$\n",
    "  \\sum_{p \\in T_1} F_{pc} +  \\sum_{p \\in T_0} - F_{pc}\n",
    "$$\n",
    "\n",
    "$F_{pc}$ itself is the sum of performances across  three games. With $14$ players per team, the point differential is then the sum of $14*2*3 = 84$ random variables. That is large enough to invoke the law of large numbers, which simplifies the distribution to a normal distribution. Writing $m_{pc}$ as the mean of a player $p$'s category $c$ statistics, and $\\sigma_{pc}$ as the corresponding standard deviation, we get it as \n",
    "\n",
    "$$\n",
    "   N(\\sum_{p \\in T_0} m_{pc} - \\sum_{p \\in T_1} m_{pc} \\: , \\: \\sum_{p \\in T_0} \\sigma_{pc}^2 + \\sum_{p \\in T_1} \\sigma_{pc}^2)\n",
    "$$\n",
    "\n",
    "The CDF of this normal distribution at zero, which also represents the probability of victory, is \n",
    "\n",
    "$$\n",
    "   \\frac{1}{2}[1 + erf(\\frac{\\sum_{p \\in T_0} m_{pc} - \\sum_{p \\in T_1} m_{pc}}{\\sqrt{2 (\\sum_{p \\in T_1} \\sigma_{pc}^2 + \\sum_{p \\in T_0} \\sigma_{pc}^2)}}]\n",
    "$$\n",
    "\n",
    "There is one significant wrinkle- free throw percentage and field goal percentage do not work like the other categories, since they are the result of division between two statistics. We can model them a different way. Assuming that each player shoots their average number of shots per game, and their overall percentage is constant throughout the season, then the percentage categories become a sum of binomials (or a Poisson binomial) divided by the number of free throw attempts. The mean of a Poisson binomial is simply the overall weighted mean. The variance of a Poisson binomials is the sum of variance of bernoullis, which can be written as, for example\n",
    "\n",
    "$$\n",
    "    \\sum_{p \\in T} \\frac{FT_p}{FTA_p} * (1-\\frac{FT_p}{FTA_p}) * FTA_p\n",
    "$$\n",
    "\n",
    "or rearranged\n",
    "\n",
    "$$\n",
    "    \\sum_{p \\in T} \\frac{FT_p}{FTA_p} * (FTA_p-FT_p)\n",
    "$$\n",
    "\n",
    "To get the correct variance for the overall percentage statistic, we need to adjust for the division. Variance changes by the square of a change factor so the result is \n",
    "\n",
    "$$\n",
    "    \\frac{ \\sum_{p \\in T} \\frac{FT_p}{FTA_p} * (FTA_p-FT_p)} {(\\sum_{p \\in T} FTA_p)^2}\n",
    "$$\n",
    "\n",
    "This gives us an overall formula for the probability of winning every category. If the format is not winner take all we are done here; the objective is simply to maximize the average category winning probability. \n",
    "\n",
    "If the format is winner take all, we need to calculate the probability of winning a majority of categories.  The distribution of the total categories won is a Poisson binomial, with a component binomial for each category parametrized by $n = 1$ and $p = $ probability of winning the category . Unfortunately the Poisson binomial has a CDF involving quite a bit of calculation- there is just no way to simplify the function besides enumerating all possibilities. Fortunately, the number of winning scenarios is only \n",
    "$$\n",
    "    {9 \\choose 5} + {9 \\choose 6} + {9 \\choose 7} + {9 \\choose 8}  + {9 \\choose 9} = 256\n",
    "$$\n",
    "\n",
    "So we can manually check each way of winning the match (for example, winning points/rebounds/assists/steals and losing the others), calculate their probabilities, and add them together.This gives us a formula, albeit a complicated one, to calculate the predicted win probability between two teams. \n",
    "\n",
    "We can then pick players with the following process:\n",
    "1. Define the statistics of a representative opposing team, or multiple opposing teams\n",
    "2. For each player you could draft, calculate your team's statistics if you chose that player\n",
    "3. For every possibility from step 2, calculate either the expected number of categories won your probability of winning against the team(s) from part 1, depending on whether you are optimizing for winner takes all or not\n",
    "4. Choose the player who gives you the best chance of winning\n",
    "\n",
    "One might argue that the procedure defined above is too greedy because it optimizes winning chances at each step, ignoring players' general value. Ideally we want the optimizer to start by looking at players' general value (total Z+ score), then find players that best fit the team in later rounds. One strategy for this is to make a hybrid score, consisting of both the Gaussian win probability and the Z+ score. Since Z+ scores tend to be larger than win probabilities, we need to include a parameter to de-weight them, which we will call Beta. We can also weigh the Z+ score in a dynamic way, decreasing its importance from 100% to 0% by the last round."
   ]
  },
  {
   "cell_type": "code",
   "execution_count": 216,
   "id": "da45c3f8",
   "metadata": {},
   "outputs": [
    {
     "name": "stdout",
     "output_type": "stream",
     "text": [
      "0:07:51.018662\n"
     ]
    }
   ],
   "source": [
    "def try_beta_strategy(beta, n = 500, winner_take_all = True):\n",
    "    primary_agent = GOAgent(season_df = season_df\n",
    "                             ,player_averages = player_averages\n",
    "                             ,categories = categories\n",
    "                             ,positions = positions\n",
    "                             ,winner_take_all = winner_take_all\n",
    "                             ,punting_cats = []\n",
    "                             ,beta = beta)\n",
    "    default_agent = ZAgent(player_averages = player_averages\n",
    "                           ,positions = positions\n",
    "                           ,punting_cats = [])\n",
    "    res = try_strategy(primary_agent, default_agent, n, winner_take_all = winner_take_all)\n",
    "    variance = np.sqrt(res*(1-res)/(12 * n))\n",
    "    return res, variance\n",
    "\n",
    "start = datetime.now()\n",
    "beta_results_wta = {beta : try_beta_strategy([beta]) for beta in [0,0.05,0.1,0.15,0.2]}\n",
    "beta_results_tot = {beta : try_beta_strategy([beta], winner_take_all = False) for beta in [0,0.05,0.1,0.15,0.2]}\n",
    "print(datetime.now() - start)"
   ]
  },
  {
   "cell_type": "code",
   "execution_count": 217,
   "id": "854b21a1",
   "metadata": {},
   "outputs": [
    {
     "data": {
      "image/png": "[encoded data removed]",
      "text/plain": [
       "<Figure size 432x288 with 1 Axes>"
      ]
     },
     "metadata": {
      "needs_background": "light"
     },
     "output_type": "display_data"
    }
   ],
   "source": [
    "results_unpacked = list(map(list,zip(*[(str(x[0]),x[1][0],x[1][1]) for x in beta_results_wta.items()])))\n",
    "\n",
    "fig, ax = plt.subplots()\n",
    "\n",
    "x_pos = np.arange(len(results_unpacked[0]))\n",
    "ax.bar(x_pos\n",
    "       , results_unpacked[1]\n",
    "       , yerr=results_unpacked[2]\n",
    "       , align='center'\n",
    "       , alpha=0.5\n",
    "       , ecolor='black'\n",
    "       , capsize=10)\n",
    "\n",
    "ax.set_ylabel('Winning fraction')\n",
    "ax.set_xticks(x_pos)\n",
    "ax.set_xticklabels(results_unpacked[0])\n",
    "ax.axhline(y=z_plus_res_wta, color='green', linestyle='-', label = 'Z+ score')\n",
    "ax.axhline(y=1/12, color='orange', linestyle='-', label = 'Z score')\n",
    "plt.legend()\n",
    "\n",
    "# Save the figure and show\n",
    "plt.tight_layout()\n",
    "plt.show()"
   ]
  },
  {
   "cell_type": "markdown",
   "id": "7e08c9dd",
   "metadata": {},
   "source": [
    "We can see a local optimum around Beta = 0.05 which is almost 35%! That is the best-performing strategy we have found so far, by a long shot\n",
    "\n",
    "Let's look at a sample team"
   ]
  },
  {
   "cell_type": "code",
   "execution_count": 220,
   "id": "bd9825cf",
   "metadata": {},
   "outputs": [
    {
     "data": {
      "text/plain": [
       "player\n",
       "LaMelo Ball         {'PG'}\n",
       "Desmond Bane        {'SG'}\n",
       "Kevin Durant        {'PF'}\n",
       "DeMar DeRozan       {'PF'}\n",
       "Khris Middleton     {'SF'}\n",
       "Jarrett Allen        {'C'}\n",
       "Jalen Brunson       {'SG'}\n",
       "Ivica Zubac          {'C'}\n",
       "Deandre Ayton        {'C'}\n",
       "Tyler Herro         {'SG'}\n",
       "Luke Kennard        {'SG'}\n",
       "Pat Connaughton     {'SF'}\n",
       "Bojan Bogdanovic    {'PF'}\n",
       "P.J. Tucker         {'PF'}\n",
       "Name: pos, dtype: object"
      ]
     },
     "execution_count": 220,
     "metadata": {},
     "output_type": "execute_result"
    }
   ],
   "source": [
    "primary_agent = GOAgent(season_df = season_df\n",
    "                             ,player_averages = player_averages\n",
    "                             ,categories = categories\n",
    "                             ,positions = positions\n",
    "                             ,punting_cats = []\n",
    "                            , beta = 0.1)\n",
    "default_agent = ZAgent(player_averages = player_averages\n",
    "                        ,positions = positions\n",
    "                       ,punting_cats = [])\n",
    "\n",
    "i = 6\n",
    "agents = [copy.deepcopy(default_agent) for x in range(i)] + \\\n",
    "                    [copy.deepcopy(primary_agent)] + \\\n",
    "                    [copy.deepcopy(default_agent) for x in range(11-i)]\n",
    "        \n",
    "teams = run_draft(agents ,7)\n",
    "positions.loc[[k for k,v in teams.items() if v == i]]"
   ]
  },
  {
   "cell_type": "markdown",
   "id": "f11e319d",
   "metadata": {},
   "source": [
    "We can see that the optimizer started by taking guards and forwards, then pivoted to centers - presumably to start competing in blocks and rebounds"
   ]
  },
  {
   "cell_type": "code",
   "execution_count": 222,
   "id": "e3ffa349",
   "metadata": {},
   "outputs": [
    {
     "data": {
      "image/png": "[encoded data removed]",
      "text/plain": [
       "<Figure size 432x288 with 1 Axes>"
      ]
     },
     "metadata": {
      "needs_background": "light"
     },
     "output_type": "display_data"
    }
   ],
   "source": [
    "results_unpacked = list(map(list,zip(*[(str(x[0]),x[1][0],x[1][1]) for x in beta_results_tot.items()])))\n",
    "\n",
    "fig, ax = plt.subplots()\n",
    "\n",
    "x_pos = np.arange(len(results_unpacked[0]))\n",
    "ax.bar(x_pos\n",
    "       , results_unpacked[1]\n",
    "       , yerr=results_unpacked[2]\n",
    "       , align='center'\n",
    "       , alpha=0.5\n",
    "       , ecolor='black'\n",
    "       , capsize=10)\n",
    "\n",
    "ax.set_ylabel('Winning fraction')\n",
    "ax.set_xticks(x_pos)\n",
    "ax.set_xticklabels(results_unpacked[0])\n",
    "ax.axhline(y=z_plus_res_tot, color='green', linestyle='-', label = 'Z+ score')\n",
    "ax.axhline(y=1/12, color='orange', linestyle='-', label = 'Z score')\n",
    "plt.legend()\n",
    "\n",
    "# Save the figure and show\n",
    "plt.tight_layout()\n",
    "plt.show()"
   ]
  },
  {
   "cell_type": "markdown",
   "id": "161d0c98",
   "metadata": {},
   "source": [
    "The Gaussian optimizer strategy also works well without winner take all! "
   ]
  }
 ],
 "metadata": {
  "kernelspec": {
   "display_name": "Python 3 (ipykernel)",
   "language": "python",
   "name": "python3"
  },
  "language_info": {
   "codemirror_mode": {
    "name": "ipython",
    "version": 3
   },
   "file_extension": ".py",
   "mimetype": "text/x-python",
   "name": "python",
   "nbconvert_exporter": "python",
   "pygments_lexer": "ipython3",
   "version": "3.9.12"
  }
 },
 "nbformat": 4,
 "nbformat_minor": 5
}
