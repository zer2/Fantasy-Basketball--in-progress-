{
 "cells": [
  {
   "cell_type": "markdown",
   "id": "7274e4f1",
   "metadata": {},
   "source": [
    "![meme](https://i.imgflip.com/6x0g1f.jpg)"
   ]
  },
  {
   "cell_type": "markdown",
   "id": "1a8f61da",
   "metadata": {},
   "source": [
    "# Optimizing fantasy basketball\n",
    "\n",
    "Fantasy basketball is an extremely popular pasttime for nba fans. Participants 'draft' players before the season, then get rewarded for their proxy's in-game performances during the season. \n",
    "\n",
    "One popular format is 'Head-to-Head: Most Categories'. Quoting from ESPN's description of the rules:\n",
    "\n",
    ">Head-to-Head: Most Categories: H2H Most Categories allows you to set \"X\" number of statistic categories. For each scoring period (usually Monday through Sunday) team totals are accumulated in each of the categories. At the end of the scoring period, the winner is determined by which team wins the most number of categories. The end result is a win (1-0-0), loss (0-1-0) or tie (0-0-1). These results correspond directly to each team's overall record.\n",
    "\n",
    "Common settings specify 9 categories: points, rebounds, assists, steals, blocks, 3-pointers, field goal %, free throw %, and turnovers. \n",
    "\n",
    "Participants are paired up to compete week-by-week, and at the end of the season, the player with the best record wins.\n",
    "\n",
    "Understanding the game of basketball helps win fantasy drafts. However, it's not the whole ballgame: even if we had precise probability distributions for player performance beforehand, or exact numbers with no uncertainty, it would not be obvious how to draft correctly. Do we want to optimize for all 9 categories, or just some of them? Do we try to compete on the categories that other drafters are going for, or ones they are not? Do we embrace high-volatility players or low-volatility players? The problem becomes a rich mathematical one, more familiar to data scientists than to basketball enthusiasts\n",
    "\n",
    "There is plenty of speculation about all this within the fantasy basketball community. However, few in the community realize that their strategies are leveraging high-level mathematical intuition. If we lean into the math, and treat this as an optimization problem, can we derive a method for fantasy drafting that delivers consistently high performance?\n",
    "\n",
    "Our approach will be to break down the drafting problem into three mathematical steps\n",
    "- Retrospectively drafting a full previous season, with full knowledge of player performance. Weekly totals will be randomly sampled from actual weekly totals for each player. Fantasy drafting this way becomes a full-information game, and therefore at least one Nash equilibrium exists. We will explore different ways of looking for it \n",
    "- Incorporating uncertainty into the priors of restrospective-drafting. We will explore how the strategy for retrospective drafting changes when there is uncertainty about the underlying probability distributions of player statistics\n",
    "- Using predictive data science methods to make estimates of priors/posteriors for actual performance. This last step will allow us to design an actual drafting algorithm that could be used for a season of fantasy basketball"
   ]
  },
  {
   "cell_type": "markdown",
   "id": "9c67dd3a",
   "metadata": {},
   "source": [
    "# Retrospective drafting\n",
    "\n",
    "Let's lay out the infrastructure for the first step, retrospective drafting"
   ]
  },
  {
   "cell_type": "code",
   "execution_count": 65,
   "id": "d266d129",
   "metadata": {},
   "outputs": [],
   "source": [
    "import pandas as pd\n",
    "from sklearn.preprocessing import StandardScaler, MinMaxScaler, QuantileTransformer\n",
    "from itertools import combinations\n",
    "from collections import Counter\n",
    "import numpy as np\n",
    "from datetime import datetime\n",
    "import matplotlib.pyplot as plt\n",
    "import copy\n",
    "pd.set_option('display.max_rows', 100)\n",
    "pd.options.mode.chained_assignment = None  # default='warn'"
   ]
  },
  {
   "cell_type": "markdown",
   "id": "a3232b21",
   "metadata": {},
   "source": [
    "We will use the raw data from [Advanced Sports Analytics](https://www.advancedsportsanalytics.com/nba-raw-data), which has game-by-game player statistics"
   ]
  },
  {
   "cell_type": "code",
   "execution_count": 2,
   "id": "7bab59ac",
   "metadata": {},
   "outputs": [],
   "source": [
    "stat_df = pd.read_csv('../data/ASA All NBA Raw Data.csv')\n",
    "essential_info = stat_df[['player','game_date','pts','trb','ast','stl','blk','fg3','fg','fga','ft','fta','tov']]"
   ]
  },
  {
   "cell_type": "markdown",
   "id": "a39414b6",
   "metadata": {},
   "source": [
    "The most important infrastructure is code simulating an actual NBA fantasy season, so that we can evaluate the success of our strategies. Actually, since our model is probabilistic, we want to run many seasons and get the average # of wins"
   ]
  },
  {
   "cell_type": "code",
   "execution_count": 166,
   "id": "8355aca1",
   "metadata": {},
   "outputs": [],
   "source": [
    "def run_multiple_seasons(teams\n",
    "                         , n = 100 \n",
    "                        ):\n",
    "    #create a version of the essential info dataframe which incorporate team information for this season\n",
    "    season_df = essential_info.drop(columns = 'game_date')\n",
    "    season_df.loc[:,'team'] = season_df['player'].map(teams) \n",
    "    season_df = season_df.dropna()\n",
    "\n",
    "    #use sampling to simulate many seasons at the same time\n",
    "    #assuming each season has 11 weeks, we need 11 * n total rows of data per player\n",
    "    #ZR: Note that for now a \"week\" of data is just one game per player\n",
    "    #in real basketball multiple games are played per week, so we need to adjust for that \n",
    "    performances = season_df.groupby('player').sample(11*n, replace = True)\n",
    "    performances.loc[:,'week'] = performances.groupby('player').cumcount()\n",
    "    performances.loc[:,'season'] = performances['week'] // 11 #integer division seperates weeks in groups of 11\n",
    "\n",
    "    #total team performances are simply the sum of statistics for each player \n",
    "    team_performances = performances.groupby(['season','team','week']).sum()\n",
    "    \n",
    "    #field goal % and free throw # are calculate on the aggregate level\n",
    "    team_performances.loc[:,'fg_pct'] = np.where(team_performances['fga'] > 0\n",
    "                                             ,team_performances['fg']/team_performances['fga']\n",
    "                                             ,0)\n",
    "    team_performances.loc[:,'ft_pct'] = np.where(team_performances['fta'] > 0\n",
    "                                             ,team_performances['ft']/team_performances['fta']\n",
    "                                             ,0)\n",
    "    \n",
    "    #for all categories except turnovers, higher numbers are better. So we invert turnovers \n",
    "    team_performances['tov'] = - team_performances['tov'] \n",
    "    team_performances = team_performances.drop(columns = ['fg','fga','ft','fta']) #only want category columns\n",
    "    \n",
    "    #we need to map each team to its opponent for the week. We do that with a formula for round robin pairing\n",
    "    opposing_team_schedule = [(s,round_robin_opponent(t,w),w) for s, t, w in team_performances.index]\n",
    "    opposing_team_performances = team_performances.loc[opposing_team_schedule]\n",
    "\n",
    "    cat_losses = np.less(team_performances.values,opposing_team_performances.values).sum(axis = 1)\n",
    "    cat_wins = np.greater(team_performances.values,opposing_team_performances.values).sum(axis = 1)\n",
    "\n",
    "    team_performances.loc[:,'tie'] = cat_wins == cat_losses\n",
    "    team_performances.loc[:,'win'] = cat_wins > cat_losses\n",
    "    team_results = team_performances.groupby(['team','season']).agg({'win' : sum, 'tie' : sum})\n",
    "\n",
    "    #a team cannot win the season if it has fewer wins than any other team \n",
    "    most_wins = team_results.groupby('season')['win'].transform('max')\n",
    "    winners = team_results[team_results['win'] == most_wins]\n",
    "\n",
    "    #among the teams with the most wins, ties are a tiebreaker \n",
    "    most_ties = winners.groupby('season')['tie'].transform('max')\n",
    "    winners_after_ties = winners[winners['tie'] == most_ties]\n",
    "    \n",
    "    #assuming that payouts are divided when multiple teams are exactly tied, we give fractional points \n",
    "    winners_after_ties.loc[:,'winner_points'] = 1\n",
    "    season_counts = winners_after_ties.groupby('season')['winner_points'].transform('count')\n",
    "    winners_after_ties.loc[:,'winner_points_adjusted'] = 1/season_counts\n",
    "    return winners_after_ties.groupby('team')['winner_points_adjusted'].sum()"
   ]
  },
  {
   "cell_type": "markdown",
   "id": "d1c0af46",
   "metadata": {},
   "source": [
    "We invoked a helper function above, \"round_robin_opponent\", without defining it. We need it to assign sensible pairings between competitors. Using [Wikipedia's algorithm for pairing a round robin](https://en.wikipedia.org/wiki/Round-robin_tournament#Circle_method) we can make this work via modular arithmetic"
   ]
  },
  {
   "cell_type": "code",
   "execution_count": 37,
   "id": "2f7d93bc",
   "metadata": {},
   "outputs": [],
   "source": [
    "def round_robin_opponent(t\n",
    "                         , w\n",
    "                         , n =12): # n must be an even number\n",
    "    \n",
    "    if t == 0: #position 0 remains fixed, and the other teams rotate around their (n - 1) spots\n",
    "        return ((n - 2 - w) % (n - 1) ) + 1\n",
    "    elif ((t + w) % 11 ==0): # in spot (n-1) of the non-zero spots, the opponent is 0 \n",
    "        return 0 \n",
    "    else: #we calculate the current position of team, infer the opponent's position, then calculate the opposing team\n",
    "        res = (((n - 1 - (t + w) % (n - 1)) % (n - 1))- w) % (n - 1)\n",
    "        return (n - 1) if res == 0 else res\n",
    "         "
   ]
  },
  {
   "cell_type": "markdown",
   "id": "3c1f2d35",
   "metadata": {},
   "source": [
    "Now we also need to set up the drafting process. A simple drafter will use player stat totals, so we will create a table for them"
   ]
  },
  {
   "cell_type": "code",
   "execution_count": 3,
   "id": "6996109a",
   "metadata": {},
   "outputs": [],
   "source": [
    "player_totals = essential_info.drop(columns= 'game_date').groupby('player').sum()\n",
    "player_totals.loc[:,'ft_pct'] = player_totals['ft']/player_totals['fta']\n",
    "player_totals.loc[:,'fg_pct'] = player_totals['fg']/player_totals['fga']\n",
    "player_totals = player_totals.drop(columns = ['ft','fta','fg','fga'])"
   ]
  },
  {
   "cell_type": "markdown",
   "id": "7f238684",
   "metadata": {},
   "source": [
    "Simple drafting agents will choose the top available player based on this table with some kind of scaling/weighting of categories"
   ]
  },
  {
   "cell_type": "code",
   "execution_count": 236,
   "id": "e46f5f88",
   "metadata": {},
   "outputs": [],
   "source": [
    "class simple_agent():\n",
    "    \n",
    "    def __init__(self\n",
    "                 , punting_cats =[] #categories to completely ignore\n",
    "                 , scaler = StandardScaler()):\n",
    "        \n",
    "        player_totals_scaled = pd.DataFrame(scaler.fit_transform(player_totals)\n",
    "                                            , index = player_totals.index\n",
    "                                            ,columns = player_totals.columns)\n",
    "        player_totals_scaled['tov'] = - player_totals_scaled['tov']\n",
    "        \n",
    "        self.order = player_totals_scaled.drop(columns = punting_cats).sum(axis = 1).sort_values(ascending = False)\n",
    "\n",
    "    def make_pick(self, player_assignments):\n",
    "        \n",
    "        available_players = self.order[~self.order.index.isin(player_assignments.keys())]\n",
    "        chosen_player = available_players.index[0]\n",
    "        \n",
    "        return chosen_player"
   ]
  },
  {
   "cell_type": "markdown",
   "id": "1b342352",
   "metadata": {},
   "source": [
    "Drafts are typically run in the snake format. We'll consider a single round to be the back and forth of the snake- so for example with three drafters, player one picks, player two picks, player three picks two players, player two picks, and player one picks"
   ]
  },
  {
   "cell_type": "code",
   "execution_count": 214,
   "id": "e55ccfe4",
   "metadata": {},
   "outputs": [],
   "source": [
    "def run_draft(agents, number_of_rounds):\n",
    "    \n",
    "    player_assignments = {}\n",
    "    \n",
    "    for i in range(number_of_rounds):\n",
    "        for j in range(len(agents)):\n",
    "            \n",
    "            agent = agents[j]\n",
    "            chosen_player = agent.make_pick(player_assignments)\n",
    "            player_assignments[chosen_player] = j\n",
    "            \n",
    "        for j in reversed(range(len(agents))):\n",
    "            agent = agents[j]\n",
    "            chosen_player = agent.make_pick(player_assignments)\n",
    "            player_assignments[chosen_player] = j\n",
    "\n",
    "    return player_assignments"
   ]
  },
  {
   "cell_type": "markdown",
   "id": "a71916a2",
   "metadata": {},
   "source": [
    "When we test a strategy, we want to see if it works broadly, not just in any one position. So we will create a helper function that tries a strategy in each position against some default agent in all the other positions"
   ]
  },
  {
   "cell_type": "code",
   "execution_count": 258,
   "id": "771239e0",
   "metadata": {},
   "outputs": [],
   "source": [
    "def try_strategy(primary_agent, default_agent, n_seasons):\n",
    "\n",
    "    strategy_res = [[] for i in range(12)]\n",
    "    for i in range(12):\n",
    "        #we need to deepcopy the agents so that they don't share references with each other\n",
    "        agents = [copy.deepcopy(default_agent) for x in range(i)] + \\\n",
    "                    [copy.deepcopy(primary_agent)] + \\\n",
    "                    [copy.deepcopy(default_agent) for x in range(11-i)]\n",
    "        \n",
    "        teams = run_draft(agents ,3)\n",
    "        res = run_multiple_seasons(teams, n_seasons)\n",
    "        strategy_res[i] = (res.get(i)) if (res.get(i)) is not None else 0 \n",
    "    return np.sum(strategy_res)/(12*n_seasons) \n"
   ]
  },
  {
   "cell_type": "markdown",
   "id": "8f6faef2",
   "metadata": {},
   "source": [
    "## 1a. Scaling Strategy\n",
    "\n",
    "What's the best way to scale player stats?"
   ]
  },
  {
   "cell_type": "code",
   "execution_count": 259,
   "id": "5939526d",
   "metadata": {},
   "outputs": [
    {
     "name": "stdout",
     "output_type": "stream",
     "text": [
      "0:00:35.932570\n"
     ]
    },
    {
     "data": {
      "text/html": [
       "<div>\n",
       "<style scoped>\n",
       "    .dataframe tbody tr th:only-of-type {\n",
       "        vertical-align: middle;\n",
       "    }\n",
       "\n",
       "    .dataframe tbody tr th {\n",
       "        vertical-align: top;\n",
       "    }\n",
       "\n",
       "    .dataframe thead th {\n",
       "        text-align: right;\n",
       "    }\n",
       "</style>\n",
       "<table border=\"1\" class=\"dataframe\">\n",
       "  <thead>\n",
       "    <tr style=\"text-align: right;\">\n",
       "      <th></th>\n",
       "      <th>standard</th>\n",
       "      <th>quantile</th>\n",
       "      <th>minmax</th>\n",
       "    </tr>\n",
       "  </thead>\n",
       "  <tbody>\n",
       "    <tr>\n",
       "      <th>standard</th>\n",
       "      <td>NaN</td>\n",
       "      <td>0.107417</td>\n",
       "      <td>0.010986</td>\n",
       "    </tr>\n",
       "    <tr>\n",
       "      <th>quantile</th>\n",
       "      <td>0.052456</td>\n",
       "      <td>NaN</td>\n",
       "      <td>0.131722</td>\n",
       "    </tr>\n",
       "    <tr>\n",
       "      <th>minmax</th>\n",
       "      <td>0.029556</td>\n",
       "      <td>0.391531</td>\n",
       "      <td>NaN</td>\n",
       "    </tr>\n",
       "  </tbody>\n",
       "</table>\n",
       "</div>"
      ],
      "text/plain": [
       "          standard  quantile    minmax\n",
       "standard       NaN  0.107417  0.010986\n",
       "quantile  0.052456       NaN  0.131722\n",
       "minmax    0.029556  0.391531       NaN"
      ]
     },
     "execution_count": 259,
     "metadata": {},
     "output_type": "execute_result"
    }
   ],
   "source": [
    "agents = {'standard' : simple_agent(scaler = StandardScaler())\n",
    "        , 'quantile' :  simple_agent(scaler = QuantileTransformer(n_quantiles = 621))\n",
    "        , 'minmax' : simple_agent(scaler = MinMaxScaler())\n",
    "         }\n",
    "\n",
    "start = datetime.now()\n",
    "combinatorial_results = pd.DataFrame(index = agents.keys(), columns = agents.keys())\n",
    "for primary_agent_name in agents.keys():\n",
    "    for default_agent_name in agents.keys():\n",
    "        if primary_agent_name != default_agent_name:\n",
    "            combinatorial_results.loc[primary_agent_name,default_agent_name] = try_strategy(\n",
    "                                                                        agents[primary_agent_name]\n",
    "                                                                        ,agents[default_agent_name]\n",
    "                                                                        ,500)\n",
    "print(datetime.now() - start)\n",
    "combinatorial_results"
   ]
  },
  {
   "cell_type": "markdown",
   "id": "8b484f6a",
   "metadata": {},
   "source": [
    "Interestingly, no single option seems to be the best. StandardScaler() is generally quite good, but it struggles when it is the only StandardScaler() drafter and everybody else is using MinMaxScaler()\n",
    "\n",
    "At some point we can also try \n",
    "- QuantileTransformer (Gaussian output)\n",
    "- PowerTransformer (box-cox)\n",
    "- RobustScaler"
   ]
  },
  {
   "cell_type": "markdown",
   "id": "1b965956",
   "metadata": {},
   "source": [
    "## 1b. Punting Strategy\n",
    "\n",
    "Many players ignore one or two categories, with the theory that they can make up for losses in that category with strong performances in others. Let's test that"
   ]
  },
  {
   "cell_type": "code",
   "execution_count": 190,
   "id": "61c3f1ed",
   "metadata": {},
   "outputs": [],
   "source": [
    "def try_punting_strategy(punting_cats, n = 500):\n",
    "    primary_agent = simple_agent(punting_cats = punting_cats, scaler = StandardScaler())\n",
    "    default_agent = simple_agent(punting_cats = [], scaler = StandardScaler())\n",
    "    res = try_strategy(primary_agent, default_agent, n)\n",
    "    variance = np.sqrt(res*(1-res)/(12 * n))\n",
    "    return res, variance"
   ]
  },
  {
   "cell_type": "code",
   "execution_count": 191,
   "id": "2a476e7b",
   "metadata": {},
   "outputs": [
    {
     "name": "stdout",
     "output_type": "stream",
     "text": [
      "0:01:04.825371\n"
     ]
    }
   ],
   "source": [
    "start = datetime.now()\n",
    "results = {cat : try_punting_strategy([cat]) for cat in player_totals.columns}\n",
    "print(datetime.now() - start)"
   ]
  },
  {
   "cell_type": "code",
   "execution_count": 192,
   "id": "0d066c7c",
   "metadata": {},
   "outputs": [
    {
     "data": {
      "image/png": "[encoded data removed]",
      "text/plain": [
       "<Figure size 432x288 with 1 Axes>"
      ]
     },
     "metadata": {
      "needs_background": "light"
     },
     "output_type": "display_data"
    }
   ],
   "source": [
    "results_unpacked = list(map(list,zip(*[(x[0],x[1][0],x[1][1]) for x in results.items()])))\n",
    "\n",
    "fig, ax = plt.subplots()\n",
    "\n",
    "x_pos = np.arange(len(results_unpacked[0]))\n",
    "ax.bar(x_pos\n",
    "       , results_unpacked[1]\n",
    "       , yerr=results_unpacked[2]\n",
    "       , align='center'\n",
    "       , alpha=0.5\n",
    "       , ecolor='black'\n",
    "       , capsize=10)\n",
    "\n",
    "ax.set_ylabel('Winning fraction')\n",
    "ax.set_xticks(x_pos)\n",
    "ax.set_xticklabels(results_unpacked[0])\n",
    "ax.set_title('Viability of punting strategies')\n",
    "ax.axhline(y=1/12, color='orange', linestyle='-')\n",
    "\n",
    "# Save the figure and show\n",
    "plt.tight_layout()\n",
    "plt.show()"
   ]
  },
  {
   "cell_type": "markdown",
   "id": "6f79b70c",
   "metadata": {},
   "source": [
    "Seems like punting blocks works reasonably well, but punting any other category decreases your chances of winning. This implies that ignoring points, or rebounds etc. doesn't help you enough in improving your other categories to be worth sacrificing one"
   ]
  },
  {
   "cell_type": "markdown",
   "id": "92c8ba0c",
   "metadata": {},
   "source": [
    "## 1c. Balancing strategy\n",
    "\n",
    "Players will often try to make their teams somewhat balanced. That is, if they already have a player who gets a lot of blocks, they might go for one who scores a lot of points. Let's try to implement that by assing a bonus factor for the product of all categories, disincentivizing specialization"
   ]
  },
  {
   "cell_type": "code",
   "execution_count": 263,
   "id": "4a46f9ca",
   "metadata": {},
   "outputs": [],
   "source": [
    "class balanced_agent():\n",
    "    \n",
    "    def __init__(self, alpha = 1):\n",
    "        \n",
    "        player_totals_scaled = pd.DataFrame(MinMaxScaler().fit_transform(player_totals)\n",
    "                                    , index = player_totals.index\n",
    "                                    ,columns = player_totals.columns)\n",
    "        player_totals_scaled['tov'] = 1 - player_totals_scaled['tov']\n",
    "        \n",
    "        player_totals_scaled.loc[:,'on_team'] = False\n",
    "        self.stats = player_totals_scaled\n",
    "        self.alpha = alpha\n",
    "        \n",
    "    def make_pick(self, player_assignments):\n",
    "        \n",
    "        current_stats = self.stats[self.stats['on_team']].drop(columns = 'on_team').sum(axis = 0)\n",
    "        \n",
    "        available_players = self.stats[~self.stats.index.isin(player_assignments.keys())].drop(columns = 'on_team')\n",
    "        available_players.loc[:,'obj'] = [(row + current_stats).product()*self.alpha + (row + current_stats).sum()\n",
    "                                          for i, row in available_players.iterrows()]\n",
    "        chosen_player = available_players['obj'].idxmax()\n",
    "        self.stats.loc[chosen_player,'on_team'] = True \n",
    "        return chosen_player"
   ]
  },
  {
   "cell_type": "code",
   "execution_count": 288,
   "id": "754763cc",
   "metadata": {},
   "outputs": [],
   "source": [
    "def try_alpha_strategy(alpha, n = 1000):\n",
    "    primary_agent = balanced_agent(alpha = alpha)\n",
    "    default_agent = simple_agent(punting_cats = [], scaler = MinMaxScaler())\n",
    "    res = try_strategy(primary_agent, default_agent, n)\n",
    "    variance = np.sqrt(res*(1-res)/(12 * n))\n",
    "    return res, variance"
   ]
  },
  {
   "cell_type": "code",
   "execution_count": 289,
   "id": "51e81884",
   "metadata": {},
   "outputs": [
    {
     "name": "stdout",
     "output_type": "stream",
     "text": [
      "0:01:45.562879\n"
     ]
    }
   ],
   "source": [
    "start = datetime.now()\n",
    "alpha_results = {alpha : try_alpha_strategy(alpha) for alpha in [0,0.05,0.1,0.15,0.2]}\n",
    "print(datetime.now() - start)"
   ]
  },
  {
   "cell_type": "code",
   "execution_count": 290,
   "id": "d238d4a0",
   "metadata": {},
   "outputs": [
    {
     "data": {
      "image/png": "[encoded data removed]",
      "text/plain": [
       "<Figure size 432x288 with 1 Axes>"
      ]
     },
     "metadata": {
      "needs_background": "light"
     },
     "output_type": "display_data"
    }
   ],
   "source": [
    "alpha_results_unpacked = list(map(list,zip(*[(x[0],x[1][0],x[1][1]) for x in alpha_results.items()])))\n",
    "\n",
    "fig, ax = plt.subplots()\n",
    "\n",
    "x_pos = np.arange(len(alpha_results_unpacked[0]))\n",
    "ax.bar(x_pos\n",
    "       , alpha_results_unpacked[1]\n",
    "       , yerr=alpha_results_unpacked[2]\n",
    "       , align='center'\n",
    "       , alpha=0.5\n",
    "       , ecolor='black'\n",
    "       , capsize=10)\n",
    "\n",
    "ax.set_ylabel('Winning fraction')\n",
    "ax.set_xticks(x_pos)\n",
    "ax.set_xticklabels(alpha_results_unpacked[0])\n",
    "ax.set_title('Viability of alpha values')\n",
    "ax.axhline(y=1/12, color='orange', linestyle='-')\n",
    "\n",
    "# Save the figure and show\n",
    "plt.tight_layout()\n",
    "plt.show()"
   ]
  },
  {
   "cell_type": "markdown",
   "id": "94a60226",
   "metadata": {},
   "source": [
    "It seems like a small amount of balancing does help a bit, though the effect is small\n",
    "\n",
    "Psuedocode and thoughts below here: "
   ]
  },
  {
   "cell_type": "code",
   "execution_count": null,
   "id": "e5507330",
   "metadata": {},
   "outputs": [],
   "source": [
    "\n",
    "class gaussian_optimizer_agent():\n",
    "    \n",
    "    def __init__(self):\n",
    "        \n",
    "        #make a table with player averages + standard deviations as additional columns \n",
    "        \n",
    "    def make_pick(self, player_assignments):\n",
    "        \n",
    "        #1. compute average stats of all players taken by other teams so far, mean and std. for each category\n",
    "        #scale all the numbers up according to the round #, to get average team of correct size \n",
    "        \n",
    "        #2.compute sum of all players you have taken so far, mean and std. for each category. Add those sums\n",
    "        #to each potential new player, to calculate metric mean/std sums of your team if you take that new player \n",
    "        \n",
    "        #3.for each set of team-level metrics corresponding to a potential new player, and for each category,\n",
    "        #calculate probability of winning the category against the average team created in part 1\n",
    "        #use the normal CDF formula: 1/2[1 + erf((M_yours - M_opposing) / sqrt(2)(s_yours + s_opposing))]\n",
    "        \n",
    "        #4. make a column for the probability of each winning category combination (e.g. win first 5, lose next 4)\n",
    "        #there are 256 of them so the result will be a ~ 621 x 256 matrix\n",
    "        \n",
    "        #5. sum up the probabilities per player, and choose the player with the highest probability \n",
    "        \n",
    "        self.stats.loc[chosen_player,'on_team'] = True \n",
    "        return chosen_player"
   ]
  }
 ],
 "metadata": {
  "kernelspec": {
   "display_name": "Python 3 (ipykernel)",
   "language": "python",
   "name": "python3"
  },
  "language_info": {
   "codemirror_mode": {
    "name": "ipython",
    "version": 3
   },
   "file_extension": ".py",
   "mimetype": "text/x-python",
   "name": "python",
   "nbconvert_exporter": "python",
   "pygments_lexer": "ipython3",
   "version": "3.9.12"
  }
 },
 "nbformat": 4,
 "nbformat_minor": 5
}
