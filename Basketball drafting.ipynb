{
 "cells": [
  {
   "cell_type": "markdown",
   "id": "7274e4f1",
   "metadata": {},
   "source": [
    "![meme](https://i.imgflip.com/6x0g1f.jpg)"
   ]
  },
  {
   "cell_type": "markdown",
   "id": "1a8f61da",
   "metadata": {},
   "source": [
    "# Optimizing fantasy basketball\n",
    "\n",
    "Fantasy basketball is an extremely popular pasttime for nba fans. Participants 'draft' players before the season, then get rewarded for their proxy's in-game performances during the season. \n",
    "\n",
    "One popular format is 'Head-to-Head: Most Categories'. Quoting from ESPN's description of the rules:\n",
    "\n",
    ">Head-to-Head: Most Categories: H2H Most Categories allows you to set \"X\" number of statistic categories. For each scoring period (usually Monday through Sunday) team totals are accumulated in each of the categories. At the end of the scoring period, the winner is determined by which team wins the most number of categories. The end result is a win (1-0-0), loss (0-1-0) or tie (0-0-1). These results correspond directly to each team's overall record.\n",
    "\n",
    "Common settings specify 9 categories: points, rebounds, assists, steals, blocks, 3-pointers, field goal %, free throw %, and turnovers. \n",
    "\n",
    "Participants are paired up to compete week-by-week, and at the end of the season, the player with the best record wins.\n",
    "\n",
    "Understanding the game of basketball helps win fantasy drafts. However, it's not the whole ballgame: even if we had precise probability distributions for player performance beforehand, or exact numbers with no uncertainty, it would not be obvious how to draft correctly. Do we want to optimize for all 9 categories, or just some of them? Do we try to compete on the categories that other drafters are going for, or ones they are not? Do we embrace high-volatility players or low-volatility players? The problem becomes a rich mathematical one, more familiar to data scientists than to basketball enthusiasts\n",
    "\n",
    "There is plenty of speculation about all this within the fantasy basketball community. However, few in the community realize that their strategies are leveraging high-level mathematical intuition. If we lean into the math, and treat this as an optimization problem, can we derive a method for fantasy drafting that delivers consistently high performance?\n",
    "\n",
    "Our approach will be to break down the drafting problem into three mathematical steps\n",
    "- Retrospectively drafting a full previous season, with full knowledge of player performance. Weekly totals will be randomly sampled from actual weekly totals for each player. Fantasy drafting this way becomes a full-information game, and therefore at least one Nash equilibrium exists. We will explore different ways of looking for it \n",
    "- Incorporating uncertainty into the priors of restrospective-drafting. We will explore how the strategy for retrospective drafting changes when there is uncertainty about the underlying probability distributions of player statistics\n",
    "- Using predictive data science methods to make estimates of priors/posteriors for actual performance. This last step will allow us to design an actual drafting algorithm that could be used for a season of fantasy basketball"
   ]
  },
  {
   "cell_type": "markdown",
   "id": "9c67dd3a",
   "metadata": {},
   "source": [
    "# Retrospective drafting\n",
    "\n",
    "Let's lay out the infrastructure for the first step, retrospective drafting"
   ]
  },
  {
   "cell_type": "code",
   "execution_count": 374,
   "id": "d266d129",
   "metadata": {},
   "outputs": [],
   "source": [
    "import pandas as pd\n",
    "from sklearn.preprocessing import StandardScaler, MinMaxScaler, QuantileTransformer\n",
    "from itertools import combinations\n",
    "from collections import Counter\n",
    "import numpy as np\n",
    "from datetime import datetime\n",
    "import matplotlib.pyplot as plt\n",
    "import copy\n",
    "from scipy import special\n",
    "pd.set_option('display.max_rows', 100)\n",
    "pd.options.mode.chained_assignment = None  # default='warn'"
   ]
  },
  {
   "cell_type": "markdown",
   "id": "a3232b21",
   "metadata": {},
   "source": [
    "We will use the raw data from [Advanced Sports Analytics](https://www.advancedsportsanalytics.com/nba-raw-data), which has game-by-game player statistics"
   ]
  },
  {
   "cell_type": "code",
   "execution_count": 375,
   "id": "7bab59ac",
   "metadata": {},
   "outputs": [],
   "source": [
    "stat_df = pd.read_csv('../data/ASA All NBA Raw Data.csv')\n",
    "essential_info = stat_df[['player','game_date','pts','trb','ast','stl','blk','fg3','fg','fga','ft','fta','tov']]"
   ]
  },
  {
   "cell_type": "markdown",
   "id": "6c54eb13",
   "metadata": {},
   "source": [
    "The most important infrastructure is code simulating an actual NBA fantasy season, so that we can evaluate the success of our strategies. Actually, since our model is probabilistic, we want to run many seasons and get the average # of wins"
   ]
  },
  {
   "cell_type": "code",
   "execution_count": 480,
   "id": "757bd533",
   "metadata": {},
   "outputs": [],
   "source": [
    "essential_info['game_date'] = pd.to_datetime(essential_info['game_date'])\n",
    "essential_info_2021_season = essential_info[(essential_info['game_date'] >= '2021-10-19') &  \\\n",
    "                                            (essential_info['game_date'] <= '2022-4-10')]\n",
    "essential_info_2021_season['week'] = essential_info['game_date'].dt.isocalendar()['week']\n",
    "\n",
    "weekly_df_index = pd.MultiIndex.from_product([pd.unique(essential_info_2021_season['player'])\n",
    "                                             ,pd.unique(essential_info_2021_season['week'])]\n",
    "                                             ,names = ['player','week'])\n",
    "weekly_df_2021_season = essential_info_2021_season.drop(columns = ['game_date']).groupby(['player','week']).sum()\n",
    "weekly_df_2021_season = pd.DataFrame(weekly_df_2021_season, index = weekly_df_index ).fillna(0)"
   ]
  },
  {
   "cell_type": "code",
   "execution_count": 554,
   "id": "e76caf41",
   "metadata": {},
   "outputs": [],
   "source": [
    "def run_multiple_seasons(teams\n",
    "                         , n = 100 \n",
    "                         , detailed = False):\n",
    "    #create a version of the essential info dataframe which incorporate team information for this season\n",
    "    season_df = weekly_df_2021_season.reset_index().drop(columns = 'week')\n",
    "    season_df.loc[:,'team'] = season_df['player'].map(teams) \n",
    "\n",
    "    #use sampling to simulate many seasons at the same time\n",
    "    #assuming each season has 11 weeks, we need 11 * n total rows of data per player\n",
    "    #ZR: Note that for now a \"week\" of data is just one game per player\n",
    "    #in real basketball multiple games are played per week, so we need to adjust for that \n",
    "    performances = season_df.groupby('player').sample(25*n, replace = True)\n",
    "    performances.loc[:,'week'] = performances.groupby('player').cumcount()\n",
    "    performances.loc[:,'season'] = performances['week'] // 25 #integer division seperates weeks in groups of 11\n",
    "\n",
    "    #total team performances are simply the sum of statistics for each player \n",
    "    team_performances = performances.groupby(['season','team','week']).sum()\n",
    "    \n",
    "    #field goal % and free throw # are calculate on the aggregate level\n",
    "    team_performances.loc[:,'fg_pct'] = np.where(team_performances['fga'] > 0\n",
    "                                             ,team_performances['fg']/team_performances['fga']\n",
    "                                             ,0)\n",
    "    team_performances.loc[:,'ft_pct'] = np.where(team_performances['fta'] > 0\n",
    "                                             ,team_performances['ft']/team_performances['fta']\n",
    "                                             ,0)\n",
    "    \n",
    "    #for all categories except turnovers, higher numbers are better. So we invert turnovers \n",
    "    team_performances['tov'] = - team_performances['tov'] \n",
    "    team_performances = team_performances.drop(columns = ['fg','fga','ft','fta']) #only want category columns\n",
    "    \n",
    "    #we need to map each team to its opponent for the week. We do that with a formula for round robin pairing\n",
    "    opposing_team_schedule = [(s,round_robin_opponent(t,w),w) for s, t, w in team_performances.index]\n",
    "    opposing_team_performances = team_performances.loc[opposing_team_schedule]\n",
    "\n",
    "    cat_losses = np.less(team_performances.values,opposing_team_performances.values).sum(axis = 1)\n",
    "    cat_wins = np.greater(team_performances.values,opposing_team_performances.values).sum(axis = 1)\n",
    "\n",
    "    team_performances.loc[:,'tie'] = cat_wins == cat_losses\n",
    "    team_performances.loc[:,'win'] = cat_wins > cat_losses\n",
    "    team_results = team_performances.groupby(['team','season']).agg({'win' : sum, 'tie' : sum})\n",
    "\n",
    "    #a team cannot win the season if it has fewer wins than any other team \n",
    "    most_wins = team_results.groupby('season')['win'].transform('max')\n",
    "    winners = team_results[team_results['win'] == most_wins]\n",
    "\n",
    "    #among the teams with the most wins, ties are a tiebreaker \n",
    "    most_ties = winners.groupby('season')['tie'].transform('max')\n",
    "    winners_after_ties = winners[winners['tie'] == most_ties]\n",
    "    \n",
    "    #assuming that payouts are divided when multiple teams are exactly tied, we give fractional points \n",
    "    winners_after_ties.loc[:,'winner_points'] = 1\n",
    "    season_counts = winners_after_ties.groupby('season')['winner_points'].transform('count')\n",
    "    winners_after_ties.loc[:,'winner_points_adjusted'] = 1/season_counts\n",
    "    \n",
    "    if not detailed:\n",
    "        return winners_after_ties.groupby('team')['winner_points_adjusted'].sum()\n",
    "    else:\n",
    "        return winners_after_ties.groupby('team')['winner_points_adjusted'].sum(), team_performances, opposing_team_performances"
   ]
  },
  {
   "cell_type": "markdown",
   "id": "7c684220",
   "metadata": {},
   "source": [
    "We invoked a helper function above, \"round_robin_opponent\", without defining it. We need it to assign sensible pairings between competitors. Using [Wikipedia's algorithm for pairing a round robin](https://en.wikipedia.org/wiki/Round-robin_tournament#Circle_method) we can make this work via modular arithmetic"
   ]
  },
  {
   "cell_type": "code",
   "execution_count": 555,
   "id": "e75a4b78",
   "metadata": {},
   "outputs": [],
   "source": [
    "def round_robin_opponent(t\n",
    "                         , w\n",
    "                         , n =12): # n must be an even number\n",
    "    \n",
    "    if t == 0: #position 0 remains fixed, and the other teams rotate around their (n - 1) spots\n",
    "        return ((n - 2 - w) % (n - 1) ) + 1\n",
    "    elif ((t + w) % 11 ==0): # in spot (n-1) of the non-zero spots, the opponent is 0 \n",
    "        return 0 \n",
    "    else: #we calculate the current position of team, infer the opponent's position, then calculate the opposing team\n",
    "        res = (((n - 1 - (t + w) % (n - 1)) % (n - 1))- w) % (n - 1)\n",
    "        return (n - 1) if res == 0 else res\n",
    "         "
   ]
  },
  {
   "cell_type": "markdown",
   "id": "b9f6f4f9",
   "metadata": {},
   "source": [
    "Now we also need to set up the drafting process. A simple drafter will use player stat totals, so we will create a table for them"
   ]
  },
  {
   "cell_type": "code",
   "execution_count": 556,
   "id": "6996109a",
   "metadata": {},
   "outputs": [],
   "source": [
    "player_averages = weekly_df_2021_season.reset_index().drop(columns= 'week').groupby('player').mean()\n",
    "player_averages.loc[:,'ft_pct'] = player_averages['ft']/player_averages['fta']\n",
    "player_averages.loc[:,'fg_pct'] = player_averages['fg']/player_averages['fga']\n",
    "player_averages = player_averages.drop(columns = ['ft','fta','fg','fga'])\n",
    "categories = player_averages.columns"
   ]
  },
  {
   "cell_type": "markdown",
   "id": "5713ecaf",
   "metadata": {},
   "source": [
    "Simple drafting agents will choose the top available player based on this table with some kind of scaling/weighting of categories"
   ]
  },
  {
   "cell_type": "markdown",
   "id": "dd7e8559",
   "metadata": {},
   "source": [
    "Drafts are typically run in the snake format. We'll consider a single round to be the back and forth of the snake- so for example with three drafters, player one picks, player two picks, player three picks two players, player two picks, and player one picks"
   ]
  },
  {
   "cell_type": "code",
   "execution_count": 558,
   "id": "e55ccfe4",
   "metadata": {},
   "outputs": [],
   "source": [
    "def run_draft(agents, number_of_rounds):\n",
    "    \n",
    "    player_assignments = {}\n",
    "    \n",
    "    for i in range(number_of_rounds):\n",
    "        for j in range(len(agents)):\n",
    "            \n",
    "            agent = agents[j]\n",
    "            chosen_player = agent.make_pick(player_assignments)\n",
    "            player_assignments[chosen_player] = j\n",
    "            \n",
    "        for j in reversed(range(len(agents))):\n",
    "            agent = agents[j]\n",
    "            chosen_player = agent.make_pick(player_assignments)\n",
    "            player_assignments[chosen_player] = j\n",
    "\n",
    "    return player_assignments"
   ]
  },
  {
   "cell_type": "markdown",
   "id": "f546c6d4",
   "metadata": {},
   "source": [
    "When we test a strategy, we want to see if it works broadly, not just in any one position. So we will create a helper function that tries a strategy in each position against some default agent in all the other positions"
   ]
  },
  {
   "cell_type": "code",
   "execution_count": 559,
   "id": "72002861",
   "metadata": {},
   "outputs": [],
   "source": [
    "def try_strategy(primary_agent, default_agent, n_seasons):\n",
    "\n",
    "    strategy_res = [[] for i in range(12)]\n",
    "    teams_selected = [[] for i in range(12)]\n",
    "    for i in range(12):\n",
    "        #we need to deepcopy the agents so that they don't share references with each other\n",
    "        agents = [copy.deepcopy(default_agent).set_draft_number(x) for x in range(i)] + \\\n",
    "                    [copy.deepcopy(primary_agent).set_draft_number(i)] + \\\n",
    "                    [copy.deepcopy(default_agent).set_draft_number(i + x + 1) for x in range(11-i)]\n",
    "        \n",
    "        teams = run_draft(agents ,1)\n",
    "        teams_selected[i] = [k for k,v in teams.items() if v == i]\n",
    "        res = run_multiple_seasons(teams, n_seasons)\n",
    "        strategy_res[i] = (res.get(i)) if (res.get(i)) is not None else 0 \n",
    "        \n",
    "    return np.sum(strategy_res)/(12*n_seasons) , teams_selected\n"
   ]
  },
  {
   "cell_type": "markdown",
   "id": "0ea8c635",
   "metadata": {},
   "source": [
    "## 1a. Z-scores\n",
    "\n",
    "Fantasy rankings are often made by summing players' z-scores (this means exactly the same thing as it does in statistics, the # of standard deviations away from the mean) by category. We can use this methodology as a naive baselines for player rankings. Since many real drafters use z-scores, we can expect that the strategies that work the best against z-scores will do the best in practice. \n",
    "\n",
    "Normally, z-scores are calculated based on the league average. This is slightly odd because most league players never get used in fantasy drafts, and shouldn't influence our way of thinking about relevant players. Perhaps we can improve on the basic z-score methodology by re-scaling with only the top players"
   ]
  },
  {
   "cell_type": "code",
   "execution_count": 578,
   "id": "995b0ec6",
   "metadata": {},
   "outputs": [],
   "source": [
    "class z_score_agent():\n",
    "    \n",
    "    def __init__(self\n",
    "                 , punting_cats =[] #categories to completely ignore\n",
    "                 ):\n",
    "        \n",
    "        player_averages_scaled = pd.DataFrame(StandardScaler().fit_transform(player_averages)\n",
    "                                            , index = player_averages.index\n",
    "                                            ,columns = player_averages.columns)\n",
    "        player_averages_scaled['tov'] = - player_averages_scaled['tov']\n",
    "        \n",
    "        self.order = player_averages_scaled.drop(columns = punting_cats).sum(axis = 1).sort_values(ascending = False)\n",
    "\n",
    "    def make_pick(self, player_assignments):\n",
    "        \n",
    "        available_players = self.order[~self.order.index.isin(player_assignments.keys())]\n",
    "        chosen_player = available_players.index[0]\n",
    "        \n",
    "        return chosen_player\n",
    "    \n",
    "    def set_draft_number(self, draft_number):\n",
    "        return self #doesn't use draft number\n",
    "    \n",
    "class z_plus_agent():\n",
    "    \n",
    "    def __init__(self\n",
    "                 , punting_cats =[] #categories to completely ignore\n",
    "                 ):\n",
    "        \n",
    "        first_order_scaled = pd.DataFrame(StandardScaler().fit_transform(player_averages)\n",
    "                                            , index = player_averages.index\n",
    "                                            ,columns = player_averages.columns)\n",
    "        first_order_scaled['tov'] = - first_order_scaled['tov']\n",
    "        \n",
    "        first_order = first_order_scaled.drop(columns = punting_cats).sum(axis = 1).sort_values(ascending = False)\n",
    "        top_200 = first_order.index[0:100]\n",
    "        \n",
    "        plus_scaler = StandardScaler().fit(player_averages.loc[top_200])\n",
    "        \n",
    "        second_order_scaled = pd.DataFrame(plus_scaler.transform(player_averages)\n",
    "                                            , index = player_averages.index\n",
    "                                            ,columns = player_averages.columns)\n",
    "        second_order_scaled['tov'] = - second_order_scaled['tov']\n",
    "        \n",
    "        self.order = second_order_scaled.drop(columns = punting_cats).sum(axis = 1).sort_values(ascending = False)\n",
    "\n",
    "    def make_pick(self, player_assignments):\n",
    "        \n",
    "        available_players = self.order[~self.order.index.isin(player_assignments.keys())]\n",
    "        chosen_player = available_players.index[0]\n",
    "        \n",
    "        return chosen_player\n",
    "    \n",
    "    def set_draft_number(self, draft_number):\n",
    "        return self #doesn't use draft number"
   ]
  },
  {
   "cell_type": "code",
   "execution_count": 597,
   "id": "55813507",
   "metadata": {},
   "outputs": [
    {
     "name": "stdout",
     "output_type": "stream",
     "text": [
      "0.12345138888888887\n",
      "0:01:04.389384\n"
     ]
    }
   ],
   "source": [
    "start = datetime.now()\n",
    "primary_agent = z_plus_agent()\n",
    "default_agent = z_score_agent()\n",
    "res, teams = try_strategy(primary_agent, default_agent, 1000)\n",
    "print(res)\n",
    "print(datetime.now() - start)"
   ]
  },
  {
   "cell_type": "markdown",
   "id": "1eeb9029",
   "metadata": {},
   "source": [
    "It seems like this does work considerably better than the baseline! "
   ]
  },
  {
   "cell_type": "markdown",
   "id": "2e7542d6",
   "metadata": {},
   "source": [
    "## 1b. Optimization through punting\n",
    "\n",
    "There is one more common strategy that we should consider: punting. Many fantasy drafters choose to ignore some number of categories in order to improve their performance in the other categories. We will test this to see if it gives our methodology a boost"
   ]
  },
  {
   "cell_type": "code",
   "execution_count": 581,
   "id": "10273e34",
   "metadata": {},
   "outputs": [],
   "source": [
    "def try_punting_strategy(punting_cats, n = 500):\n",
    "    primary_agent = z_plus_agent(punting_cats = punting_cats)\n",
    "    default_agent = z_score_agent(punting_cats = [])\n",
    "    res, _ = try_strategy(primary_agent, default_agent, n)\n",
    "    variance = np.sqrt(res*(1-res)/(12 * n))\n",
    "    return res, variance"
   ]
  },
  {
   "cell_type": "code",
   "execution_count": 582,
   "id": "fcad7603",
   "metadata": {},
   "outputs": [
    {
     "name": "stdout",
     "output_type": "stream",
     "text": [
      "0:04:45.454720\n"
     ]
    }
   ],
   "source": [
    "start = datetime.now()\n",
    "results = {cat : try_punting_strategy([cat]) for cat in categories}\n",
    "print(datetime.now() - start)"
   ]
  },
  {
   "cell_type": "code",
   "execution_count": 583,
   "id": "5849ebf3",
   "metadata": {},
   "outputs": [
    {
     "data": {
      "image/png": "[encoded data removed]",
      "text/plain": [
       "<Figure size 432x288 with 1 Axes>"
      ]
     },
     "metadata": {
      "needs_background": "light"
     },
     "output_type": "display_data"
    }
   ],
   "source": [
    "results_unpacked = list(map(list,zip(*[(x[0],x[1][0],x[1][1]) for x in results.items()])))\n",
    "\n",
    "fig, ax = plt.subplots()\n",
    "\n",
    "x_pos = np.arange(len(results_unpacked[0]))\n",
    "ax.bar(x_pos\n",
    "       , results_unpacked[1]\n",
    "       , yerr=results_unpacked[2]\n",
    "       , align='center'\n",
    "       , alpha=0.5\n",
    "       , ecolor='black'\n",
    "       , capsize=10)\n",
    "\n",
    "ax.set_ylabel('Winning fraction')\n",
    "ax.set_xticks(x_pos)\n",
    "ax.set_xticklabels(results_unpacked[0])\n",
    "ax.set_title('Viability of punting strategies')\n",
    "ax.axhline(y=1/12, color='orange', linestyle='-')\n",
    "\n",
    "# Save the figure and show\n",
    "plt.tight_layout()\n",
    "plt.show()"
   ]
  },
  {
   "cell_type": "markdown",
   "id": "0675faf2",
   "metadata": {},
   "source": [
    "Seems like punting some categories reasonably well, but none of these results are as good as the basic z_plus score. This implies that ignoring points, or rebounds etc. doesn't help you enough in improving your other categories to be worth sacrificing one\n",
    "\n",
    "Is there a better way to decide what to punt? Perhaps one based on a more sophisticated algorithm?\n",
    "\n",
    "## 1c. The Gaussian optimizer \n",
    "\n",
    "To start designing a more sophisticated algorithm, let's analyze the points we'll score in a category, and the points an opponent will score in the same category. Where $F_{pc}$ is the number of points scored by player $p$ in category $c$, we can write them as \n",
    "\n",
    "$$\n",
    "  \\sum_{p \\in T_0} F_{pc} \\quad , \\quad \\sum_{p \\in T_1} F_{pc})\n",
    "$$\n",
    "\n",
    "The point differential between the two is\n",
    "\n",
    "$$\n",
    "  \\sum_{p \\in T_1} F_{pc} +  \\sum_{p \\in T_0} - F_{pc}\n",
    "$$\n",
    "\n",
    "With 8 players per team, the point differential is a sum of 16 random variables. That is large enough that it is not crazy to invoke the law of large numbers, which simplifies the distribution to a normal distribution. Writing $m_{pc}$ as the mean of a player $p$'s category $c$ statistics, and $\\sigma_{pc}$ as the corresponding standard deviation, we get it as \n",
    "\n",
    "$$\n",
    "   N(\\sum_{p \\in T_1} m_{pc} - \\sum_{p \\in T_0} m_{pc} \\: , \\: \\sum_{p \\in T_1} \\sigma_{pc} + \\sum_{p \\in T_0} \\sigma_{pc})\n",
    "$$\n",
    "\n",
    "The CDF of this normal distribution at 0, which also represents the probability of victory, is \n",
    "\n",
    "$$\n",
    "   \\frac{1}{2}[1 + erf(\\frac{\\sum_{p \\in T_0} m_{pc} - \\sum_{p \\in T_1} m_{pc}}{\\sqrt{2} (\\sum_{p \\in T_1} \\sigma_{pc} + \\sum_{p \\in T_0} \\sigma_{pc})})]\n",
    "$$\n",
    "\n",
    "We can use this formula to calculate the probabilities of winning each category. The distribution of the total categories won is then a variant of the binomial distribution, where the individual events can have different probabilities. This distribution is known as a Poisson Binomial, which unfortunately has a CDF involving quite a bit of calculation- there is just no way to simplify the function besides enumerating all possibilities. Fortunately, the number of winning scenarios is only \n",
    "$$\n",
    "    {9 \\choose 5} + {9 \\choose 6} + {9 \\choose 7} + {9 \\choose 8} + {9 \\choose 9} =256\n",
    "$$\n",
    "\n",
    "So we can manually check each way of winning the match (for example, winning points/rebounds/assists/steals/blocks and losing the others), calculate their probabilities, and add them together.\n",
    "\n",
    "This gives us a formula, albeit a complicated one, to calculate the predicted win probability between two teams. We can use that to aid drafting with the following process:\n",
    "1. Define the statistics of an average opposing team \n",
    "2. For each player you could draft, calculate your team's statistics if you chose that player\n",
    "3. For every possibility from step 2, calculate your probability of winning against the team from part 1\n",
    "4. Choose the player who gives you the best chance of winning"
   ]
  },
  {
   "cell_type": "code",
   "execution_count": 563,
   "id": "01ba8c0a",
   "metadata": {},
   "outputs": [],
   "source": [
    "#this recursive function allows us to enumerate the 256 winning probabilities efficiently\n",
    "#it allows the drafter to work ~5 times faster than it would with a list comprehension for the same step \n",
    "def combinatorial_calculation(c\n",
    "                              , c_comp\n",
    "                              , data = 1 #the latest probabilities. Defaults to 1 at start\n",
    "                              , level = 0 #the number of categories that have been worked into the probability\n",
    "                              , n_false = 0 #the number of category losses that have been trackes so far\n",
    "                             ):\n",
    "    \n",
    "    if n_false > 4: #scenarios where more >4 scenarios are lost are overall losses, and do not contribute to winning %\n",
    "        return 0 \n",
    "    elif level < 9:\n",
    "        #find the total winning probability of both branches from this point- if we win or lose the current category \n",
    "        return combinatorial_calculation(c, c_comp, data * c[categories[level]], level + 1, n_false) + \\\n",
    "                combinatorial_calculation(c, c_comp, data * c_comp[categories[level]], level + 1, n_false + 1)\n",
    "    else: #a series where all 9 categories has been processed, and n_false <=4, can simply be added to the total %\n",
    "        return data\n",
    "    \n",
    "class gaussian_optimizer_agent():\n",
    "    \n",
    "    def __init__(self):\n",
    "        \n",
    "        #make a table with player averages + standard deviations as additional columns \n",
    "        player_stats = weekly_df_2021_season.reset_index()\n",
    "        player_stats.loc[:,'ft_pct'] = player_stats['ft']/player_stats['fta']\n",
    "        player_stats.loc[:,'fg_pct'] = player_stats['fg']/player_stats['fga']\n",
    "        self.player_stats = player_stats.groupby('player')[categories].agg(['mean','std'])\n",
    "        \n",
    "    def make_pick(self, player_assignments):\n",
    "        \n",
    "        if not player_assignments:\n",
    "            return 'Nikola Jokic'\n",
    "        \n",
    "        my_players = [k for k,v in player_assignments.items() if v == self.draft_number]\n",
    "        round_n = len(my_players) \n",
    "        \n",
    "        #1. compute average stats of all players taken by other teams so far, mean and std. for each category\n",
    "        #scale all the numbers up according to the round #, to get average team of correct size \n",
    "        \n",
    "        #filter player totals by index being present in player_assignments.keys()\n",
    "        #calculate the average means and stds of players taken so far per category (9 means and 9 stds)\n",
    "        #multiply the average means and stds by the round number (9 means and 9 std)\n",
    "        #call this other_team_stats\n",
    "                \n",
    "        players_taken_so_far = self.player_stats.loc[self.player_stats.index.isin(player_assignments.keys())]\n",
    "        average_team_so_far = players_taken_so_far.agg('mean') * (round_n + 1)\n",
    "        \n",
    "        #2.compute sum of all players you have taken so far, mean and std. for each category. Add those sums\n",
    "        #to each potential new player, to calculate metric mean/std sums of your team if you take that new player \n",
    "        \n",
    "        my_team_stats = self.player_stats.loc[my_players].sum()\n",
    "        available_players = self.player_stats.loc[~self.player_stats.index.isin(player_assignments.keys())]\n",
    "        theoretical_stats = available_players + my_team_stats\n",
    "        \n",
    "        #3.for each set of team-level metrics corresponding to a potential new player, and for each category,\n",
    "        #calculate probability of winning the category against the average team created in part 1\n",
    "        #use the normal CDF formula: 1/2[1 + erf((M_yours - M_opposing) / sqrt(2)(s_yours + s_opposing))]\n",
    "        \n",
    "        my_means = theoretical_stats.iloc[:, theoretical_stats.columns.get_level_values(1)=='mean']\n",
    "        my_means.columns = my_means.columns.droplevel(1)\n",
    "        my_stds = theoretical_stats.iloc[:, theoretical_stats.columns.get_level_values(1)=='std']\n",
    "        my_stds.columns = my_stds.columns.droplevel(1)\n",
    "        their_means = average_team_so_far.loc[:, 'mean']\n",
    "        their_stds = average_team_so_far.loc[:, 'mean']\n",
    "        my_means['tov'] = - my_means['tov'] \n",
    "        their_means['tov'] = - their_means['tov'] \n",
    "        \n",
    "        z = (my_means - their_means)/(np.sqrt(2) * (my_stds + their_stds))\n",
    "        c = (1 + special.erf(z))/2\n",
    "        c_comp = 1 - c\n",
    "        \n",
    "        #4. Use the combinatorial calculation function to get total winning probabilities\n",
    "        #and choose the player with the higher one\n",
    "        scores = combinatorial_calculation(c, c_comp)\n",
    "        chosen_player = scores.idxmax()\n",
    "        #5. sum up the probabilities per player, and choose the player with the highest probability \n",
    "        return chosen_player\n",
    "    \n",
    "    def set_draft_number(self, draft_number):\n",
    "        self.draft_number = draft_number\n",
    "        return self #doesn't use draft number    "
   ]
  },
  {
   "cell_type": "code",
   "execution_count": 564,
   "id": "de8b34b8",
   "metadata": {},
   "outputs": [
    {
     "name": "stdout",
     "output_type": "stream",
     "text": [
      "0.12291666666666666\n",
      "0:01:05.028092\n"
     ]
    }
   ],
   "source": [
    "start = datetime.now()\n",
    "primary_agent = gaussian_optimizer_agent()\n",
    "default_agent = z_score_agent(punting_cats = [])\n",
    "res, teams = try_strategy(primary_agent, default_agent, 1000)\n",
    "print(res)\n",
    "print(datetime.now() - start)"
   ]
  },
  {
   "cell_type": "markdown",
   "id": "4711e369",
   "metadata": {},
   "source": [
    "This does about as well as the z_plus strategy\n",
    "\n",
    "## 1d. The softer Gaussian optimizer \n",
    "\n",
    "One might argue that the Gaussian optimizer is overly greedy- it is always looking for the player that will get wins as things stand, without considering what other players it could pick up later. A smarter way to use the Gaussian optimizer might be for later rounds, after the overall best players have been picked. to shore up the team in the smartest way"
   ]
  },
  {
   "cell_type": "code",
   "execution_count": 595,
   "id": "1e0c5b4c",
   "metadata": {},
   "outputs": [],
   "source": [
    "class soft_gaussian_optimizer_agent():\n",
    "    \n",
    "    def __init__(self):\n",
    "        \n",
    "        #make a table with player averages + standard deviations as additional columns \n",
    "        player_stats = weekly_df_2021_season.reset_index()\n",
    "        player_stats.loc[:,'ft_pct'] = player_stats['ft']/player_stats['fta']\n",
    "        player_stats.loc[:,'fg_pct'] = player_stats['fg']/player_stats['fga']\n",
    "        self.player_stats = player_stats.groupby('player')[categories].agg(['mean','std'])\n",
    "        \n",
    "        #save a default order for the first few rounds\n",
    "        first_order_scaled = pd.DataFrame(StandardScaler().fit_transform(player_averages)\n",
    "                                            , index = player_averages.index\n",
    "                                            ,columns = player_averages.columns)\n",
    "        first_order_scaled['tov'] = - first_order_scaled['tov']\n",
    "        \n",
    "        first_order = first_order_scaled.sum(axis = 1).sort_values(ascending = False)\n",
    "        top_200 = first_order.index[0:100]\n",
    "        \n",
    "        plus_scaler = StandardScaler().fit(player_averages.loc[top_200])\n",
    "        \n",
    "        second_order_scaled = pd.DataFrame(plus_scaler.transform(player_averages)\n",
    "                                            , index = player_averages.index\n",
    "                                            ,columns = player_averages.columns)\n",
    "        second_order_scaled['tov'] = - second_order_scaled['tov']\n",
    "        \n",
    "        self.order = second_order_scaled.sum(axis = 1).sort_values(ascending = False)\n",
    "        \n",
    "    def make_pick(self, player_assignments):\n",
    "        \n",
    "        my_players = [k for k,v in player_assignments.items() if v == self.draft_number]\n",
    "        round_n = len(my_players) \n",
    "        \n",
    "        #before going into the complicated logic: default to the simple order for the first few rounds\n",
    "        if round_n < 3:\n",
    "            available_players = self.order[~self.order.index.isin(player_assignments.keys())]\n",
    "            chosen_player = available_players.index[0]\n",
    "            return chosen_player\n",
    "        \n",
    "        #1. compute average stats of all players taken by other teams so far, mean and std. for each category\n",
    "        #scale all the numbers up according to the round #, to get average team of correct size \n",
    "        \n",
    "        #filter player totals by index being present in player_assignments.keys()\n",
    "        #calculate the average means and stds of players taken so far per category (9 means and 9 stds)\n",
    "        #multiply the average means and stds by the round number (9 means and 9 std)\n",
    "        #call this other_team_stats\n",
    "                \n",
    "        players_taken_so_far = self.player_stats.loc[self.player_stats.index.isin(player_assignments.keys())]\n",
    "        average_team_so_far = players_taken_so_far.agg('mean') * (round_n + 1)\n",
    "        \n",
    "        #2.compute sum of all players you have taken so far, mean and std. for each category. Add those sums\n",
    "        #to each potential new player, to calculate metric mean/std sums of your team if you take that new player \n",
    "        \n",
    "        my_team_stats = self.player_stats.loc[my_players].sum()\n",
    "        available_players = self.player_stats.loc[~self.player_stats.index.isin(player_assignments.keys())]\n",
    "        theoretical_stats = available_players + my_team_stats\n",
    "        \n",
    "        #3.for each set of team-level metrics corresponding to a potential new player, and for each category,\n",
    "        #calculate probability of winning the category against the average team created in part 1\n",
    "        #use the normal CDF formula: 1/2[1 + erf((M_yours - M_opposing) / sqrt(2)(s_yours + s_opposing))]\n",
    "        \n",
    "        my_means = theoretical_stats.iloc[:, theoretical_stats.columns.get_level_values(1)=='mean']\n",
    "        my_means.columns = my_means.columns.droplevel(1)\n",
    "        my_stds = theoretical_stats.iloc[:, theoretical_stats.columns.get_level_values(1)=='std']\n",
    "        my_stds.columns = my_stds.columns.droplevel(1)\n",
    "        their_means = average_team_so_far.loc[:, 'mean']\n",
    "        their_stds = average_team_so_far.loc[:, 'mean']\n",
    "        my_means['tov'] = - my_means['tov'] \n",
    "        their_means['tov'] = - their_means['tov'] \n",
    "        \n",
    "        z = (my_means - their_means)/(np.sqrt(2) * (my_stds + their_stds))\n",
    "        c = (1 + special.erf(z))/2\n",
    "        c_comp = 1 - c\n",
    "        \n",
    "        #4. Use the combinatorial calculation function to get total winning probabilities\n",
    "        #and choose the player with the higher one\n",
    "        scores = combinatorial_calculation(c, c_comp)\n",
    "        chosen_player = scores.idxmax()\n",
    "        #5. sum up the probabilities per player, and choose the player with the highest probability \n",
    "        return chosen_player\n",
    "    \n",
    "    def set_draft_number(self, draft_number):\n",
    "        self.draft_number = draft_number\n",
    "        return self #doesn't use draft number    "
   ]
  },
  {
   "cell_type": "code",
   "execution_count": 596,
   "id": "e14c434f",
   "metadata": {},
   "outputs": [
    {
     "name": "stdout",
     "output_type": "stream",
     "text": [
      "0.12919444444444442\n",
      "0:01:01.896196\n"
     ]
    }
   ],
   "source": [
    "start = datetime.now()\n",
    "primary_agent = soft_gaussian_optimizer_agent()\n",
    "default_agent = z_score_agent(punting_cats = [])\n",
    "res, teams = try_strategy(primary_agent, default_agent, 1000)\n",
    "print(res)\n",
    "print(datetime.now() - start)"
   ]
  },
  {
   "cell_type": "markdown",
   "id": "01d2ce4d",
   "metadata": {},
   "source": [
    "This methodology works better than both the z_plus and Gaussian optimizer methodologies, though the difference is slight. They all have roughly comparable performance"
   ]
  }
 ],
 "metadata": {
  "kernelspec": {
   "display_name": "Python 3 (ipykernel)",
   "language": "python",
   "name": "python3"
  },
  "language_info": {
   "codemirror_mode": {
    "name": "ipython",
    "version": 3
   },
   "file_extension": ".py",
   "mimetype": "text/x-python",
   "name": "python",
   "nbconvert_exporter": "python",
   "pygments_lexer": "ipython3",
   "version": "3.9.12"
  }
 },
 "nbformat": 4,
 "nbformat_minor": 5
}
