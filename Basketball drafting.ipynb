{
 "cells": [
  {
   "cell_type": "markdown",
   "id": "7274e4f1",
   "metadata": {},
   "source": [
    "![meme](https://i.imgflip.com/6x0g1f.jpg)"
   ]
  },
  {
   "cell_type": "markdown",
   "id": "1a8f61da",
   "metadata": {},
   "source": [
    "# Optimizing fantasy basketball\n",
    "\n",
    "Fantasy basketball is an extremely popular pasttime for nba fans. Participants 'draft' players before the season, then get rewarded for their proxy's in-game performances during the season. \n",
    "\n",
    "One popular format is 'Head-to-Head: Most Categories'. Quoting from ESPN's description of the rules:\n",
    "\n",
    ">Head-to-Head: Most Categories: H2H Most Categories allows you to set \"X\" number of statistic categories. For each scoring period (usually Monday through Sunday) team totals are accumulated in each of the categories. At the end of the scoring period, the winner is determined by which team wins the most number of categories. The end result is a win (1-0-0), loss (0-1-0) or tie (0-0-1). These results correspond directly to each team's overall record.\n",
    "\n",
    "Common settings specify 9 categories: points, rebounds, assists, steals, blocks, 3-pointers, field goal %, free throw %, and turnovers. \n",
    "\n",
    "Participants are paired up to compete week-by-week, and at the end of the season, the player with the best record wins.\n",
    "\n",
    "Understanding the game of basketball helps win fantasy drafts. However, it's not the whole ballgame: even if we had precise probability distributions for player performance beforehand, or exact numbers with no uncertainty, it would not be obvious how to draft correctly. Do we want to optimize for all 9 categories, or just some of them? Do we try to compete on the categories that other drafters are going for, or ones they are not? Do we embrace high-volatility players or low-volatility players? The problem becomes a rich mathematical one, more familiar to data scientists than to basketball enthusiasts\n",
    "\n",
    "There is plenty of speculation about all this within the fantasy basketball community. However, few in the community realize that their strategies are leveraging high-level mathematical intuition. If we lean into the math, and treat this as an optimization problem, can we derive a method for fantasy drafting that delivers consistently high performance?\n",
    "\n",
    "Our approach will be to break down the drafting problem into three mathematical steps\n",
    "- Retrospectively drafting a full previous season, with full knowledge of player performance. Weekly totals will be randomly sampled from actual weekly totals for each player. Fantasy drafting this way becomes a purely mathematical problem, and an optimal strategy definitely exists. We will explore different ways of looking for it \n",
    "- Incorporating uncertainty into the priors of restrospective-drafting. We will explore how the strategy for retrospective drafting changes when there is uncertainty about the underlying probability distributions of player statistics\n",
    "- Using predictive data science methods to make estimates of priors/posteriors for actual performance. This last step will allow us to design an actual drafting algorithm that could be used for a season of fantasy basketball"
   ]
  },
  {
   "cell_type": "markdown",
   "id": "9c67dd3a",
   "metadata": {},
   "source": [
    "# Retrospective drafting"
   ]
  },
  {
   "cell_type": "code",
   "execution_count": 16,
   "id": "d266d129",
   "metadata": {},
   "outputs": [],
   "source": [
    "import pandas as pd\n",
    "from sklearn.preprocessing import StandardScaler, MinMaxScaler\n",
    "from itertools import combinations\n",
    "from collections import Counter\n",
    "import numpy as np\n",
    "from datetime import datetime\n",
    "import matplotlib.pyplot as plt\n",
    "pd.set_option('display.max_rows', 100)\n",
    "\n",
    "pd.options.mode.chained_assignment = None  # default='warn'"
   ]
  },
  {
   "cell_type": "markdown",
   "id": "a3232b21",
   "metadata": {},
   "source": [
    "We will use the raw data from [link](https://www.advancedsportsanalytics.com/nba-raw-data)"
   ]
  },
  {
   "cell_type": "code",
   "execution_count": 2,
   "id": "7bab59ac",
   "metadata": {},
   "outputs": [],
   "source": [
    "stat_df = pd.read_csv('../data/ASA All NBA Raw Data.csv')\n",
    "essential_info = stat_df[['player','game_date','pts','trb','ast','stl','blk','fg3','fg','fga','ft','fta','tov']]"
   ]
  },
  {
   "cell_type": "code",
   "execution_count": 3,
   "id": "6996109a",
   "metadata": {},
   "outputs": [],
   "source": [
    "player_totals = essential_info.drop(columns= 'game_date').groupby(['player']).sum()\n",
    "player_totals.loc[:,'ft_pct'] = player_totals['ft']/player_totals['fta']\n",
    "player_totals.loc[:,'fg_pct'] = player_totals['fg']/player_totals['fga']\n",
    "player_totals = player_totals.drop(columns = ['ft','fta','fg','fga'])"
   ]
  },
  {
   "cell_type": "code",
   "execution_count": 4,
   "id": "847beb83",
   "metadata": {},
   "outputs": [],
   "source": [
    "scaler = StandardScaler()\n",
    "player_totals_scaled = pd.DataFrame(scaler.fit_transform(player_totals)\n",
    "                                    , index = player_totals.index\n",
    "                                    ,columns = player_totals.columns)\n",
    "player_totals_scaled['tov'] = - player_totals_scaled['tov']"
   ]
  },
  {
   "cell_type": "code",
   "execution_count": 5,
   "id": "199798a8",
   "metadata": {},
   "outputs": [],
   "source": [
    "mm_scaler = MinMaxScaler()\n",
    "player_totals_mm = pd.DataFrame(scaler.fit_transform(player_totals)\n",
    "                                    , index = player_totals.index\n",
    "                                    ,columns = player_totals.columns)\n",
    "player_totals_mm['tov'] = - player_totals_scaled['tov']"
   ]
  },
  {
   "cell_type": "code",
   "execution_count": 6,
   "id": "49413bee",
   "metadata": {},
   "outputs": [],
   "source": [
    "#defining round robin opponents, based on the circle method \n",
    "def round_robin_opponent(t\n",
    "                         , w\n",
    "                         , n =12): # n must be an even number\n",
    "    \n",
    "    if t == 0: #position 0 remains fixed, and the other teams rotate around their (n - 1) spots\n",
    "        return ((n - 2 - w) % (n - 1) ) + 1\n",
    "    elif ((t + w) % 11 ==0): # in spot (n-1) of the non-zero spots, the opponent is 0 \n",
    "        return 0 \n",
    "    else: #we calculate the current position of team, infer the opponent's position, then calculate the opposing team\n",
    "        res = (((n - 1 - (t + w) % (n - 1)) % (n - 1))- w) % (n - 1)\n",
    "        return (n - 1) if res == 0 else res\n",
    "         \n",
    "#this is based on the circle method "
   ]
  },
  {
   "cell_type": "code",
   "execution_count": 7,
   "id": "25329ef1",
   "metadata": {},
   "outputs": [],
   "source": [
    "def run_multiple_seasons(teams, n = 100):\n",
    "    #returns the winner\n",
    "    season_df = essential_info.drop(columns = 'game_date')\n",
    "    season_df.loc[:,'team'] = season_df['player'].map(teams) \n",
    "    season_df = season_df.dropna()\n",
    "\n",
    "    performances = season_df.groupby('player').sample(11*n, replace = True)\n",
    "    performances.loc[:,'week'] = performances.groupby('player').cumcount()\n",
    "    performances.loc[:,'season'] = performances['week'] // 11\n",
    "\n",
    "    team_performances = performances.groupby(['season','team','week']).sum()\n",
    "    team_performances.loc[:,'fg_pct'] = np.where(team_performances['fga'] > 0\n",
    "                                             ,team_performances['fg']/team_performances['fga']\n",
    "                                             ,0)\n",
    "    team_performances.loc[:,'ft_pct'] = np.where(team_performances['fta'] > 0\n",
    "                                             ,team_performances['ft']/team_performances['fta']\n",
    "                                             ,0)\n",
    "    team_performances = team_performances.drop(columns = ['fg','fga','ft','fta'])\n",
    "    opposing_team_schedule = [(s,round_robin_opponent(t,w),w) for s, t, w in team_performances.index]\n",
    "    opposing_team_performances = team_performances.loc[opposing_team_schedule]\n",
    "\n",
    "    cat_losses = np.less(team_performances.values,opposing_team_performances.values).sum(axis = 1)\n",
    "    cat_wins = np.greater(team_performances.values,opposing_team_performances.values).sum(axis = 1)\n",
    "\n",
    "    team_performances.loc[:,'tie'] = cat_wins == cat_losses\n",
    "    team_performances.loc[:,'win'] = cat_wins > cat_losses\n",
    "    team_results = team_performances.groupby(['team','season']).agg({'win' : sum, 'tie' : sum})\n",
    "\n",
    "    most_wins = team_results.groupby('season')['win'].transform('max')\n",
    "    winners = team_results[team_results['win'] == most_wins]\n",
    "\n",
    "    most_ties = winners.groupby('season')['tie'].transform('max')\n",
    "    winners_after_ties = winners[winners['tie'] == most_ties]\n",
    "    winners_after_ties.loc[:,'winner_points'] = 1\n",
    "    season_counts = winners_after_ties.groupby('season')['winner_points'].transform('count')\n",
    "    winners_after_ties.loc[:,'winner_points_adjusted'] = 1/season_counts\n",
    "    return winners_after_ties.groupby('team')['winner_points_adjusted'].sum()"
   ]
  },
  {
   "cell_type": "code",
   "execution_count": 8,
   "id": "0e8b5308",
   "metadata": {},
   "outputs": [],
   "source": [
    "class punt_agent():\n",
    "    \n",
    "    def __init__(self, punting_cats =[], minmax = True):\n",
    "        tbl = player_totals_mm if minmax else player_totals_scaled\n",
    "        self.order = tbl.drop(columns = punting_cats).sum(axis = 1).sort_values(ascending = False)\n",
    "\n",
    "    def make_pick(self, players_available):\n",
    "        f = pd.Series(self.order.index.isin(players_available), index = self.order.index)\n",
    "        chosen_player = next(i for i,v in f.iteritems() if v)\n",
    "        return chosen_player\n",
    "    \n",
    "class random_agent():\n",
    "    \n",
    "    def __init__(self, punting_cats):\n",
    "        self.order = player_totals_scaled.shuffle()\n",
    "\n",
    "    def make_pick(self, players_available):\n",
    "        f = pd.Series(self.order.index.isin(players_available), index = self.order.index)\n",
    "        chosen_player = next(i for i,v in f.iteritems() if v)\n",
    "        return chosen_player\n"
   ]
  },
  {
   "cell_type": "code",
   "execution_count": 9,
   "id": "e55ccfe4",
   "metadata": {},
   "outputs": [],
   "source": [
    "def run_draft(agents, number_of_rounds):\n",
    "    players_available = set(player_totals.index)\n",
    "    \n",
    "    player_assignments = {}\n",
    "    for i in range(number_of_rounds):\n",
    "        for j in range(len(agents)):\n",
    "            agent = agents[j]\n",
    "            chosen_player = agent.make_pick(players_available)\n",
    "            players_available.remove(chosen_player)\n",
    "            player_assignments[chosen_player] = j\n",
    "        for j in reversed(range(len(agents))):\n",
    "            agent = agents[j]\n",
    "            chosen_player = agent.make_pick(players_available)\n",
    "            players_available.remove(chosen_player)\n",
    "            player_assignments[chosen_player] = j\n",
    "\n",
    "    return player_assignments"
   ]
  },
  {
   "cell_type": "code",
   "execution_count": 10,
   "id": "de1f7ed1",
   "metadata": {},
   "outputs": [],
   "source": [
    "def try_strategy(primary_agent, default_agent, n_seasons):\n",
    "\n",
    "    strategy_res = [[] for i in range(12)]\n",
    "    for i in range(12):\n",
    "        agents = [default_agent]* i + [primary_agent] + [default_agent]*(11 - i)\n",
    "        teams = run_draft(agents ,3)\n",
    "        res = run_multiple_seasons(teams, n_seasons)\n",
    "\n",
    "        strategy_res[i] = (res.get(i)) if (res.get(i)) is not None else 0 \n",
    "\n",
    "    return np.sum(strategy_res)/(12*n_seasons)\n"
   ]
  },
  {
   "cell_type": "code",
   "execution_count": 11,
   "id": "03f7babf",
   "metadata": {},
   "outputs": [],
   "source": [
    "def try_punting_strategy(punting_cats, n = 500):\n",
    "    primary_agent = punt_agent(punting_cats = punting_cats, minmax = True)\n",
    "    default_agent = punt_agent(punting_cats = [], minmax = True)\n",
    "    res = try_strategy(primary_agent, default_agent, n)\n",
    "    variance = np.sqrt(res*(1-res)/(12 * n))\n",
    "    return res, variance"
   ]
  },
  {
   "cell_type": "code",
   "execution_count": 12,
   "id": "ece4788a",
   "metadata": {},
   "outputs": [
    {
     "name": "stdout",
     "output_type": "stream",
     "text": [
      "0:00:50.036098\n"
     ]
    }
   ],
   "source": [
    "start = datetime.now()\n",
    "results = {cat : try_punting_strategy([cat]) for cat in player_totals.columns}\n",
    "print(datetime.now() - start)"
   ]
  },
  {
   "cell_type": "code",
   "execution_count": 22,
   "id": "54751c55",
   "metadata": {},
   "outputs": [
    {
     "data": {
      "image/png": "[encoded data removed]",
      "text/plain": [
       "<Figure size 432x288 with 1 Axes>"
      ]
     },
     "metadata": {
      "needs_background": "light"
     },
     "output_type": "display_data"
    }
   ],
   "source": [
    "results_unpacked = list(map(list,zip(*[(x[0],x[1][0],x[1][1]) for x in results.items()])))\n",
    "\n",
    "fig, ax = plt.subplots()\n",
    "\n",
    "x_pos = np.arange(len(results_unpacked[0]))\n",
    "ax.bar(x_pos\n",
    "       , results_unpacked[1]\n",
    "       , yerr=results_unpacked[2]\n",
    "       , align='center'\n",
    "       , alpha=0.5\n",
    "       , ecolor='black'\n",
    "       , capsize=10)\n",
    "\n",
    "ax.set_ylabel('Winning fraction')\n",
    "ax.set_xticks(x_pos)\n",
    "ax.set_xticklabels(results_unpacked[0])\n",
    "ax.set_title('Viability of punting strategies')\n",
    "ax.axhline(y=1/12, color='orange', linestyle='-')\n",
    "\n",
    "# Save the figure and show\n",
    "plt.tight_layout()\n",
    "plt.show()"
   ]
  }
 ],
 "metadata": {
  "kernelspec": {
   "display_name": "Python 3 (ipykernel)",
   "language": "python",
   "name": "python3"
  },
  "language_info": {
   "codemirror_mode": {
    "name": "ipython",
    "version": 3
   },
   "file_extension": ".py",
   "mimetype": "text/x-python",
   "name": "python",
   "nbconvert_exporter": "python",
   "pygments_lexer": "ipython3",
   "version": "3.9.12"
  }
 },
 "nbformat": 4,
 "nbformat_minor": 5
}
