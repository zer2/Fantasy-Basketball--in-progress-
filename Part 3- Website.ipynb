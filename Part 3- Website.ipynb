{
 "cells": [
  {
   "cell_type": "code",
   "execution_count": 1,
   "id": "a39078ff",
   "metadata": {},
   "outputs": [],
   "source": [
    "from dash import Dash, html, dcc, callback, Output, Input, State, dash_table, no_update, ALL, MATCH, callback_context\n",
    "from jupyter_dash import JupyterDash\n",
    "import plotly.express as px\n",
    "import pandas as pd"
   ]
  },
  {
   "cell_type": "code",
   "execution_count": 36,
   "id": "1b278b17",
   "metadata": {},
   "outputs": [],
   "source": [
    "predictions = pd.read_csv('predictions.csv', index_col = 'player')\n",
    "\n",
    "\n",
    "mean_of_means = pd.read_csv('mean_of_means.csv', index_col = 0).iloc[:,0]\n",
    "var_of_means = pd.read_csv('var_of_means.csv', index_col = 0).iloc[:,0]\n",
    "mean_of_vars = pd.read_csv('mean_of_vars.csv', index_col = 0).iloc[:,0]"
   ]
  },
  {
   "cell_type": "markdown",
   "id": "f0685de2",
   "metadata": {},
   "source": [
    "#three tabs:\n",
    "\n",
    "- Player info, defaults to prediction. Scrolling list of all eligible players, with editable prediction stats. Converts to Z-scores, G-scores, and X-scores, as well as Z-effective, G-effective, and X-effective\n",
    "- Drafting. 13 x 12, with three boxes at the top for recommendations by G,Z, and H. Every time one of the 13 x 12 boxes is changed, the algorithms get run and the top players are selected \n",
    "- Auction value. "
   ]
  },
  {
   "cell_type": "code",
   "execution_count": 24,
   "id": "dfebc5e0",
   "metadata": {},
   "outputs": [
    {
     "name": "stdout",
     "output_type": "stream",
     "text": [
      "Dash is running on http://127.0.0.1:8050/\n",
      "\n",
      "Dash app running on http://127.0.0.1:8050/\n"
     ]
    }
   ],
   "source": [
    "\n",
    "app = JupyterDash(__name__)\n",
    "\n",
    "drafters = list(range(1,13))\n",
    "picks = list(range(1,14))\n",
    "\n",
    "width = str(100/len(drafters)) + '%'\n",
    "\n",
    "#add a tab for player info \n",
    "#for now just use the g-scores\n",
    "\n",
    "\n",
    "titles_by_drafter = [html.H1([html.H1(str(i))]\n",
    "                            ,style={'textAlign': 'center','fontSize' : 10,'width' : width,'display': 'inline-block'}\n",
    "                            )\n",
    "                    for i in drafters\n",
    "                   ]\n",
    "\n",
    "\n",
    "#change the ID structure from (type, index) to (type, drafter, pick)\n",
    "dropdowns_by_drafter = [ \n",
    "                        html.Div(\n",
    "                            [html.Div(id = {'type' : 'dropdown-parent'\n",
    "                                             ,'drafter' : i\n",
    "                                             ,'pick' : j},\n",
    "                                children = dcc.Dropdown(id = {'type' : 'dropdown-selection'\n",
    "                                                              ,'drafter' : i\n",
    "                                                              ,'pick' : j}\n",
    "                                                 ) \n",
    "                                                    ,style = {'justify_content' : 'center'\n",
    "                                                              ,'align-items' : 'center'\n",
    "                                                              ,'width' : '90%'\n",
    "                                                              ,'padding-left' : '5%'\n",
    "                                                              ,'padding-right' : '5%'\n",
    "                                                              ,'height' : '5vh'}\n",
    "                                          )\n",
    "                                 for j in picks\n",
    "                            ] \n",
    "                                ,style={'textAlign': 'center'\n",
    "                                        ,'fontSize' : 10\n",
    "                                        ,'width' : width\n",
    "                                        ,'display': 'inline-block'}\n",
    "                               )\n",
    "                            for i in drafters\n",
    "                       ]\n",
    "\n",
    "app.layout = html.Div([\n",
    "    html.H1(children='Draft Simulator', style={'textAlign':'center'})\n",
    "    ,html.H1(titles_by_drafter)\n",
    "    ,html.H1(dropdowns_by_drafter)\n",
    "    ,dcc.Store(id='player-data', data = df.to_dict('index'))\n",
    "    ,dcc.Store(id='players-available', data = df.index.values)\n",
    "    ,dcc.Store(id='current-pick', data = {'player' : 1, 'pick' : 1 })\n",
    "\n",
    "])\n",
    "\n",
    "@callback(\n",
    "    Output('players-available', 'data'),\n",
    "    State('player-data', 'data'),\n",
    "    Input({\"type\": \"dropdown-selection\", \"drafter\": ALL , \"pick\" : ALL}, \"value\"),\n",
    "    prevent_initial_call=True\n",
    ")\n",
    "def update_available_players(player_data,selected_players):\n",
    "    \n",
    "    all_players = pd.Series(player_data.keys())\n",
    "    res = all_players[~all_players.isin(selected_players)]\n",
    "    return res\n",
    "\n",
    "\n",
    "@callback(\n",
    "    Output({\"type\": \"dropdown-selection\", \"drafter\": MATCH, \"pick\" : MATCH}, 'options'),\n",
    "    State('players-available', 'data'),\n",
    "    State({\"type\": \"dropdown-selection\", \"drafter\": MATCH, \"pick\" : MATCH}, 'value'),\n",
    "    Input({\"type\": \"dropdown-parent\", \"drafter\": MATCH, \"pick\" : MATCH}, \"n_clicks\"),\n",
    "    prevent_initial_call=True\n",
    ")\n",
    "def update_dropdown(available_players,dropdown_value, _):\n",
    "    \n",
    "    if dropdown_value is None:\n",
    "        all_players = available_players\n",
    "    else:\n",
    "        all_players = [dropdown_value] + available_players \n",
    "        \n",
    "    return[{'label' : player, 'value' : player} for player in all_players] \n",
    "\n",
    "@callback(\n",
    "    Output('current-pick', 'data'),\n",
    "    Input({\"type\": \"dropdown-selection\", \"drafter\": ALL, \"pick\" : ALL}, 'value'),\n",
    "    prevent_initial_call=True\n",
    ")\n",
    "def update_current_pick(selected_players):\n",
    "    \n",
    "    trigger = callback_context.triggered_id\n",
    "    drafter = trigger['drafter']\n",
    "    pick = trigger['pick']\n",
    "    \n",
    "    if pick%2 ==1:\n",
    "        if drafter ==12:\n",
    "            new_drafter = 12\n",
    "            new_pick = pick + 1\n",
    "        else:\n",
    "            new_drafter = drafter + 1\n",
    "            new_pick = pick\n",
    "    else:\n",
    "        if drafter == 1:\n",
    "            new_drafter = 1\n",
    "            new_pick = pick + 1\n",
    "        else:\n",
    "            new_drafter = drafter - 1\n",
    "            new_pick = pick\n",
    "\n",
    "    return {'drafter' : new_drafter, 'pick' : new_pick}\n",
    "   \n",
    "@callback(\n",
    "    Output({\"type\": \"dropdown-parent\", \"drafter\": MATCH, \"pick\" : MATCH}, 'style'),\n",
    "    Input('current-pick', 'data'),\n",
    "    State({\"type\": \"dropdown-selection\", \"drafter\": MATCH, \"pick\" : MATCH}, 'value'),\n",
    "\n",
    "    prevent_initial_call=True\n",
    ")\n",
    "def show_current_pick(current_pick, _):\n",
    "    \n",
    "    current_drafter = current_pick['drafter']\n",
    "    current_pick = current_pick['pick']\n",
    "    \n",
    "    output_id = callback_context.outputs_list[0]['id']\n",
    "    \n",
    "    if (output_id['drafter'] == current_drafter) & (output_id['pick'] == current_pick):\n",
    "        color = 'blue'\n",
    "    else:\n",
    "        color = None\n",
    "    \n",
    "    return {'justify_content' : 'center'\n",
    "              ,'align-items' : 'center'\n",
    "              ,'width' : '90%'\n",
    "              ,'padding-left' : '5%'\n",
    "              ,'padding-right' : '5%'\n",
    "              ,'height' : '5vh'\n",
    "              ,'color' : color}\n",
    "\n",
    "if __name__ == '__main__':\n",
    "    app.run_server(debug=True)"
   ]
  },
  {
   "cell_type": "code",
   "execution_count": null,
   "id": "7e0aa310",
   "metadata": {},
   "outputs": [],
   "source": []
  },
  {
   "cell_type": "code",
   "execution_count": 8,
   "id": "6f9ec3a5",
   "metadata": {},
   "outputs": [
    {
     "data": {
      "text/plain": [
       "0"
      ]
     },
     "execution_count": 8,
     "metadata": {},
     "output_type": "execute_result"
    }
   ],
   "source": [
    "df = pd.read_csv('predictions.csv').sort_values('g_total', ascending = False).set_index('player')\n",
    "\n",
    "app = JupyterDash(__name__)\n",
    "\n",
    "drafters = list(range(1,13))\n",
    "picks = list(range(1,14))\n",
    "\n",
    "width = str(100/len(drafters)) + '%'\n",
    "\n",
    "\n",
    "titles_by_drafter = [html.H1([html.H1(str(i))]\n",
    "                            ,style={'textAlign': 'center','fontSize' : 10,'width' : width,'display': 'inline-block'}\n",
    "                            )\n",
    "                    for i in drafters\n",
    "                   ]\n",
    "\n",
    "\n",
    "#change the ID structure from (type, index) to (type, drafter, pick)\n",
    "dropdowns_by_drafter = [ \n",
    "                        html.Div(\n",
    "                            [html.Div(id = {'type' : 'dropdown-parent'\n",
    "                                             ,'drafter' : i\n",
    "                                             ,'pick' : j},\n",
    "                                children = dcc.Dropdown(id = {'type' : 'dropdown-selection'\n",
    "                                                              ,'drafter' : i\n",
    "                                                              ,'pick' : j}\n",
    "                                                 ) \n",
    "                                                    ,style = {'justify_content' : 'center'\n",
    "                                                              ,'align-items' : 'center'\n",
    "                                                              ,'width' : '90%'\n",
    "                                                              ,'padding-left' : '5%'\n",
    "                                                              ,'padding-right' : '5%'\n",
    "                                                              ,'height' : '5vh'}\n",
    "                                          )\n",
    "                                 for j in picks\n",
    "                            ] \n",
    "                                ,style={'textAlign': 'center'\n",
    "                                        ,'fontSize' : 10\n",
    "                                        ,'width' : width\n",
    "                                        ,'display': 'inline-block'}\n",
    "                               )\n",
    "                            for i in drafters\n",
    "                       ]\n",
    "\n",
    "app.layout = html.Div([\n",
    "    html.H1(children='Draft Simulator', style={'textAlign':'center'})\n",
    "    ,html.H1(titles_by_drafter)\n",
    "    ,html.H1(dropdowns_by_drafter)\n",
    "    ,dcc.Store(id='player-data', data = df.to_dict('index'))\n",
    "    ,dcc.Store(id='players-available', data = df.index.values)\n",
    "\n",
    "])\n",
    "\n",
    "@callback(\n",
    "    Output('players-available', 'data'),\n",
    "    State('player-data', 'data'),\n",
    "    Input({\"type\": \"dropdown-selection\", \"drafter\": ALL , \"pick\" : ALL}, \"value\"),\n",
    "    prevent_initial_call=True\n",
    ")\n",
    "def update_available_players(player_data,selected_players):\n",
    "    \n",
    "    all_players = pd.Series(player_data.keys())\n",
    "    res = all_players[~all_players.isin(selected_players)]\n",
    "    return res\n",
    "\n",
    "\n",
    "@callback(\n",
    "    Output({\"type\": \"dropdown-selection\", \"drafter\": MATCH, \"pick\" : MATCH}, 'options'),\n",
    "    State('players-available', 'data'),\n",
    "    State({\"type\": \"dropdown-selection\", \"drafter\": MATCH, \"pick\" : MATCH}, 'value'),\n",
    "    Input({\"type\": \"dropdown-parent\", \"drafter\": MATCH, \"pick\" : MATCH}, \"n_clicks\"),\n",
    "    prevent_initial_call=True\n",
    ")\n",
    "def update_dropdown(available_players,dropdown_value, _):\n",
    "    \n",
    "    if dropdown_value is None:\n",
    "        all_players = available_players\n",
    "    else:\n",
    "        all_players = [dropdown_value] + available_players \n",
    "        \n",
    "    return[{'label' : player, 'value' : player} for player in all_players] \n",
    "\n",
    "if __name__ == '__main__':\n",
    "    app.run_server(debug=True)"
   ]
  },
  {
   "cell_type": "code",
   "execution_count": 4,
   "id": "9cfa31a8",
   "metadata": {},
   "outputs": [
    {
     "name": "stdout",
     "output_type": "stream",
     "text": [
      "Collecting flask==2.2.2"
     ]
    },
    {
     "name": "stderr",
     "output_type": "stream",
     "text": [
      "WARNING: Ignoring invalid distribution -aleido (c:\\users\\zach rosenof\\anaconda3\\lib\\site-packages)\n",
      "WARNING: Ignoring invalid distribution -aleido (c:\\users\\zach rosenof\\anaconda3\\lib\\site-packages)\n",
      "WARNING: Ignoring invalid distribution -aleido (c:\\users\\zach rosenof\\anaconda3\\lib\\site-packages)\n",
      "    WARNING: Ignoring invalid distribution -aleido (c:\\users\\zach rosenof\\anaconda3\\lib\\site-packages)\n",
      "ERROR: Could not install packages due to an OSError: [WinError 5] Access is denied: 'C:\\\\Users\\\\Zach Rosenof\\\\Anaconda3\\\\Lib\\\\site-packages\\\\~arkupsafe\\\\_speedups.cp39-win_amd64.pyd'\n",
      "Consider using the `--user` option or check the permissions.\n",
      "\n",
      "WARNING: Ignoring invalid distribution -aleido (c:\\users\\zach rosenof\\anaconda3\\lib\\site-packages)\n",
      "WARNING: Ignoring invalid distribution -aleido (c:\\users\\zach rosenof\\anaconda3\\lib\\site-packages)\n",
      "WARNING: Ignoring invalid distribution -aleido (c:\\users\\zach rosenof\\anaconda3\\lib\\site-packages)\n"
     ]
    },
    {
     "name": "stdout",
     "output_type": "stream",
     "text": [
      "\n",
      "  Downloading Flask-2.2.2-py3-none-any.whl (101 kB)\n",
      "Requirement already satisfied: Jinja2>=3.0 in c:\\users\\zach rosenof\\anaconda3\\lib\\site-packages (from flask==2.2.2) (3.1.2)\n",
      "Requirement already satisfied: importlib-metadata>=3.6.0 in c:\\users\\zach rosenof\\anaconda3\\lib\\site-packages (from flask==2.2.2) (4.11.3)\n",
      "Requirement already satisfied: itsdangerous>=2.0 in c:\\users\\zach rosenof\\anaconda3\\lib\\site-packages (from flask==2.2.2) (2.0.1)\n",
      "Requirement already satisfied: click>=8.0 in c:\\users\\zach rosenof\\anaconda3\\lib\\site-packages (from flask==2.2.2) (8.0.4)\n",
      "Collecting Werkzeug>=2.2.2\n",
      "  Downloading Werkzeug-2.3.4-py3-none-any.whl (242 kB)\n",
      "Requirement already satisfied: colorama in c:\\users\\zach rosenof\\anaconda3\\lib\\site-packages (from click>=8.0->flask==2.2.2) (0.4.4)\n",
      "Requirement already satisfied: zipp>=0.5 in c:\\users\\zach rosenof\\anaconda3\\lib\\site-packages (from importlib-metadata>=3.6.0->flask==2.2.2) (3.7.0)\n",
      "Requirement already satisfied: MarkupSafe>=2.0 in c:\\users\\zach rosenof\\anaconda3\\lib\\site-packages (from Jinja2>=3.0->flask==2.2.2) (2.0.1)\n",
      "Collecting MarkupSafe>=2.0\n",
      "  Downloading MarkupSafe-2.1.2-cp39-cp39-win_amd64.whl (16 kB)\n",
      "Installing collected packages: MarkupSafe, Werkzeug, flask\n",
      "  Attempting uninstall: MarkupSafe\n",
      "    Found existing installation: MarkupSafe 2.0.1\n",
      "    Uninstalling MarkupSafe-2.0.1:\n",
      "      Successfully uninstalled MarkupSafe-2.0.1\n"
     ]
    }
   ],
   "source": [
    "! pip install flask==2.2.2"
   ]
  },
  {
   "cell_type": "code",
   "execution_count": 3,
   "id": "58c8c357",
   "metadata": {},
   "outputs": [
    {
     "name": "stdout",
     "output_type": "stream",
     "text": [
      "Collecting Jinja2==3.0.3\n",
      "  Downloading Jinja2-3.0.3-py3-none-any.whl (133 kB)\n",
      "Requirement already satisfied: MarkupSafe>=2.0 in c:\\users\\zach rosenof\\anaconda3\\lib\\site-packages (from Jinja2==3.0.3) (2.1.2)\n",
      "Installing collected packages: Jinja2\n",
      "  Attempting uninstall: Jinja2\n",
      "    Found existing installation: Jinja2 3.1.2\n",
      "    Uninstalling Jinja2-3.1.2:\n",
      "      Successfully uninstalled Jinja2-3.1.2\n",
      "Successfully installed Jinja2-3.0.3\n"
     ]
    },
    {
     "name": "stderr",
     "output_type": "stream",
     "text": [
      "WARNING: Ignoring invalid distribution -aleido (c:\\users\\zach rosenof\\anaconda3\\lib\\site-packages)\n",
      "WARNING: Ignoring invalid distribution -aleido (c:\\users\\zach rosenof\\anaconda3\\lib\\site-packages)\n",
      "WARNING: Ignoring invalid distribution -aleido (c:\\users\\zach rosenof\\anaconda3\\lib\\site-packages)\n",
      "    WARNING: Ignoring invalid distribution -aleido (c:\\users\\zach rosenof\\anaconda3\\lib\\site-packages)\n",
      "WARNING: Ignoring invalid distribution -aleido (c:\\users\\zach rosenof\\anaconda3\\lib\\site-packages)\n",
      "ERROR: pip's dependency resolver does not currently take into account all the packages that are installed. This behaviour is the source of the following dependency conflicts.\n",
      "anaconda-project 0.10.2 requires ruamel-yaml, which is not installed.\n",
      "jupyter-server 1.13.5 requires pywinpty<2; os_name == \"nt\", but you have pywinpty 2.0.2 which is incompatible.\n",
      "WARNING: Ignoring invalid distribution -aleido (c:\\users\\zach rosenof\\anaconda3\\lib\\site-packages)\n",
      "WARNING: Ignoring invalid distribution -aleido (c:\\users\\zach rosenof\\anaconda3\\lib\\site-packages)\n",
      "WARNING: Ignoring invalid distribution -aleido (c:\\users\\zach rosenof\\anaconda3\\lib\\site-packages)\n"
     ]
    }
   ],
   "source": [
    "! pip install Jinja2==3.0.3"
   ]
  },
  {
   "cell_type": "code",
   "execution_count": 5,
   "id": "e2de33f5",
   "metadata": {},
   "outputs": [
    {
     "name": "stdout",
     "output_type": "stream",
     "text": [
      "Requirement already satisfied: dash-core-components in c:\\users\\zach rosenof\\anaconda3\\lib\\site-packages (2.0.0)\n"
     ]
    },
    {
     "name": "stderr",
     "output_type": "stream",
     "text": [
      "WARNING: Ignoring invalid distribution -aleido (c:\\users\\zach rosenof\\anaconda3\\lib\\site-packages)\n",
      "WARNING: Ignoring invalid distribution -aleido (c:\\users\\zach rosenof\\anaconda3\\lib\\site-packages)\n",
      "WARNING: Ignoring invalid distribution -aleido (c:\\users\\zach rosenof\\anaconda3\\lib\\site-packages)\n",
      "WARNING: Ignoring invalid distribution -aleido (c:\\users\\zach rosenof\\anaconda3\\lib\\site-packages)\n",
      "WARNING: Ignoring invalid distribution -aleido (c:\\users\\zach rosenof\\anaconda3\\lib\\site-packages)\n",
      "WARNING: Ignoring invalid distribution -aleido (c:\\users\\zach rosenof\\anaconda3\\lib\\site-packages)\n"
     ]
    }
   ],
   "source": [
    "! pip install dash-core-components"
   ]
  },
  {
   "cell_type": "code",
   "execution_count": null,
   "id": "33f17a11",
   "metadata": {},
   "outputs": [],
   "source": []
  }
 ],
 "metadata": {
  "kernelspec": {
   "display_name": "Python 3 (ipykernel)",
   "language": "python",
   "name": "python3"
  },
  "language_info": {
   "codemirror_mode": {
    "name": "ipython",
    "version": 3
   },
   "file_extension": ".py",
   "mimetype": "text/x-python",
   "name": "python",
   "nbconvert_exporter": "python",
   "pygments_lexer": "ipython3",
   "version": "3.9.12"
  }
 },
 "nbformat": 4,
 "nbformat_minor": 5
}
