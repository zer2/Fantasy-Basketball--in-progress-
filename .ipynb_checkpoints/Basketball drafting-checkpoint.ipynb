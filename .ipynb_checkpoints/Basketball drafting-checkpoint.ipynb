{
 "cells": [
  {
   "cell_type": "markdown",
   "id": "7274e4f1",
   "metadata": {},
   "source": [
    "![meme](https://i.imgflip.com/6x0g1f.jpg)"
   ]
  },
  {
   "cell_type": "markdown",
   "id": "1a8f61da",
   "metadata": {},
   "source": [
    "# Optimizing fantasy basketball\n",
    "\n",
    "Fantasy basketball is an extremely popular pasttime for nba fans. Participants 'draft' players before the season, then get rewarded for their proxy's in-game performances during the season. \n",
    "\n",
    "One popular format is 'Head-to-Head: Most Categories'. Quoting from ESPN's description of the rules:\n",
    "\n",
    ">Head-to-Head: Most Categories: H2H Most Categories allows you to set \"X\" number of statistic categories. For each scoring period (usually Monday through Sunday) team totals are accumulated in each of the categories. At the end of the scoring period, the winner is determined by which team wins the most number of categories. The end result is a win (1-0-0), loss (0-1-0) or tie (0-0-1). These results correspond directly to each team's overall record.\n",
    "\n",
    "Common settings specify 9 categories: points, rebounds, assists, steals, blocks, 3-pointers, field goal %, free throw %, and turnovers. We'll ignore the percentage statistics for now, since they behave differently than the others\n",
    "\n",
    "Participants are paired up to compete week-by-week, and at the end of the season, the player with the best record wins.\n",
    "\n",
    "Understanding the game of basketball helps win fantasy drafts. However, it's not the whole ballgame: even if we had precise probability distributions for player performance beforehand, or exact numbers with no uncertainty, it would not be obvious how to draft correctly. Do we want to optimize for all 9 categories, or just some of them? Do we try to compete on the categories that other drafters are going for, or ones they are not? Do we embrace high-volatility players or low-volatility players? The problem becomes a rich mathematical one, more familiar to data scientists than to basketball enthusiasts\n",
    "\n",
    "There is plenty of speculation about all this within the fantasy basketball community. However, few in the community realize that their strategies are leveraging high-level mathematical intuition. If we lean into the math, and treat this as an optimization problem, can we derive a method for fantasy drafting that delivers consistently high performance?\n",
    "\n",
    "Our approach will be to break down the drafting problem into three mathematical steps\n",
    "- Retrospectively drafting a full previous season, with full knowledge of player performance. Weekly totals will be randomly sampled from actual weekly totals for each player. Fantasy drafting this way becomes a full-information game, and therefore at least one Nash equilibrium exists. We will explore different ways of looking for it \n",
    "- Incorporating uncertainty into the priors of restrospective-drafting. We will explore how the strategy for retrospective drafting changes when there is uncertainty about the underlying probability distributions of player statistics\n",
    "- Using predictive data science methods to make estimates of priors/posteriors for actual performance. This last step will allow us to design an actual drafting algorithm that could be used for a season of fantasy basketball\n",
    "\n",
    "One other note, before we get started:\n",
    "\n",
    "NBA fantasy drafts require participants to play with a certain number of players at each position, e.g. 3 centers, plus a few players on the bench who do not count. I've personally found in my (albeit limited) experience that usually I can have all of my players and games count by shifting players to the bench when they are not playing. This would not be the case if my team was totally imbalanced and for example had no centers, but otherwise I think it is a fair assumption. Therefore I will simplify the problem in the following way: \n",
    "\n",
    "- Each team must have 3 centers, 1 point guard, 1 shooting guard, 2 guards (either PG or SG), 1 small forward, 1 power forward, 2 forwards (either SF or PF), and 3 utilities (any positions)\n",
    "- Every game that your players play counts towards your totals"
   ]
  },
  {
   "cell_type": "markdown",
   "id": "9c67dd3a",
   "metadata": {},
   "source": [
    "# Retrospective drafting\n",
    "\n",
    "Let's lay out the infrastructure for the first step, retrospective drafting"
   ]
  },
  {
   "cell_type": "code",
   "execution_count": 1432,
   "id": "d266d129",
   "metadata": {},
   "outputs": [],
   "source": [
    "import pandas as pd\n",
    "from sklearn.preprocessing import StandardScaler, MinMaxScaler, QuantileTransformer\n",
    "from itertools import combinations\n",
    "from collections import Counter\n",
    "import numpy as np\n",
    "from datetime import datetime\n",
    "import matplotlib.pyplot as plt\n",
    "import copy\n",
    "from scipy import special\n",
    "import cvxpy\n",
    "from unidecode import unidecode\n",
    "pd.set_option('display.max_rows', 150)\n",
    "pd.options.mode.chained_assignment = None  # default='warn'\n",
    "categories = ['pts', 'trb', 'ast', 'stl', 'blk', 'fg3','tov', 'fg_pct','ft_pct']"
   ]
  },
  {
   "cell_type": "markdown",
   "id": "a3232b21",
   "metadata": {},
   "source": [
    "We will use the raw data from [Advanced Sports Analytics](https://www.advancedsportsanalytics.com/nba-raw-data), which has game-by-game player statistics"
   ]
  },
  {
   "cell_type": "code",
   "execution_count": 1433,
   "id": "7bab59ac",
   "metadata": {},
   "outputs": [
    {
     "data": {
      "text/html": [
       "<div>\n",
       "<style scoped>\n",
       "    .dataframe tbody tr th:only-of-type {\n",
       "        vertical-align: middle;\n",
       "    }\n",
       "\n",
       "    .dataframe tbody tr th {\n",
       "        vertical-align: top;\n",
       "    }\n",
       "\n",
       "    .dataframe thead th {\n",
       "        text-align: right;\n",
       "    }\n",
       "</style>\n",
       "<table border=\"1\" class=\"dataframe\">\n",
       "  <thead>\n",
       "    <tr style=\"text-align: right;\">\n",
       "      <th></th>\n",
       "      <th>player</th>\n",
       "      <th>game_date</th>\n",
       "      <th>pts</th>\n",
       "      <th>trb</th>\n",
       "      <th>ast</th>\n",
       "      <th>stl</th>\n",
       "      <th>blk</th>\n",
       "      <th>fg3</th>\n",
       "      <th>fg</th>\n",
       "      <th>fga</th>\n",
       "      <th>ft</th>\n",
       "      <th>fta</th>\n",
       "      <th>tov</th>\n",
       "    </tr>\n",
       "  </thead>\n",
       "  <tbody>\n",
       "    <tr>\n",
       "      <th>0</th>\n",
       "      <td>Tyrese Haliburton</td>\n",
       "      <td>2022-04-10</td>\n",
       "      <td>17</td>\n",
       "      <td>4</td>\n",
       "      <td>10</td>\n",
       "      <td>2</td>\n",
       "      <td>0</td>\n",
       "      <td>2</td>\n",
       "      <td>7</td>\n",
       "      <td>14</td>\n",
       "      <td>1</td>\n",
       "      <td>1</td>\n",
       "      <td>1</td>\n",
       "    </tr>\n",
       "    <tr>\n",
       "      <th>1</th>\n",
       "      <td>Buddy Hield</td>\n",
       "      <td>2022-04-10</td>\n",
       "      <td>21</td>\n",
       "      <td>3</td>\n",
       "      <td>6</td>\n",
       "      <td>3</td>\n",
       "      <td>0</td>\n",
       "      <td>5</td>\n",
       "      <td>8</td>\n",
       "      <td>23</td>\n",
       "      <td>0</td>\n",
       "      <td>0</td>\n",
       "      <td>2</td>\n",
       "    </tr>\n",
       "    <tr>\n",
       "      <th>2</th>\n",
       "      <td>Oshae Brissett</td>\n",
       "      <td>2022-04-10</td>\n",
       "      <td>28</td>\n",
       "      <td>8</td>\n",
       "      <td>3</td>\n",
       "      <td>1</td>\n",
       "      <td>0</td>\n",
       "      <td>5</td>\n",
       "      <td>10</td>\n",
       "      <td>20</td>\n",
       "      <td>3</td>\n",
       "      <td>4</td>\n",
       "      <td>0</td>\n",
       "    </tr>\n",
       "    <tr>\n",
       "      <th>3</th>\n",
       "      <td>Isaiah Jackson</td>\n",
       "      <td>2022-04-10</td>\n",
       "      <td>7</td>\n",
       "      <td>3</td>\n",
       "      <td>0</td>\n",
       "      <td>2</td>\n",
       "      <td>1</td>\n",
       "      <td>0</td>\n",
       "      <td>3</td>\n",
       "      <td>4</td>\n",
       "      <td>1</td>\n",
       "      <td>2</td>\n",
       "      <td>2</td>\n",
       "    </tr>\n",
       "    <tr>\n",
       "      <th>4</th>\n",
       "      <td>T.J. McConnell</td>\n",
       "      <td>2022-04-10</td>\n",
       "      <td>14</td>\n",
       "      <td>3</td>\n",
       "      <td>5</td>\n",
       "      <td>3</td>\n",
       "      <td>0</td>\n",
       "      <td>3</td>\n",
       "      <td>5</td>\n",
       "      <td>15</td>\n",
       "      <td>1</td>\n",
       "      <td>2</td>\n",
       "      <td>0</td>\n",
       "    </tr>\n",
       "  </tbody>\n",
       "</table>\n",
       "</div>"
      ],
      "text/plain": [
       "              player   game_date  pts  trb  ast  stl  blk  fg3  fg  fga  ft  \\\n",
       "0  Tyrese Haliburton  2022-04-10   17    4   10    2    0    2   7   14   1   \n",
       "1        Buddy Hield  2022-04-10   21    3    6    3    0    5   8   23   0   \n",
       "2     Oshae Brissett  2022-04-10   28    8    3    1    0    5  10   20   3   \n",
       "3     Isaiah Jackson  2022-04-10    7    3    0    2    1    0   3    4   1   \n",
       "4     T.J. McConnell  2022-04-10   14    3    5    3    0    3   5   15   1   \n",
       "\n",
       "   fta  tov  \n",
       "0    1    1  \n",
       "1    0    2  \n",
       "2    4    0  \n",
       "3    2    2  \n",
       "4    2    0  "
      ]
     },
     "execution_count": 1433,
     "metadata": {},
     "output_type": "execute_result"
    }
   ],
   "source": [
    "stat_df = pd.read_csv('../data/ASA All NBA Raw Data.csv')\n",
    "essential_info = stat_df[['player','game_date','pts','trb','ast','stl','blk','fg3','fg','fga','ft','fta','tov']]\n",
    "essential_info.head()"
   ]
  },
  {
   "cell_type": "markdown",
   "id": "d83d701b",
   "metadata": {},
   "source": [
    "Different platforms define positions in different ways. We will try to do it fairly, by making a player eligible for a position if they spent more than a third of their play time at that position."
   ]
  },
  {
   "cell_type": "code",
   "execution_count": 1483,
   "id": "9f90a809",
   "metadata": {},
   "outputs": [
    {
     "data": {
      "text/plain": [
       "player\n",
       "Aaron Gordon     [SF, PF]\n",
       "Aaron Henry          [SF]\n",
       "Aaron Holiday        [PG]\n",
       "Aaron Nesmith        [SF]\n",
       "Aaron Wiggins        [SG]\n",
       "Name: position, dtype: object"
      ]
     },
     "execution_count": 1483,
     "metadata": {},
     "output_type": "execute_result"
    }
   ],
   "source": [
    "player_cat_df = stat_df.groupby('player')[['PG%','SG%','SF%','PF%','C%']].mean()\n",
    "player_cat_df.columns = ['PG','SG','SF','PF','C']\n",
    "player_cat_df_melted = player_cat_df.melt(ignore_index = False)\n",
    "player_cat_df_melted.columns = ['position','play_percent']\n",
    "positions = player_cat_df_melted[player_cat_df_melted['play_percent'] > 33].groupby('player')['position'].agg(list)\n",
    "positions.head()"
   ]
  },
  {
   "cell_type": "markdown",
   "id": "6c54eb13",
   "metadata": {},
   "source": [
    "The most important infrastructure is code simulating an actual NBA fantasy season, so that we can evaluate the success of our strategies. Actually, since our model is probabilistic, we want to run many seasons and get the average # of wins.\n",
    "\n",
    "We'll synthesize the 2021 season into weeks of play, and randomly sample from it for the season"
   ]
  },
  {
   "cell_type": "code",
   "execution_count": 1435,
   "id": "757bd533",
   "metadata": {},
   "outputs": [],
   "source": [
    "essential_info['game_date'] = pd.to_datetime(essential_info['game_date'])\n",
    "essential_info_2021_season = essential_info[(essential_info['game_date'] >= '2021-10-19') &  \\\n",
    "                                            (essential_info['game_date'] <= '2022-4-10')]\n",
    "essential_info_2021_season['week'] = essential_info['game_date'].dt.isocalendar()['week']\n",
    "\n",
    "weekly_df_index = pd.MultiIndex.from_product([pd.unique(essential_info_2021_season['player'])\n",
    "                                             ,pd.unique(essential_info_2021_season['week'])]\n",
    "                                             ,names = ['player','week'])\n",
    "weekly_df_2021_season = essential_info_2021_season.drop(columns = ['game_date']).groupby(['player','week']).sum()\n",
    "weekly_df_2021_season = pd.DataFrame(weekly_df_2021_season, index = weekly_df_index ).fillna(0)"
   ]
  },
  {
   "cell_type": "code",
   "execution_count": 1436,
   "id": "e76caf41",
   "metadata": {},
   "outputs": [],
   "source": [
    "def run_multiple_seasons(teams\n",
    "                         , n = 100 \n",
    "                         , detailed = False):\n",
    "    #create a version of the essential info dataframe which incorporate team information for this season\n",
    "    season_df = weekly_df_2021_season.reset_index().drop(columns = 'week')\n",
    "    season_df.loc[:,'team'] = season_df['player'].map(teams) \n",
    "    season_df = season_df.dropna(subset = ['team'])\n",
    "\n",
    "    #use sampling to simulate many seasons at the same time\n",
    "    #assuming each season has 11 weeks, we need 11 * n total rows of data per player\n",
    "    #ZR: Note that for now a \"week\" of data is just one game per player\n",
    "    #in real basketball multiple games are played per week, so we need to adjust for that \n",
    "    performances = season_df.groupby('player').sample(25*n, replace = True)\n",
    "    performances.loc[:,'week'] = performances.groupby('player').cumcount()\n",
    "    performances.loc[:,'season'] = performances['week'] // 25 #integer division seperates weeks in groups \n",
    "\n",
    "    #total team performances are simply the sum of statistics for each player \n",
    "    team_performances = performances.groupby(['season','team','week']).sum()\n",
    "    team_performances['fg_pct'] = (team_performances['fg']/team_performances['fga']).fillna(0)\n",
    "    team_performances['ft_pct'] = (team_performances['ft']/team_performances['fta']).fillna(0)\n",
    "    \n",
    "    #for all categories except turnovers, higher numbers are better. So we invert turnovers \n",
    "    team_performances['tov'] = - team_performances['tov'] \n",
    "    \n",
    "    team_performances = team_performances[categories] #only want category columns\n",
    "    \n",
    "    #we need to map each team to its opponent for the week. We do that with a formula for round robin pairing\n",
    "    opposing_team_schedule = [(s,round_robin_opponent(t,w),w) for s, t, w in team_performances.index]\n",
    "    opposing_team_performances = team_performances.loc[opposing_team_schedule]\n",
    "\n",
    "    cat_losses = np.less(team_performances.values,opposing_team_performances.values).sum(axis = 1)\n",
    "    cat_wins = np.greater(team_performances.values,opposing_team_performances.values).sum(axis = 1)\n",
    "\n",
    "    team_performances.loc[:,'tie'] = cat_wins == cat_losses\n",
    "    team_performances.loc[:,'win'] = cat_wins > cat_losses\n",
    "    team_results = team_performances.groupby(['team','season']).agg({'win' : sum, 'tie' : sum})\n",
    "\n",
    "    #a team cannot win the season if it has fewer wins than any other team \n",
    "    most_wins = team_results.groupby('season')['win'].transform('max')\n",
    "    winners = team_results[team_results['win'] == most_wins]\n",
    "\n",
    "    #among the teams with the most wins, ties are a tiebreaker \n",
    "    most_ties = winners.groupby('season')['tie'].transform('max')\n",
    "    winners_after_ties = winners[winners['tie'] == most_ties]\n",
    "    \n",
    "    #assuming that payouts are divided when multiple teams are exactly tied, we give fractional points \n",
    "    winners_after_ties.loc[:,'winner_points'] = 1\n",
    "    season_counts = winners_after_ties.groupby('season')['winner_points'].transform('count')\n",
    "    winners_after_ties.loc[:,'winner_points_adjusted'] = 1/season_counts\n",
    "    \n",
    "    if not detailed:\n",
    "        return winners_after_ties.groupby('team')['winner_points_adjusted'].sum()\n",
    "    else:\n",
    "        return winners_after_ties.groupby('team')['winner_points_adjusted'].sum(), team_performances, opposing_team_performances"
   ]
  },
  {
   "cell_type": "markdown",
   "id": "7c684220",
   "metadata": {},
   "source": [
    "We invoked a helper function above, \"round_robin_opponent\", without defining it. We need it to assign sensible pairings between competitors. Using [Wikipedia's algorithm for pairing a round robin](https://en.wikipedia.org/wiki/Round-robin_tournament#Circle_method) we can make this work via modular arithmetic"
   ]
  },
  {
   "cell_type": "code",
   "execution_count": 1437,
   "id": "e75a4b78",
   "metadata": {},
   "outputs": [],
   "source": [
    "def round_robin_opponent(t\n",
    "                         , w\n",
    "                         , n =12): # n must be an even number\n",
    "    \n",
    "    if t == 0: #position 0 remains fixed, and the other teams rotate around their (n - 1) spots\n",
    "        return ((n - 2 - w) % (n - 1) ) + 1\n",
    "    elif ((t + w) % (n-1) ==0): # in spot (n-1) of the non-zero spots, the opponent is 0 \n",
    "        return 0 \n",
    "    else: #we calculate the current position of team, infer the opponent's position, then calculate the opposing team\n",
    "        res = (((n - 1 - (t + w) % (n - 1)) % (n - 1))- w) % (n - 1)\n",
    "        return (n - 1) if res == 0 else res\n",
    "         "
   ]
  },
  {
   "cell_type": "markdown",
   "id": "b9f6f4f9",
   "metadata": {},
   "source": [
    "Now we also need to set up the drafting process. Drafts are typically run in the snake format. We'll consider a single round to be the back and forth of the snake- so for example with three drafters, player one picks, player two picks, player three picks two players, player two picks, and player one picks"
   ]
  },
  {
   "cell_type": "code",
   "execution_count": 1438,
   "id": "e55ccfe4",
   "metadata": {},
   "outputs": [],
   "source": [
    "def run_draft(agents, number_of_rounds):\n",
    "    \n",
    "    player_assignments = {}\n",
    "    \n",
    "    for i in range(number_of_rounds):\n",
    "        for j in range(len(agents)):\n",
    "            \n",
    "            agent = agents[j]\n",
    "            chosen_player = agent.make_pick(player_assignments)\n",
    "            player_assignments[chosen_player] = j\n",
    "            \n",
    "        for j in reversed(range(len(agents))):\n",
    "            agent = agents[j]\n",
    "            chosen_player = agent.make_pick(player_assignments)\n",
    "            player_assignments[chosen_player] = j\n",
    "\n",
    "    return player_assignments"
   ]
  },
  {
   "cell_type": "markdown",
   "id": "dde9c231",
   "metadata": {},
   "source": [
    " A simple drafter will use player stat totals, so we will create a table for them"
   ]
  },
  {
   "cell_type": "code",
   "execution_count": 1439,
   "id": "6996109a",
   "metadata": {},
   "outputs": [],
   "source": [
    "player_averages = weekly_df_2021_season.reset_index().drop(columns= 'week').groupby('player').mean()\n",
    "player_averages['fg_pct'] = (player_averages['fg']/player_averages['fga']).fillna(0)\n",
    "player_averages['ft_pct'] = (player_averages['ft']/player_averages['fta']).fillna(0)\n",
    "player_averages = player_averages[categories]"
   ]
  },
  {
   "cell_type": "markdown",
   "id": "f546c6d4",
   "metadata": {},
   "source": [
    "When we test a strategy, we want to see if it works broadly, not just in any one position. So we will create a helper function that tries a strategy in each position against some default agent in all the other positions"
   ]
  },
  {
   "cell_type": "code",
   "execution_count": 1489,
   "id": "72002861",
   "metadata": {},
   "outputs": [],
   "source": [
    "def try_strategy(primary_agent, default_agent, n_seasons):\n",
    "\n",
    "    strategy_res = [[] for i in range(12)]\n",
    "    for i in range(12):\n",
    "        #we need to deepcopy the agents so that they don't share references with each other\n",
    "        agents = [copy.deepcopy(default_agent) for x in range(i)] + \\\n",
    "                    [copy.deepcopy(primary_agent)] + \\\n",
    "                    [copy.deepcopy(default_agent) for x in range(11-i)]\n",
    "        \n",
    "        teams = run_draft(agents ,7)\n",
    "        res = run_multiple_seasons(teams, n_seasons)\n",
    "        strategy_res[i] = (res.get(i)) if (res.get(i)) is not None else 0 \n",
    "        \n",
    "    return np.sum(strategy_res)/(12*n_seasons)\n"
   ]
  },
  {
   "cell_type": "markdown",
   "id": "9ff8d5d0",
   "metadata": {},
   "source": [
    "One last bit of infrastructure we need is a function to check if a team is valid, based on its players' positions. We will use it to validate whether we can add a particular player to an existing team. Surprisingly, this is not a trivial problem. \n",
    "\n",
    "Many players can slot into multiple positions, which makes it complicated to determine which positions are still open and which are not. The most elegant way to solve the problem is to model it as a 'phase one' optimization problem, whereby we  model the constraints with an extra variable 'z' loosening the constraints, and aim to minimize z. Fortunately we don't have to set that up manually- optimization software will do it automatically if we set up the optimization problem as is and give a dummy objective of zero. \n",
    "\n",
    "One might argue that our model needs to be an integer program to handle its' decision variables. This would not be ideal, since integer programs are much slower than linear programs.  Luckily we don't need to worry about that; our problem is an assignment problem and therefore the results will be integers. "
   ]
  },
  {
   "cell_type": "code",
   "execution_count": 1540,
   "id": "8ac56a48",
   "metadata": {},
   "outputs": [],
   "source": [
    "def check_team_feasibility(players):    \n",
    "    n_players = len(players)\n",
    "    \n",
    "    #we need 8 columns for the 8 positions. We are defining them as \n",
    "    #C, PG, SG, G, SF, PF, F, U \n",
    "    X = cvxpy.Variable(shape = (n_players,8)) #we could set boolean = True, but it takes much longer\n",
    "\n",
    "    eligibility = np.concatenate([get_eligibility_row(player) for player in players])\n",
    "    #each player gets 1 position\n",
    "    one_position_constraint = cvxpy.sum(X,axis = 1) == 1\n",
    "    \n",
    "    #total number of players in each category cannot exceed the maximum for the category\n",
    "    available_positions_constraint = cvxpy.sum(X,axis = 0) <= [3,1,1,2,1,1,2,3]    \n",
    "    \n",
    "    #players can only play at positions they are eligible for \n",
    "    eligibility_constraint = X <= eligibility \n",
    "    \n",
    "    positivity_constraint = X >= 0\n",
    "    \n",
    "    constraints = [one_position_constraint, available_positions_constraint, eligibility_constraint, positivity_constraint]\n",
    "    problem = cvxpy.Problem(cvxpy.Minimize(0), constraints)\n",
    "    problem.solve()\n",
    "            \n",
    "    return not problem.status == \"infeasible\"\n",
    "\n",
    "def get_eligibility_row(pos):\n",
    "    eligibility = {7}\n",
    "    if 'C' in pos:\n",
    "        eligibility.add(0)\n",
    "    if 'PG' in pos: \n",
    "        eligibility.update((1,3))\n",
    "    if 'SG' in pos: \n",
    "        eligibility.update((2,3))\n",
    "    if 'SF' in pos: \n",
    "        eligibility.update((4,6))\n",
    "    if 'PF' in pos: \n",
    "        eligibility.update((5,6))\n",
    "    return np.array([[i in eligibility for i in range(8)]])\n"
   ]
  },
  {
   "cell_type": "markdown",
   "id": "0ea8c635",
   "metadata": {},
   "source": [
    "## 1a. Z-scores\n",
    "\n",
    "Fantasy rankings are often made by summing players' Z-scores (this means exactly the same thing as it does in statistics, the # of standard deviations away from the mean) by category. We can use this methodology as a naive baselines for player rankings. Since many real drafters use Z-scores, we can expect that the strategies that work the best against z-scores will do the best in practice. \n",
    "\n",
    "Normally, Z-scores are calculated based on the league average. This is slightly odd because most league players never get used in fantasy drafts, and shouldn't influence our way of thinking about relevant players. Perhaps we can improve on the basic Z-score methodology by re-scaling with only the top players. We will call this strategy 'Z+'"
   ]
  },
  {
   "cell_type": "code",
   "execution_count": 1541,
   "id": "995b0ec6",
   "metadata": {},
   "outputs": [],
   "source": [
    "\n",
    "class SimpleAgent():\n",
    "    \n",
    "    def __init__(self):\n",
    "        self.players = []\n",
    "    \n",
    "    def pick_from_order(self, available_players):\n",
    "        if len(self.players) < 5:\n",
    "            player = available_players.index[0]\n",
    "            self.players = self.players + [player]\n",
    "            return player\n",
    "        else:\n",
    "            for player in available_players.index:\n",
    "                theoretical_team = self.players + [player]\n",
    "                if check_team_feasibility(list(positions.loc[theoretical_team])):\n",
    "                    self.players = theoretical_team\n",
    "                    return player\n",
    "            raise ValueError('No available players!')\n",
    "\n",
    "    #the simplest version of make_pick is to use a stored internal order \n",
    "\n",
    "    def make_pick(self, player_assignments):\n",
    "        \n",
    "        available_players = self.order[~self.order.index.isin(player_assignments.keys())]\n",
    "        player = self.pick_from_order(available_players)\n",
    "        return player\n",
    "\n",
    "class ZAgent(SimpleAgent):\n",
    "    \n",
    "    def __init__(self\n",
    "                 , punting_cats =[] #categories to completely ignore\n",
    "                 ):\n",
    "        \n",
    "        super(ZAgent, self).__init__()\n",
    "        player_averages_scaled = pd.DataFrame(StandardScaler().fit_transform(player_averages)\n",
    "                                            , index = player_averages.index\n",
    "                                            ,columns = player_averages.columns)\n",
    "        player_averages_scaled['tov'] = - player_averages_scaled['tov']\n",
    "                \n",
    "        self.order = player_averages_scaled.drop(columns = punting_cats).sum(axis = 1).sort_values(ascending = False)\n",
    "    \n",
    "class ZPlusAgent(SimpleAgent):\n",
    "    \n",
    "    def __init__(self\n",
    "                 , punting_cats =[] #categories to completely ignore\n",
    "                 ,n_players = 12*7*2 #number of players to use for second-phase standardization\n",
    "                 ):\n",
    "        \n",
    "        super(ZPlusAgent, self).__init__()\n",
    "\n",
    "        first_order_scaled = pd.DataFrame(StandardScaler().fit_transform(player_averages)\n",
    "                                            , index = player_averages.index\n",
    "                                            ,columns = player_averages.columns)\n",
    "        first_order_scaled['tov'] = - first_order_scaled['tov']\n",
    "        \n",
    "        first_order = first_order_scaled.drop(columns = punting_cats).sum(axis = 1).sort_values(ascending = False)\n",
    "        top_players = first_order.index[0:n_players]\n",
    "        \n",
    "        plus_scaler = StandardScaler().fit(player_averages.loc[top_players])\n",
    "        \n",
    "        second_order_scaled = pd.DataFrame(plus_scaler.transform(player_averages)\n",
    "                                            , index = player_averages.index\n",
    "                                            ,columns = player_averages.columns)\n",
    "        second_order_scaled['tov'] = - second_order_scaled['tov']\n",
    "        \n",
    "        self.order = second_order_scaled.drop(columns = punting_cats).sum(axis = 1).sort_values(ascending = False)\n"
   ]
  },
  {
   "cell_type": "code",
   "execution_count": 1542,
   "id": "55813507",
   "metadata": {},
   "outputs": [
    {
     "name": "stdout",
     "output_type": "stream",
     "text": [
      "15.3%\n",
      "0:01:16.873050\n"
     ]
    }
   ],
   "source": [
    "start = datetime.now()\n",
    "primary_agent = ZPlusAgent(n_players = 12*7*2)\n",
    "default_agent = ZAgent()\n",
    "z_plus_res = try_strategy(primary_agent, default_agent, 1000)\n",
    "print(str(round(z_plus_res*100,1)) + '%')\n",
    "print(datetime.now() - start)"
   ]
  },
  {
   "cell_type": "markdown",
   "id": "1eeb9029",
   "metadata": {},
   "source": [
    "This is higher than the baseline rate of $\\frac{1}{12}$, which one would expect by chance. So the Z+ score works!"
   ]
  },
  {
   "cell_type": "markdown",
   "id": "2e7542d6",
   "metadata": {},
   "source": [
    "## 1b. Optimization through punting\n",
    "\n",
    "There is one more common strategy that we should consider: punting. Many fantasy drafters choose to ignore some number of categories in order to improve their performance in the other categories. We will test this to see if it gives our methodology a boost"
   ]
  },
  {
   "cell_type": "code",
   "execution_count": 1543,
   "id": "10273e34",
   "metadata": {},
   "outputs": [],
   "source": [
    "def try_punting_strategy(punting_cats, n = 500):\n",
    "    primary_agent = ZPlusAgent(punting_cats = punting_cats)\n",
    "    default_agent = ZAgent(punting_cats = [])\n",
    "    res = try_strategy(primary_agent, default_agent, n)\n",
    "    variance = np.sqrt(res*(1-res)/(12 * n))\n",
    "    return res, variance"
   ]
  },
  {
   "cell_type": "code",
   "execution_count": 1544,
   "id": "fcad7603",
   "metadata": {},
   "outputs": [
    {
     "name": "stdout",
     "output_type": "stream",
     "text": [
      "0:07:01.837992\n"
     ]
    }
   ],
   "source": [
    "start = datetime.now()\n",
    "punting_results = {cat : try_punting_strategy([cat]) for cat in categories}\n",
    "print(datetime.now() - start)"
   ]
  },
  {
   "cell_type": "code",
   "execution_count": 1550,
   "id": "5849ebf3",
   "metadata": {},
   "outputs": [
    {
     "data": {
      "image/png": "[encoded data removed]",
      "text/plain": [
       "<Figure size 432x288 with 1 Axes>"
      ]
     },
     "metadata": {
      "needs_background": "light"
     },
     "output_type": "display_data"
    }
   ],
   "source": [
    "results_unpacked = list(map(list,zip(*[(x[0],x[1][0],x[1][1]) for x in punting_results.items()])))\n",
    "\n",
    "fig, ax = plt.subplots()\n",
    "\n",
    "x_pos = np.arange(len(results_unpacked[0]))\n",
    "ax.bar(x_pos\n",
    "       , results_unpacked[1]\n",
    "       , yerr=results_unpacked[2]\n",
    "       , align='center'\n",
    "       , alpha=0.5\n",
    "       , ecolor='black'\n",
    "       , capsize=10)\n",
    "\n",
    "ax.set_ylabel('Winning fraction')\n",
    "ax.set_xticks(x_pos)\n",
    "ax.set_xticklabels(results_unpacked[0])\n",
    "ax.set_title('Viability of punting strategies')\n",
    "ax.axhline(y=res, color='green', linestyle='-', label = 'Z+ score')\n",
    "ax.axhline(y=1/12, color='orange', linestyle='-', label = 'Z score')\n",
    "plt.legend()\n",
    "\n",
    "# Save the figure and show\n",
    "plt.tight_layout()\n",
    "plt.show()"
   ]
  },
  {
   "cell_type": "markdown",
   "id": "4aa7da65",
   "metadata": {},
   "source": [
    "Punting blocks looks like a good idea!"
   ]
  },
  {
   "cell_type": "code",
   "execution_count": 1547,
   "id": "0ef9d674",
   "metadata": {},
   "outputs": [],
   "source": [
    "primary_agent = ZPlusAgent(punting_cats = ['blk'])\n",
    "default_agent = ZAgent(punting_cats = [])\n",
    "\n",
    "i = 7\n",
    "agents = [copy.deepcopy(default_agent) for x in range(i)] + \\\n",
    "                    [copy.deepcopy(primary_agent)] + \\\n",
    "                    [copy.deepcopy(default_agent) for x in range(11-i)]\n",
    "        \n",
    "teams = run_draft(agents ,7)"
   ]
  },
  {
   "cell_type": "code",
   "execution_count": 1548,
   "id": "39951e6f",
   "metadata": {},
   "outputs": [
    {
     "data": {
      "text/plain": [
       "['Trae Young',\n",
       " 'Stephen Curry',\n",
       " 'Darius Garland',\n",
       " 'DeMar DeRozan',\n",
       " 'Jordan Poole',\n",
       " 'Jalen Brunson',\n",
       " 'Monte Morris',\n",
       " 'Harrison Barnes',\n",
       " 'Tyler Herro',\n",
       " 'Deandre Ayton',\n",
       " 'Dwight Powell',\n",
       " 'Bojan Bogdanovic',\n",
       " 'Javonte Green',\n",
       " 'Onyeka Okongwu']"
      ]
     },
     "execution_count": 1548,
     "metadata": {},
     "output_type": "execute_result"
    }
   ],
   "source": [
    "[k for k,v in teams.items() if v == 7]"
   ]
  },
  {
   "cell_type": "code",
   "execution_count": 1549,
   "id": "4fb2b977",
   "metadata": {},
   "outputs": [
    {
     "data": {
      "text/plain": [
       "player\n",
       "Trae Young              [PG]\n",
       "Stephen Curry           [PG]\n",
       "Darius Garland          [PG]\n",
       "DeMar DeRozan           [PF]\n",
       "Jordan Poole            [SG]\n",
       "Jalen Brunson           [PG]\n",
       "Monte Morris            [PG]\n",
       "Harrison Barnes     [SF, PF]\n",
       "Tyler Herro             [SG]\n",
       "Deandre Ayton            [C]\n",
       "Dwight Powell            [C]\n",
       "Bojan Bogdanovic        [PF]\n",
       "Javonte Green       [SG, SF]\n",
       "Onyeka Okongwu           [C]\n",
       "Name: position, dtype: object"
      ]
     },
     "execution_count": 1549,
     "metadata": {},
     "output_type": "execute_result"
    }
   ],
   "source": [
    "positions.loc[[k for k,v in teams.items() if v == 7]]"
   ]
  },
  {
   "cell_type": "markdown",
   "id": "0675faf2",
   "metadata": {},
   "source": [
    "## 1c. The Gaussian optimizer \n",
    "\n",
    "To start designing a more sophisticated algorithm, let's analyze the points we'll score in a category, and the points an opponent will score in the same category. Where $F_{pc}$ is the number of points scored by player $p$ in category $c$, we can write them as \n",
    "\n",
    "$$\n",
    "  \\sum_{p \\in T_0} F_{pc} \\quad , \\quad \\sum_{p \\in T_1} F_{pc}\n",
    "$$\n",
    "\n",
    "The point differential between the two is\n",
    "\n",
    "$$\n",
    "  \\sum_{p \\in T_1} F_{pc} +  \\sum_{p \\in T_0} - F_{pc}\n",
    "$$\n",
    "\n",
    "With 14 players per team, the point differential is a sum of 28 random variables. That is large enough that it is not crazy to invoke the law of large numbers, which simplifies the distribution to a normal distribution. Writing $m_{pc}$ as the mean of a player $p$'s category $c$ statistics, and $\\sigma_{pc}$ as the corresponding standard deviation, we get it as \n",
    "\n",
    "$$\n",
    "   N(\\sum_{p \\in T_0} m_{pc} - \\sum_{p \\in T_1} m_{pc} \\: , \\: \\sum_{p \\in T_0} \\sigma_{pc}^2 + \\sum_{p \\in T_1} \\sigma_{pc}^2)\n",
    "$$\n",
    "\n",
    "The CDF of this normal distribution at 0, which also represents the probability of victory, is \n",
    "\n",
    "$$\n",
    "   \\frac{1}{2}[1 + erf(\\frac{\\sum_{p \\in T_0} m_{pc} - \\sum_{p \\in T_1} m_{pc}}{\\sqrt{2 (\\sum_{p \\in T_1} \\sigma_{pc}^2 + \\sum_{p \\in T_0} \\sigma_{pc}^2)}}]\n",
    "$$\n",
    "\n",
    "There is one significant wrinkle- free throw percentage and field goal percentage do not work like the other categories, since they are the result of division between two statistics. We can model them a different way. Assuming that each player shoots their average number of shots per game, and their overall percentage is constant throughout the season, then the percentage categories become a sum of binomials (or a Poisson binomial) divided by the number of free throw attempts. The mean of a Poisson binomial is simply the overall weighted mean. The variance of a Poisson binomials is the sum of variance of bernoullis, which can be written as, for example\n",
    "\n",
    "$$\n",
    "    \\sum_{p \\in T} \\frac{FT_p}{FTA_p} * (1-\\frac{FT_p}{FTA_p}) * FTA_p\n",
    "$$\n",
    "\n",
    "or rearranged\n",
    "\n",
    "$$\n",
    "    \\sum_{p \\in T} \\frac{FT_p}{FTA_p} * (FTA_p-FT_p)\n",
    "$$\n",
    "\n",
    "To get the correct variance for the overall percentage statistic, we need to adjust for the division. Variance changes by the square of a change factor so the result is \n",
    "\n",
    "$$\n",
    "    \\frac{ \\sum_{p \\in T} \\frac{FT_p}{FTA_p} * (FTA_p-FT_p)} {(\\sum_{p \\in T} FTA_p)^2}\n",
    "$$\n",
    "\n",
    "This gives us an overall formula for the probability of winning every category. The distribution of the total categories won is then another Poisson binomial, where the component binomials are all categories with the same winning probabilities. unfortunately the Poisson binomial has a CDF involving quite a bit of calculation- there is just no way to simplify the function besides enumerating all possibilities. Fortunately, the number of winning scenarios is only \n",
    "$$\n",
    "    {9 \\choose 5} + {9 \\choose 6} + {9 \\choose 7} + {9 \\choose 8}  + {9 \\choose 9} = 256\n",
    "$$\n",
    "\n",
    "So we can manually check each way of winning the match (for example, winning points/rebounds/assists/steals and losing the others), calculate their probabilities, and add them together.\n",
    "\n",
    "This gives us a formula, albeit a complicated one, to calculate the predicted win probability between two teams. We can use it to pick player with the following process:\n",
    "1. Define the statistics of a representative opposing team, or multiple opposing teams\n",
    "2. For each player you could draft, calculate your team's statistics if you chose that player\n",
    "3. For every possibility from step 2, calculate your probability of winning against the team(s) from part 1\n",
    "4. Choose the player who gives you the best chance of winning\n",
    "\n",
    "One might argue that the procedure defined above is too greedy because it optimizes winning chances at each step, ignoring players' general value. Ideally we want the optimizer to start by looking at players' general value (total Z+ score), then find players that best fit the team in later rounds. One strategy for this is to make a hybrid score, consisting of both the Gaussian win probability and the Z+ score. Since Z+ scores tend to be larger than win probabilities, we need to include a parameter to de-weight them, which we will call Beta. We can also weigh the Z+ score in a dynamic way, decreasing its importance from 100% to 0% by the last round."
   ]
  },
  {
   "cell_type": "code",
   "execution_count": 1556,
   "id": "e43f9f6a",
   "metadata": {},
   "outputs": [],
   "source": [
    "#this recursive function allows us to enumerate the winning probabilities efficiently\n",
    "#it allows the drafter to work ~5 times faster than it would with a list comprehension for the same step \n",
    "def combinatorial_calculation(c\n",
    "                              , c_comp\n",
    "                              , data = 1 #the latest probabilities. Defaults to 1 at start\n",
    "                              , level = 0 #the number of categories that have been worked into the probability\n",
    "                              , n_false = 0 #the number of category losses that have been trackes so far\n",
    "                             ):\n",
    "    \n",
    "    if n_false > (len(categories) -1)/2: #scenarios where a majority of categories are losses are overall losses\n",
    "        return 0 \n",
    "    elif level < len(categories):\n",
    "        #find the total winning probability of both branches from this point- if we win or lose the current category \n",
    "        return combinatorial_calculation(c, c_comp, data * c[categories[level]], level + 1, n_false) + \\\n",
    "                combinatorial_calculation(c, c_comp, data * c_comp[categories[level]], level + 1, n_false + 1)\n",
    "    else: #a series where all 9 categories has been processed, and n_false <= the cutoff, can be added to the total %\n",
    "        return data\n",
    "\n",
    "def process_stat_df(stat_df):\n",
    "    #manually add a section of the stat df for FG% and FT% \n",
    "    stat_df = pd.concat([stat_df, pd.DataFrame(columns = pd.MultiIndex.from_product([[\"fg_pct\", \"ft_pct\"]\n",
    "                                                                                     , [\"mean\", \"var\"]])\n",
    "                                              , index = stat_df.index)], axis = 1)\n",
    "                           \n",
    "    stat_df.loc[:,('fg_pct','mean')] = stat_df.loc[:,('fg','mean')]/stat_df.loc[:,('fga','mean')]\n",
    "    stat_df.loc[:,('fg_pct','var')] = stat_df['fg_var']/(stat_df.loc[:,('fga','mean')]**2)\n",
    "\n",
    "    stat_df.loc[:,('ft_pct','mean')] = stat_df.loc[:,('ft','mean')]/stat_df.loc[:,('fta','mean')]\n",
    "    stat_df.loc[:,('ft_pct','var')] = stat_df['ft_var']/(stat_df.loc[:,('fta','mean')]**2)\n",
    "    \n",
    "    stat_df.loc[:,('tov','mean')] = - stat_df.loc[:,('tov','mean')]\n",
    "    stat_df = stat_df[categories]\n",
    "    stat_df.sort_index(axis=1, inplace = True)\n",
    "    return stat_df\n",
    "\n",
    "class GOAgent(SimpleAgent):\n",
    "    \n",
    "    def __init__(self, punting_cats= [], beta = 0):\n",
    "        \n",
    "        super(GOAgent, self).__init__()\n",
    "\n",
    "        self.punting_cats = punting_cats\n",
    "        #make a table with player averages + standard deviations as additional columns \n",
    "        player_stats = weekly_df_2021_season.groupby(level = 'player').agg(['mean','var'])\n",
    "        \n",
    "        #it is helpful to keep track of the variance contribution of fg_pct and ft_pct\n",
    "        fg = player_stats.loc[:, ('fg','mean')]\n",
    "        fga = player_stats.loc[:, ('fga','mean')]\n",
    "        player_stats.loc[:,'fg_var'] = fg/fga *(fga - fg)\n",
    "        \n",
    "        ft = player_stats.loc[:, ('ft','mean')]\n",
    "        fta = player_stats.loc[:, ('fta','mean')]\n",
    "        player_stats.loc[:,'ft_var'] = ft/fta *(fta - ft)  \n",
    "        \n",
    "        self.player_stats = player_stats\n",
    "        #since we want to beat teams that use simple z-scores, we'll use them as representative opponents\n",
    "        representative_teams = run_draft([z_score_agent() for x in range(12)] ,7)\n",
    "        \n",
    "        self.team_list = [[] for i in range(12)]\n",
    "        for k,v, in representative_teams.items():\n",
    "            self.team_list[v].append(k) \n",
    "                \n",
    "        #for our own z_score estimates we want the best possible values, so we use z_plus\n",
    "        self.z_scores = z_plus_agent(punting_cats = punting_cats).order * beta\n",
    "                                \n",
    "    def make_pick(self, player_assignments):\n",
    "        \n",
    "        round_n = len(self.players) \n",
    "        \n",
    "        #1. Get the theoretical stats that your team will have, depending on which player you choose\n",
    "        my_team_stats = self.player_stats.loc[self.players]\n",
    "        available_players = self.player_stats.loc[~self.player_stats.index.isin(player_assignments.keys())]\n",
    "        theoretical_stats = available_players + my_team_stats.sum()\n",
    "        theoretical_stats = process_stat_df(theoretical_stats)\n",
    "        \n",
    "        #grab the representative teams that were saved earlier\n",
    "        other_teams = [x[:round_n + 1] for x in self.team_list]\n",
    "        other_team_stats = pd.DataFrame(\n",
    "            {i : self.player_stats.loc[self.player_stats.index.isin(other_teams[i])].agg('sum') for i in range(12)}\n",
    "                                        ).T\n",
    "        other_team_stats = process_stat_df(other_team_stats)\n",
    "        \n",
    "        #a cross join gives us a row for all of our players by each representative team\n",
    "        full_stat_df = theoretical_stats.reset_index().merge(other_team_stats\n",
    "                                                             , how = 'cross'\n",
    "                                                             , suffixes = ['_my','_other'])\n",
    "\n",
    "        \n",
    "        #with all the statistical parameters incolved, we can get probabilities of winning each category\n",
    "        my_stat_cols = [c + '_my' for c in categories]\n",
    "        other_stat_cols = [c + '_other' for c in categories]\n",
    "\n",
    "        my_means = full_stat_df.loc[:,(my_stat_cols,'mean')].values\n",
    "        other_means = full_stat_df.loc[:,(other_stat_cols,'mean')].values\n",
    "\n",
    "        my_vars = full_stat_df.loc[:,(my_stat_cols,'var')].values\n",
    "        other_vars = full_stat_df.loc[:,(other_stat_cols,'var')].values\n",
    "        \n",
    "        with np.errstate(invalid='ignore', divide='ignore'):\n",
    "            z = np.where((my_vars + other_vars) > 0 \n",
    "                                         , (my_means - other_means)/(np.sqrt(2 * (my_vars + other_vars)))\n",
    "                                         , 0)\n",
    "\n",
    "        c = pd.DataFrame((1 + special.erf(z))/2, columns = categories)\n",
    "        c[self.punting_cats] = 0\n",
    "        c_comp = 1 - c\n",
    "\n",
    "        #the combinatorial calculation function computes the Poisson binomial cdf efficiently\n",
    "        full_stat_df.loc[:,'win_probability'] = combinatorial_calculation(c, c_comp)\n",
    "        \n",
    "        #the best player will roughly have the highest EV of winning against the other players\n",
    "        player_scores = full_stat_df.groupby('player')['win_probability'].sum()\n",
    "        \n",
    "        #adjust the Gaussian optimizer's score with the saved z-scores\n",
    "        player_scores_adjusted = player_scores * (round_n)/13 + self.z_scores * (13-round_n)/13\n",
    "        \n",
    "        player = self.pick_from_order(player_scores_adjusted.sort_values(ascending = False))\n",
    "        return player\n",
    "               "
   ]
  },
  {
   "cell_type": "code",
   "execution_count": 1560,
   "id": "da45c3f8",
   "metadata": {},
   "outputs": [
    {
     "name": "stdout",
     "output_type": "stream",
     "text": [
      "0:06:12.564560\n"
     ]
    }
   ],
   "source": [
    "def try_beta_strategy(beta, n = 500):\n",
    "    primary_agent = GOAgent(punting_cats = [], beta = beta)\n",
    "    default_agent = ZAgent(punting_cats = [])\n",
    "    res = try_strategy(primary_agent, default_agent, n)\n",
    "    variance = np.sqrt(res*(1-res)/(12 * n))\n",
    "    return res, variance\n",
    "\n",
    "start = datetime.now()\n",
    "beta_results = {beta : try_beta_strategy([beta]) for beta in [0,0.05,0.1,0.15,0.2]}\n",
    "print(datetime.now() - start)"
   ]
  },
  {
   "cell_type": "code",
   "execution_count": 1561,
   "id": "854b21a1",
   "metadata": {},
   "outputs": [
    {
     "data": {
      "image/png": "[encoded data removed]",
      "text/plain": [
       "<Figure size 432x288 with 1 Axes>"
      ]
     },
     "metadata": {
      "needs_background": "light"
     },
     "output_type": "display_data"
    }
   ],
   "source": [
    "results_unpacked = list(map(list,zip(*[(str(x[0]),x[1][0],x[1][1]) for x in beta_results.items()])))\n",
    "\n",
    "fig, ax = plt.subplots()\n",
    "\n",
    "x_pos = np.arange(len(results_unpacked[0]))\n",
    "ax.bar(x_pos\n",
    "       , results_unpacked[1]\n",
    "       , yerr=results_unpacked[2]\n",
    "       , align='center'\n",
    "       , alpha=0.5\n",
    "       , ecolor='black'\n",
    "       , capsize=10)\n",
    "\n",
    "ax.set_ylabel('Winning fraction')\n",
    "ax.set_xticks(x_pos)\n",
    "ax.set_xticklabels(results_unpacked[0])\n",
    "ax.axhline(y=res, color='green', linestyle='-', label = 'Z+ score')\n",
    "ax.axhline(y=1/12, color='orange', linestyle='-', label = 'Z score')\n",
    "plt.legend()\n",
    "\n",
    "# Save the figure and show\n",
    "plt.tight_layout()\n",
    "plt.show()"
   ]
  },
  {
   "cell_type": "markdown",
   "id": "7e08c9dd",
   "metadata": {},
   "source": [
    "We can see a local optimum around Beta = 0.1 which is above 40%! That is better than just punting blocks"
   ]
  }
 ],
 "metadata": {
  "kernelspec": {
   "display_name": "Python 3 (ipykernel)",
   "language": "python",
   "name": "python3"
  },
  "language_info": {
   "codemirror_mode": {
    "name": "ipython",
    "version": 3
   },
   "file_extension": ".py",
   "mimetype": "text/x-python",
   "name": "python",
   "nbconvert_exporter": "python",
   "pygments_lexer": "ipython3",
   "version": "3.9.12"
  }
 },
 "nbformat": 4,
 "nbformat_minor": 5
}
