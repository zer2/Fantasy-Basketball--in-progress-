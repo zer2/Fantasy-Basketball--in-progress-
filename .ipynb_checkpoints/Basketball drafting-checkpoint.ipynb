{
 "cells": [
  {
   "cell_type": "markdown",
   "id": "7274e4f1",
   "metadata": {},
   "source": [
    "![meme](https://i.imgflip.com/6x0g1f.jpg)"
   ]
  },
  {
   "cell_type": "markdown",
   "id": "1a8f61da",
   "metadata": {},
   "source": [
    "# Optimizing fantasy basketball\n",
    "\n",
    "Fantasy basketball is an extremely popular pasttime for nba fans. Participants 'draft' players before the season, then get rewarded for their proxy's in-game performances during the season. \n",
    "\n",
    "One popular format is 'Head-to-Head: Most Categories'. Quoting from ESPN's description of the rules:\n",
    "\n",
    ">Head-to-Head: Most Categories: H2H Most Categories allows you to set \"X\" number of statistic categories. For each scoring period (usually Monday through Sunday) team totals are accumulated in each of the categories. At the end of the scoring period, the winner is determined by which team wins the most number of categories. The end result is a win (1-0-0), loss (0-1-0) or tie (0-0-1). These results correspond directly to each team's overall record.\n",
    "\n",
    "Common settings specify 9 categories: points, rebounds, assists, steals, blocks, 3-pointers, field goal %, free throw %, and turnovers. \n",
    "\n",
    "Participants are paired up to compete week-by-week, and at the end of the season, the player with the best record wins.\n",
    "\n",
    "Understanding the game of basketball helps win fantasy drafts. However, it's not the whole ballgame: even if we had precise probability distributions for player performance beforehand, or exact numbers with no uncertainty, it would not be obvious how to draft correctly. Do we want to optimize for all 9 categories, or just some of them? Do we try to compete on the categories that other drafters are going for, or ones they are not? Do we embrace high-volatility players or low-volatility players? The problem becomes a rich mathematical one, more familiar to data scientists than to basketball enthusiasts\n",
    "\n",
    "There is plenty of speculation about all this within the fantasy basketball community. However, few in the community realize that their strategies are leveraging high-level mathematical intuition. If we lean into the math, and treat this as an optimization problem, can we derive a method for fantasy drafting that delivers consistently high performance?\n",
    "\n",
    "Our approach will be to break down the drafting problem into three mathematical steps\n",
    "- Retrospectively drafting a full previous season, with full knowledge of player performance. Weekly totals will be randomly sampled from actual weekly totals for each player. Fantasy drafting this way becomes a purely mathematical problem, and an optimal strategy definitely exists. We will explore different ways of looking for it \n",
    "- Incorporating uncertainty into the priors of restrospective-drafting. We will explore how the strategy for retrospective drafting changes when there is uncertainty about the underlying probability distributions of player statistics\n",
    "- Using predictive data science methods to make estimates of priors/posteriors for actual performance. This last step will allow us to design an actual drafting algorithm that could be used for a season of fantasy basketball"
   ]
  },
  {
   "cell_type": "markdown",
   "id": "9c67dd3a",
   "metadata": {},
   "source": [
    "# Retrospective drafting"
   ]
  },
  {
   "cell_type": "code",
   "execution_count": 274,
   "id": "d266d129",
   "metadata": {},
   "outputs": [],
   "source": [
    "import pandas as pd\n",
    "from sklearn.preprocessing import StandardScaler\n",
    "from itertools import combinations\n",
    "from collections import Counter\n",
    "pd.set_option('display.max_rows', 100)"
   ]
  },
  {
   "cell_type": "markdown",
   "id": "a3232b21",
   "metadata": {},
   "source": [
    "We will use the raw data from [link](https://www.advancedsportsanalytics.com/nba-raw-data)"
   ]
  },
  {
   "cell_type": "code",
   "execution_count": 5,
   "id": "7bab59ac",
   "metadata": {},
   "outputs": [],
   "source": [
    "stat_df = pd.read_csv('../data/ASA All NBA Raw Data.csv')\n",
    "essential_info = stat_df[['player','game_date','pts','trb','ast','stl','blk','fg3','fg','fga','ft','fta','tov']]"
   ]
  },
  {
   "cell_type": "code",
   "execution_count": 33,
   "id": "6996109a",
   "metadata": {},
   "outputs": [],
   "source": [
    "player_totals = essential_info.drop(columns= 'game_date').groupby(['player']).sum()\n",
    "player_totals.loc[:,'ft%'] = player_totals['ft']/player_totals['fta']\n",
    "player_totals.loc[:,'fg%'] = player_totals['fg']/player_totals['fga']\n",
    "player_totals = player_totals.drop(columns = ['ft','fta','fg','fga'])"
   ]
  },
  {
   "cell_type": "code",
   "execution_count": 362,
   "id": "847beb83",
   "metadata": {},
   "outputs": [],
   "source": [
    "scaler = StandardScaler()\n",
    "player_totals_scaled = pd.DataFrame(scaler.fit_transform(player_totals)\n",
    "                                    , index = player_totals.index\n",
    "                                    ,columns = player_totals.columns)\n",
    "player_totals_scaled['tov'] = - player_totals_scaled['tov']\n",
    "naive_guess_1 = player_totals_scaled.sum(axis = 1).sort_values(ascending = False)\n",
    "punt_strat_1 = player_totals_scaled.drop(columns = ['tov']).sum(axis = 1).sort_values(ascending = False)"
   ]
  },
  {
   "cell_type": "code",
   "execution_count": 353,
   "id": "6969ba9d",
   "metadata": {},
   "outputs": [],
   "source": [
    "stats_by_player = essential_info.groupby('player')\n",
    "\n",
    "def run_many_head_to_heads(t1,t2):\n",
    "    return np.mean([run_single_head_to_head(t1,t2) for i in range(1000)])\n",
    "\n",
    "def run_single_head_to_head(t1, t2):\n",
    "    total_stats_t1 = pd.concat([stats_by_player.get_group(player).sample(1) for player in t1]).sum(axis = 0)\n",
    "    total_stats_t2 = pd.concat([stats_by_player.get_group(player).sample(1) for player in t2]).sum(axis = 0)\n",
    "\n",
    "    res = evaluate_winner_by_total_stats(total_stats_t1,total_stats_t2)\n",
    "    return res\n",
    "\n",
    "def run_many_seasons(teams, n_seasons):\n",
    "    return Counter([run_season(teams) for i in range(n_seasons)])\n",
    "\n",
    "def run_season(teams):\n",
    "    combos = combinations(range(len(teams)), 2)\n",
    "    team_points = [0 for i in range(len(teams))]\n",
    "    for combo in combos:\n",
    "        t1 = teams[combo[0]]\n",
    "        t2 = teams[combo[1]]\n",
    "\n",
    "        res = run_single_head_to_head(t1,t2)\n",
    "        if res:\n",
    "            team_points[combo[0]] += 1\n",
    "        else: \n",
    "            team_points[combo[1]] += 1\n",
    "    return team_points.index(max(team_points))\n",
    "    \n",
    "def winner_by_stats_1win(total_stats_t1, total_stats_t2):\n",
    "    pts = total_stats_t1['pts'] > total_stats_t2['pts']\n",
    "    trb = total_stats_t1['trb'] > total_stats_t2['trb'] \n",
    "    ast = total_stats_t1['ast'] > total_stats_t2['ast'] \n",
    "    blk = total_stats_t1['blk'] > total_stats_t2['blk'] \n",
    "    stl = total_stats_t1['stl'] > total_stats_t2['stl']\n",
    "    fg3 = total_stats_t1['fg3'] > total_stats_t2['fg3'] \n",
    "    \n",
    "    fgp_1 = np.where(total_stats_t1['fga'] > 0\n",
    "                   ,total_stats_t1['fg']/total_stats_t1['fga']\n",
    "                    , 0)\n",
    "    \n",
    "    fgp_2 = np.where(total_stats_t2['fga'] > 0\n",
    "                   ,total_stats_t2['fg']/total_stats_t2['fga']\n",
    "                    , 0)\n",
    "    fgp = fgp_1 > fgp_2\n",
    "    \n",
    "    ftp_1 = np.where(total_stats_t1['fta'] > 0\n",
    "                   ,total_stats_t1['ft']/total_stats_t1['fta']\n",
    "                    , 0)\n",
    "    \n",
    "    ftp_2 = np.where(total_stats_t2['fta'] > 0\n",
    "                   ,total_stats_t2['ft']/total_stats_t2['fta']\n",
    "                    , 0)\n",
    "    ftp = ftp_1 > ftp_2 \n",
    "    \n",
    "    tov = total_stats_t1['tov'] < total_stats_t2['tov']\n",
    "   \n",
    "    return (int(pts) + int(trb) + int(ast) + int(blk) + int(stl) + int(fg3) + int(fgp) + int(ftp) + int(tov)) >= 5\n",
    "\n"
   ]
  },
  {
   "cell_type": "code",
   "execution_count": 344,
   "id": "e55ccfe4",
   "metadata": {},
   "outputs": [],
   "source": [
    "def run_draft(agents, number_of_rounds):\n",
    "    players_available = set(player_totals.index)\n",
    "    \n",
    "    teams = [[] for j in range(len(agents))]\n",
    "    for i in range(number_of_rounds):\n",
    "        for j in range(len(agents)):\n",
    "            a = agents[j]\n",
    "            chosen_player = a(players_available)\n",
    "            players_available.remove(chosen_player)\n",
    "            teams[j].append(chosen_player)\n",
    "        for j in reversed(range(len(agents))):\n",
    "            a = agents[j]\n",
    "            chosen_player = a(players_available)\n",
    "            players_available.remove(chosen_player)\n",
    "            teams[j].append(chosen_player)\n",
    "\n",
    "    return teams"
   ]
  },
  {
   "cell_type": "code",
   "execution_count": 363,
   "id": "2c99a636",
   "metadata": {},
   "outputs": [],
   "source": [
    "def naive_agent_1(players_available):\n",
    "    f = pd.Series(naive_guess_1.index.isin(players_available), index = naive_guess_1.index)\n",
    "    chosen_player = next(i for i,v in f.iteritems() if v)\n",
    "    return chosen_player\n",
    "\n",
    "def punt_agent_1(players_available):\n",
    "    f = pd.Series(punt_strat_1.index.isin(players_available), index = punt_strat_1.index)\n",
    "    chosen_player = next(i for i,v in f.iteritems() if v)\n",
    "    \n",
    "    return chosen_player\n",
    "\n",
    "def random_agent(players_available):\n",
    "    return random.choice(tuple(players_available))\n"
   ]
  },
  {
   "cell_type": "code",
   "execution_count": 368,
   "id": "f2608672",
   "metadata": {},
   "outputs": [
    {
     "name": "stderr",
     "output_type": "stream",
     "text": [
      "C:\\Users\\Zach Rosenof\\AppData\\Local\\Temp\\ipykernel_11380\\4244766987.py:52: RuntimeWarning: invalid value encountered in longlong_scalars\n",
      "  ,total_stats_t2['ft']/total_stats_t2['fta']\n",
      "C:\\Users\\Zach Rosenof\\AppData\\Local\\Temp\\ipykernel_11380\\4244766987.py:52: RuntimeWarning: invalid value encountered in longlong_scalars\n",
      "  ,total_stats_t2['ft']/total_stats_t2['fta']\n",
      "C:\\Users\\Zach Rosenof\\AppData\\Local\\Temp\\ipykernel_11380\\4244766987.py:48: RuntimeWarning: invalid value encountered in longlong_scalars\n",
      "  ,total_stats_t1['ft']/total_stats_t1['fta']\n",
      "C:\\Users\\Zach Rosenof\\AppData\\Local\\Temp\\ipykernel_11380\\4244766987.py:48: RuntimeWarning: invalid value encountered in longlong_scalars\n",
      "  ,total_stats_t1['ft']/total_stats_t1['fta']\n",
      "C:\\Users\\Zach Rosenof\\AppData\\Local\\Temp\\ipykernel_11380\\4244766987.py:52: RuntimeWarning: invalid value encountered in longlong_scalars\n",
      "  ,total_stats_t2['ft']/total_stats_t2['fta']\n",
      "C:\\Users\\Zach Rosenof\\AppData\\Local\\Temp\\ipykernel_11380\\4244766987.py:48: RuntimeWarning: invalid value encountered in longlong_scalars\n",
      "  ,total_stats_t1['ft']/total_stats_t1['fta']\n",
      "C:\\Users\\Zach Rosenof\\AppData\\Local\\Temp\\ipykernel_11380\\4244766987.py:48: RuntimeWarning: invalid value encountered in longlong_scalars\n",
      "  ,total_stats_t1['ft']/total_stats_t1['fta']\n",
      "C:\\Users\\Zach Rosenof\\AppData\\Local\\Temp\\ipykernel_11380\\4244766987.py:52: RuntimeWarning: invalid value encountered in longlong_scalars\n",
      "  ,total_stats_t2['ft']/total_stats_t2['fta']\n",
      "C:\\Users\\Zach Rosenof\\AppData\\Local\\Temp\\ipykernel_11380\\4244766987.py:52: RuntimeWarning: invalid value encountered in longlong_scalars\n",
      "  ,total_stats_t2['ft']/total_stats_t2['fta']\n",
      "C:\\Users\\Zach Rosenof\\AppData\\Local\\Temp\\ipykernel_11380\\4244766987.py:48: RuntimeWarning: invalid value encountered in longlong_scalars\n",
      "  ,total_stats_t1['ft']/total_stats_t1['fta']\n",
      "C:\\Users\\Zach Rosenof\\AppData\\Local\\Temp\\ipykernel_11380\\4244766987.py:52: RuntimeWarning: invalid value encountered in longlong_scalars\n",
      "  ,total_stats_t2['ft']/total_stats_t2['fta']\n",
      "C:\\Users\\Zach Rosenof\\AppData\\Local\\Temp\\ipykernel_11380\\4244766987.py:48: RuntimeWarning: invalid value encountered in longlong_scalars\n",
      "  ,total_stats_t1['ft']/total_stats_t1['fta']\n"
     ]
    }
   ],
   "source": [
    "res = [[] for i in range(12)]\n",
    "for i in range(12):\n",
    "    agents = [naive_agent_1]* (11-i) + [punt_agent_1] + [naive_agent_1]*i\n",
    "    teams = run_draft(agents ,3)\n",
    "    res[i] = run_many_seasons(teams, 100)"
   ]
  }
 ],
 "metadata": {
  "kernelspec": {
   "display_name": "Python 3 (ipykernel)",
   "language": "python",
   "name": "python3"
  },
  "language_info": {
   "codemirror_mode": {
    "name": "ipython",
    "version": 3
   },
   "file_extension": ".py",
   "mimetype": "text/x-python",
   "name": "python",
   "nbconvert_exporter": "python",
   "pygments_lexer": "ipython3",
   "version": "3.9.12"
  }
 },
 "nbformat": 4,
 "nbformat_minor": 5
}
