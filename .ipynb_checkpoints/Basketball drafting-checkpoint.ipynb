{
 "cells": [
  {
   "cell_type": "markdown",
   "id": "7274e4f1",
   "metadata": {},
   "source": [
    "![meme](https://i.imgflip.com/6x0g1f.jpg)"
   ]
  },
  {
   "cell_type": "markdown",
   "id": "1a8f61da",
   "metadata": {},
   "source": [
    "# Optimizing fantasy basketball\n",
    "\n",
    "Fantasy basketball is an extremely popular pasttime for nba fans. Participants 'draft' players before the season, then get rewarded for their proxy's in-game performances during the season. \n",
    "\n",
    "One popular format is 'Head-to-Head: Most Categories'. Quoting from ESPN's description of the rules:\n",
    "\n",
    ">Head-to-Head: Most Categories: H2H Most Categories allows you to set \"X\" number of statistic categories. For each scoring period (usually Monday through Sunday) team totals are accumulated in each of the categories. At the end of the scoring period, the winner is determined by which team wins the most number of categories. The end result is a win (1-0-0), loss (0-1-0) or tie (0-0-1). These results correspond directly to each team's overall record.\n",
    "\n",
    "Common settings specify 9 categories: points, rebounds, assists, steals, blocks, 3-pointers, field goal %, free throw %, and turnovers. \n",
    "\n",
    "Participants are paired up to compete week-by-week, and at the end of the season, the player with the best record wins.\n",
    "\n",
    "Understanding the game of basketball helps win fantasy drafts. However, it's not the whole ballgame: even if we had precise probability distributions for player performance beforehand, or exact numbers with no uncertainty, it would not be obvious how to draft correctly. Do we want to optimize for all 9 categories, or just some of them? Do we try to compete on the categories that other drafters are going for, or ones they are not? Do we embrace high-volatility players or low-volatility players? The problem becomes a rich mathematical one, more familiar to data scientists than to basketball enthusiasts\n",
    "\n",
    "There is plenty of speculation about all this within the fantasy basketball community. However, few in the community realize that their strategies are leveraging high-level mathematical intuition. If we lean into the math, and treat this as an optimization problem, can we derive a method for fantasy drafting that delivers consistently high performance?\n",
    "\n",
    "Our approach will be to break down the drafting problem into three mathematical steps\n",
    "- Retrospectively drafting a full previous season, with full knowledge of player performance. Weekly totals will be randomly sampled from actual weekly totals for each player. Fantasy drafting this way becomes a purely mathematical problem, and an optimal strategy definitely exists. We will explore different ways of looking for it \n",
    "- Incorporating uncertainty into the priors of restrospective-drafting. We will explore how the strategy for retrospective drafting changes when there is uncertainty about the underlying probability distributions of player statistics\n",
    "- Using predictive data science methods to make estimates of priors/posteriors for actual performance. This last step will allow us to design an actual drafting algorithm that could be used for a season of fantasy basketball"
   ]
  },
  {
   "cell_type": "markdown",
   "id": "9c67dd3a",
   "metadata": {},
   "source": [
    "# Retrospective drafting"
   ]
  },
  {
   "cell_type": "code",
   "execution_count": 271,
   "id": "d266d129",
   "metadata": {},
   "outputs": [],
   "source": [
    "import pandas as pd\n",
    "from sklearn.preprocessing import StandardScaler\n",
    "from itertools import combinations\n",
    "from collections import Counter\n",
    "import numpy as np\n",
    "pd.set_option('display.max_rows', 100)\n",
    "pd.options.mode.chained_assignment = None  # default='warn'"
   ]
  },
  {
   "cell_type": "markdown",
   "id": "a3232b21",
   "metadata": {},
   "source": [
    "We will use the raw data from [link](https://www.advancedsportsanalytics.com/nba-raw-data)"
   ]
  },
  {
   "cell_type": "code",
   "execution_count": 4,
   "id": "7bab59ac",
   "metadata": {},
   "outputs": [],
   "source": [
    "stat_df = pd.read_csv('../data/ASA All NBA Raw Data.csv')\n",
    "essential_info = stat_df[['player','game_date','pts','trb','ast','stl','blk','fg3','fg','fga','ft','fta','tov']]"
   ]
  },
  {
   "cell_type": "code",
   "execution_count": 5,
   "id": "6996109a",
   "metadata": {},
   "outputs": [],
   "source": [
    "player_totals = essential_info.drop(columns= 'game_date').groupby(['player']).sum()\n",
    "player_totals.loc[:,'ft%'] = player_totals['ft']/player_totals['fta']\n",
    "player_totals.loc[:,'fg%'] = player_totals['fg']/player_totals['fga']\n",
    "player_totals = player_totals.drop(columns = ['ft','fta','fg','fga'])"
   ]
  },
  {
   "cell_type": "code",
   "execution_count": 6,
   "id": "847beb83",
   "metadata": {},
   "outputs": [],
   "source": [
    "scaler = StandardScaler()\n",
    "player_totals_scaled = pd.DataFrame(scaler.fit_transform(player_totals)\n",
    "                                    , index = player_totals.index\n",
    "                                    ,columns = player_totals.columns)\n",
    "player_totals_scaled['tov'] = - player_totals_scaled['tov']\n",
    "naive_guess_1 = player_totals_scaled.sum(axis = 1).sort_values(ascending = False)\n",
    "punt_strat_1 = player_totals_scaled.drop(columns = ['tov']).sum(axis = 1).sort_values(ascending = False)"
   ]
  },
  {
   "cell_type": "code",
   "execution_count": null,
   "id": "22a4575e",
   "metadata": {},
   "outputs": [],
   "source": [
    "stats_by_player = essential_info.groupby('player')"
   ]
  },
  {
   "cell_type": "code",
   "execution_count": 202,
   "id": "41541338",
   "metadata": {},
   "outputs": [],
   "source": [
    "def run_season(teams):\n",
    "    #returns the winner\n",
    "    \n",
    "    season_df = essential_info.drop(columns = 'game_date')\n",
    "    season_df.loc[:,'team'] = season_df['player'].map(teams) \n",
    "    season_df = season_df.dropna()\n",
    "    \n",
    "    performances = season_df.groupby('player').sample(11, replace = True)\n",
    "    performances.loc[:,'week'] = performances.groupby('player').cumcount()\n",
    "    team_performances = performances.groupby(['team','week']).sum()\n",
    "    team_performances.loc[:,'fgp'] = np.where(team_performances['fga'] > 0\n",
    "                                             ,team_performances['fg']/team_performances['fga']\n",
    "                                             ,0)\n",
    "    team_performances.loc[:,'ftp'] = np.where(team_performances['fta'] > 0\n",
    "                                             ,team_performances['ft']/team_performances['fgp']\n",
    "                                             ,0)\n",
    "    team_performances = team_performances.drop(columns = ['fg','fga','ft','fta'])\n",
    "    opposing_team_schedule = [(round_robin_opponent(t,w),w) for t, w in team_performances.index]\n",
    "    opposing_team_performances = team_performances.loc[opposing_team_schedule]\n",
    "\n",
    "    cat_losses = np.less(team_performances.values,opposing_team_performances.values).sum(axis = 1)\n",
    "    cat_wins = np.greater(team_performances.values,opposing_team_performances.values).sum(axis = 1)\n",
    "\n",
    "    team_performances.loc[:,'tie'] = cat_wins == cat_losses\n",
    "    team_performances.loc[:,'win'] = cat_wins > cat_losses\n",
    "    return team_performances.groupby('team')['win','tie'].sum().sort_values(by = ['win','tie'], ascending = False).index[0]"
   ]
  },
  {
   "cell_type": "code",
   "execution_count": 136,
   "id": "56a2ec5f",
   "metadata": {},
   "outputs": [],
   "source": [
    "#defining round robin opponents, based on the circle method \n",
    "def round_robin_opponent(t\n",
    "                         , w\n",
    "                         , n =12): # n must be an even number\n",
    "    \n",
    "    if t == 0: #position 0 remains fixed, and the other teams rotate around their (n - 1) spots\n",
    "        return ((n - 2 - w) % (n - 1) ) + 1\n",
    "    elif ((t + w) % 11 ==0): # in spot (n-1) of the non-zero spots, the opponent is 0 \n",
    "        return 0 \n",
    "    else: #we calculate the current position of team, infer the opponent's position, then calculate the opposing team\n",
    "        res = (((n - 1 - (t + w) % (n - 1)) % (n - 1))- w) % (n - 1)\n",
    "        return (n - 1) if res == 0 else res\n",
    "         \n",
    "#this is based on the circle method "
   ]
  },
  {
   "cell_type": "code",
   "execution_count": 272,
   "id": "8edddb02",
   "metadata": {},
   "outputs": [],
   "source": [
    "def run_multiple_seasons(teams, n = 5):\n",
    "    #returns the winner\n",
    "    \n",
    "    season_df = essential_info.drop(columns = 'game_date')\n",
    "    season_df.loc[:,'team'] = season_df['player'].map(teams) \n",
    "    season_df = season_df.dropna()\n",
    "\n",
    "    performances = season_df.groupby('player').sample(11*n, replace = True)\n",
    "    performances.loc[:,'week'] = performances.groupby('player').cumcount()\n",
    "    performances.loc[:,'season'] = performances['week'] % 11\n",
    "\n",
    "    team_performances = performances.groupby(['season','team','week']).sum()\n",
    "    team_performances.loc[:,'fgp'] = np.where(team_performances['fga'] > 0\n",
    "                                             ,team_performances['fg']/team_performances['fga']\n",
    "                                             ,0)\n",
    "    team_performances.loc[:,'ftp'] = np.where(team_performances['fta'] > 0\n",
    "                                             ,team_performances['ft']/team_performances['fgp']\n",
    "                                             ,0)\n",
    "    team_performances = team_performances.drop(columns = ['fg','fga','ft','fta'])\n",
    "    opposing_team_schedule = [(s,round_robin_opponent(t,w),w) for s, t, w in team_performances.index]\n",
    "    opposing_team_performances = team_performances.loc[opposing_team_schedule]\n",
    "\n",
    "    cat_losses = np.less(team_performances.values,opposing_team_performances.values).sum(axis = 1)\n",
    "    cat_wins = np.greater(team_performances.values,opposing_team_performances.values).sum(axis = 1)\n",
    "\n",
    "    team_performances.loc[:,'tie'] = cat_wins == cat_losses\n",
    "    team_performances.loc[:,'win'] = cat_wins > cat_losses\n",
    "    team_results = team_performances.groupby(['team','season']).agg({'win' : sum, 'tie' : sum})\n",
    "\n",
    "    most_wins = team_results.groupby('season')['win'].transform('max')\n",
    "    winners = team_results[team_results['win'] == most_wins]\n",
    "\n",
    "    most_ties = winners.groupby('season')['tie'].transform('max')\n",
    "    winners_after_ties = winners[winners['tie'] == most_ties]\n",
    "    winners_after_ties.loc[:,'winner_points'] = 1\n",
    "    season_counts = winners_after_ties.groupby('season')['winner_points'].transform('count')\n",
    "    winners_after_ties.loc[:,'winner_points_adjusted'] = 1/season_counts\n",
    "    return winners_after_ties.groupby('team')['winner_points_adjusted'].sum()"
   ]
  },
  {
   "cell_type": "code",
   "execution_count": 273,
   "id": "e55ccfe4",
   "metadata": {},
   "outputs": [],
   "source": [
    "def run_draft(agents, number_of_rounds):\n",
    "    players_available = set(player_totals.index)\n",
    "    \n",
    "    player_assignments = {}\n",
    "    for i in range(number_of_rounds):\n",
    "        for j in range(len(agents)):\n",
    "            a = agents[j]\n",
    "            chosen_player = a(players_available)\n",
    "            players_available.remove(chosen_player)\n",
    "            player_assignments[chosen_player] = j\n",
    "        for j in reversed(range(len(agents))):\n",
    "            a = agents[j]\n",
    "            chosen_player = a(players_available)\n",
    "            players_available.remove(chosen_player)\n",
    "            player_assignments[chosen_player] = j\n",
    "\n",
    "    return player_assignments"
   ]
  },
  {
   "cell_type": "code",
   "execution_count": 274,
   "id": "2c99a636",
   "metadata": {},
   "outputs": [],
   "source": [
    "def naive_agent_1(players_available):\n",
    "    f = pd.Series(naive_guess_1.index.isin(players_available), index = naive_guess_1.index)\n",
    "    chosen_player = next(i for i,v in f.iteritems() if v)\n",
    "    return chosen_player\n",
    "\n",
    "def punt_agent_1(players_available):\n",
    "    f = pd.Series(punt_strat_1.index.isin(players_available), index = punt_strat_1.index)\n",
    "    chosen_player = next(i for i,v in f.iteritems() if v)\n",
    "    \n",
    "    return chosen_player\n",
    "\n",
    "def random_agent(players_available):\n",
    "    return random.choice(tuple(players_available))\n"
   ]
  },
  {
   "cell_type": "code",
   "execution_count": 275,
   "id": "f2608672",
   "metadata": {},
   "outputs": [],
   "source": [
    "res = [[] for i in range(12)]\n",
    "for i in range(12):\n",
    "    agents = [naive_agent_1]* (11-i) + [punt_agent_1] + [naive_agent_1]*i\n",
    "    teams = run_draft(agents ,3)\n",
    "    res[i] = run_multiple_seasons(teams, 100)"
   ]
  }
 ],
 "metadata": {
  "kernelspec": {
   "display_name": "Python 3 (ipykernel)",
   "language": "python",
   "name": "python3"
  },
  "language_info": {
   "codemirror_mode": {
    "name": "ipython",
    "version": 3
   },
   "file_extension": ".py",
   "mimetype": "text/x-python",
   "name": "python",
   "nbconvert_exporter": "python",
   "pygments_lexer": "ipython3",
   "version": "3.9.12"
  }
 },
 "nbformat": 4,
 "nbformat_minor": 5
}
