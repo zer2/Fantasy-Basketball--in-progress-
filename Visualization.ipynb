{
 "cells": [
  {
   "cell_type": "code",
   "execution_count": 1,
   "id": "72e21366",
   "metadata": {},
   "outputs": [
    {
     "name": "stdout",
     "output_type": "stream",
     "text": [
      "Collecting manim\n",
      "  Downloading manim-0.17.3-py3-none-any.whl (530 kB)\n",
      "Requirement already satisfied: watchdog<3.0.0,>=2.1.6 in c:\\users\\zach rosenof\\anaconda3\\lib\\site-packages (from manim) (2.1.6)\n",
      "Collecting click-default-group<2.0.0,>=1.2.2\n",
      "  Downloading click-default-group-1.2.2.tar.gz (3.3 kB)\n",
      "Collecting svgelements<2.0.0,>=1.8.0\n",
      "  Downloading svgelements-1.9.5-py2.py3-none-any.whl (137 kB)\n",
      "Collecting cloup<0.14.0,>=0.13.0\n",
      "  Downloading cloup-0.13.1-py2.py3-none-any.whl (51 kB)\n",
      "Requirement already satisfied: networkx<3.0,>=2.5 in c:\\users\\zach rosenof\\anaconda3\\lib\\site-packages (from manim) (2.7.1)\n",
      "Collecting moderngl<6.0.0,>=5.6.3\n",
      "  Downloading moderngl-5.8.2-cp39-cp39-win_amd64.whl (107 kB)\n",
      "Collecting rich!=12.0.0,>=6.0\n",
      "  Downloading rich-13.5.0-py3-none-any.whl (239 kB)\n",
      "Collecting srt<4.0.0,>=3.5.0\n",
      "  Downloading srt-3.5.3.tar.gz (28 kB)\n",
      "Collecting isosurfaces==0.1.0\n",
      "  Downloading isosurfaces-0.1.0-py3-none-any.whl (10 kB)\n",
      "Requirement already satisfied: numpy<2.0,>=1.19 in c:\\users\\zach rosenof\\anaconda3\\lib\\site-packages (from manim) (1.21.6)\n",
      "Collecting manimpango<0.5.0,>=0.4.0.post0\n",
      "  Downloading ManimPango-0.4.3-cp39-cp39-win_amd64.whl (4.1 MB)\n",
      "Collecting pycairo<2.0,>=1.21\n",
      "  Downloading pycairo-1.24.0-cp39-cp39-win_amd64.whl (1.2 MB)\n",
      "Collecting pydub<0.26.0,>=0.25.1\n",
      "  Downloading pydub-0.25.1-py2.py3-none-any.whl (32 kB)\n",
      "Requirement already satisfied: click<=9.0,>=7.2 in c:\\users\\zach rosenof\\anaconda3\\lib\\site-packages (from manim) (8.0.4)\n",
      "Requirement already satisfied: tqdm<5.0.0,>=4.62.3 in c:\\users\\zach rosenof\\anaconda3\\lib\\site-packages (from manim) (4.64.0)\n",
      "Collecting colour<0.2.0,>=0.1.5\n",
      "  Downloading colour-0.1.5-py2.py3-none-any.whl (23 kB)\n",
      "Collecting mapbox-earcut<2.0.0,>=1.0.0\n",
      "  Downloading mapbox_earcut-1.0.1-cp39-cp39-win_amd64.whl (71 kB)\n",
      "Collecting screeninfo<0.9,>=0.8\n",
      "  Downloading screeninfo-0.8.1-py3-none-any.whl (12 kB)\n",
      "Collecting skia-pathops<0.8.0,>=0.7.0\n",
      "  Downloading skia_pathops-0.7.4-cp39-cp39-win_amd64.whl (2.8 MB)\n",
      "Collecting Pillow<10.0,>=9.1\n",
      "  Downloading Pillow-9.5.0-cp39-cp39-win_amd64.whl (2.5 MB)\n",
      "Collecting moderngl-window<3.0.0,>=2.3.0\n",
      "  Downloading moderngl_window-2.4.4-py3-none-any.whl (369 kB)\n",
      "Requirement already satisfied: decorator<6.0.0,>=5.0.7 in c:\\users\\zach rosenof\\anaconda3\\lib\\site-packages (from manim) (5.1.1)\n",
      "Requirement already satisfied: scipy<2.0.0,>=1.7.3 in c:\\users\\zach rosenof\\anaconda3\\lib\\site-packages (from manim) (1.10.1)\n",
      "Requirement already satisfied: Pygments<3.0.0,>=2.10.0 in c:\\users\\zach rosenof\\anaconda3\\lib\\site-packages (from manim) (2.11.2)\n",
      "Requirement already satisfied: requests<3.0.0,>=2.26.0 in c:\\users\\zach rosenof\\anaconda3\\lib\\site-packages (from manim) (2.27.1)\n",
      "Requirement already satisfied: colorama in c:\\users\\zach rosenof\\anaconda3\\lib\\site-packages (from click<=9.0,>=7.2->manim) (0.4.4)\n",
      "Collecting glcontext<3,>=2.3.6\n",
      "  Downloading glcontext-2.4.0-cp39-cp39-win_amd64.whl (12 kB)\n",
      "Collecting pyrr<1,>=0.10.3\n",
      "  Downloading pyrr-0.10.3-py3-none-any.whl (46 kB)\n",
      "Collecting pyglet>=2.0dev23\n",
      "  Downloading pyglet-2.0.9-py3-none-any.whl (854 kB)\n",
      "Requirement already satisfied: multipledispatch in c:\\users\\zach rosenof\\anaconda3\\lib\\site-packages (from pyrr<1,>=0.10.3->moderngl-window<3.0.0,>=2.3.0->manim) (0.6.0)\n",
      "Requirement already satisfied: charset-normalizer~=2.0.0 in c:\\users\\zach rosenof\\anaconda3\\lib\\site-packages (from requests<3.0.0,>=2.26.0->manim) (2.0.4)\n",
      "Requirement already satisfied: certifi>=2017.4.17 in c:\\users\\zach rosenof\\anaconda3\\lib\\site-packages (from requests<3.0.0,>=2.26.0->manim) (2022.9.24)\n",
      "Requirement already satisfied: urllib3<1.27,>=1.21.1 in c:\\users\\zach rosenof\\anaconda3\\lib\\site-packages (from requests<3.0.0,>=2.26.0->manim) (1.26.9)\n",
      "Requirement already satisfied: idna<4,>=2.5 in c:\\users\\zach rosenof\\anaconda3\\lib\\site-packages (from requests<3.0.0,>=2.26.0->manim) (3.3)\n",
      "Collecting markdown-it-py>=2.2.0\n",
      "  Downloading markdown_it_py-3.0.0-py3-none-any.whl (87 kB)\n",
      "Collecting Pygments<3.0.0,>=2.10.0\n",
      "  Downloading Pygments-2.15.1-py3-none-any.whl (1.1 MB)\n",
      "Collecting mdurl~=0.1\n",
      "  Downloading mdurl-0.1.2-py3-none-any.whl (10.0 kB)\n",
      "Requirement already satisfied: six in c:\\users\\zach rosenof\\anaconda3\\lib\\site-packages (from multipledispatch->pyrr<1,>=0.10.3->moderngl-window<3.0.0,>=2.3.0->manim) (1.16.0)\n",
      "Building wheels for collected packages: click-default-group, srt\n",
      "  Building wheel for click-default-group (setup.py): started\n",
      "  Building wheel for click-default-group (setup.py): finished with status 'done'\n",
      "  Created wheel for click-default-group: filename=click_default_group-1.2.2-py3-none-any.whl size=3385 sha256=66e97d7fbe3ccede40f8dfb40b544f4dcd26a18ee60fc87804a52a42db34c329\n",
      "  Stored in directory: c:\\users\\zach rosenof\\appdata\\local\\pip\\cache\\wheels\\f1\\e3\\67\\f79591b232f0deb8e51317fa288eef8b996e2d6cf033bdc1a0\n",
      "  Building wheel for srt (setup.py): started\n",
      "  Building wheel for srt (setup.py): finished with status 'done'\n",
      "  Created wheel for srt: filename=srt-3.5.3-py3-none-any.whl size=22539 sha256=07d50291da108b9f2f33be3e3b2a8bd5460330a8b2e3190dfa236ed9dcb384d8\n",
      "  Stored in directory: c:\\users\\zach rosenof\\appdata\\local\\pip\\cache\\wheels\\69\\cb\\6a\\5e5977c5c1fab3b94ff429718103884855b0d5671ed9880100\n",
      "Successfully built click-default-group srt\n",
      "Installing collected packages: mdurl, glcontext, pyrr, Pygments, pyglet, Pillow, moderngl, markdown-it-py, svgelements, srt, skia-pathops, screeninfo, rich, pydub, pycairo, moderngl-window, mapbox-earcut, manimpango, isosurfaces, colour, cloup, click-default-group, manim\n",
      "  Attempting uninstall: Pygments\n",
      "    Found existing installation: Pygments 2.11.2\n",
      "    Uninstalling Pygments-2.11.2:\n",
      "      Successfully uninstalled Pygments-2.11.2\n",
      "  Attempting uninstall: Pillow\n",
      "    Found existing installation: Pillow 9.0.1\n",
      "    Uninstalling Pillow-9.0.1:\n",
      "      Successfully uninstalled Pillow-9.0.1\n"
     ]
    },
    {
     "name": "stderr",
     "output_type": "stream",
     "text": [
      "WARNING: Ignoring invalid distribution -aleido (c:\\users\\zach rosenof\\anaconda3\\lib\\site-packages)\n",
      "WARNING: Ignoring invalid distribution -aleido (c:\\users\\zach rosenof\\anaconda3\\lib\\site-packages)\n",
      "WARNING: Ignoring invalid distribution -aleido (c:\\users\\zach rosenof\\anaconda3\\lib\\site-packages)\n",
      "    WARNING: Ignoring invalid distribution -aleido (c:\\users\\zach rosenof\\anaconda3\\lib\\site-packages)\n",
      "    WARNING: Ignoring invalid distribution -aleido (c:\\users\\zach rosenof\\anaconda3\\lib\\site-packages)\n",
      "ERROR: Could not install packages due to an OSError: [WinError 5] Access is denied: 'C:\\\\Users\\\\Zach Rosenof\\\\Anaconda3\\\\Lib\\\\site-packages\\\\~il\\\\_imaging.cp39-win_amd64.pyd'\n",
      "Consider using the `--user` option or check the permissions.\n",
      "\n",
      "WARNING: Ignoring invalid distribution -aleido (c:\\users\\zach rosenof\\anaconda3\\lib\\site-packages)\n",
      "WARNING: Ignoring invalid distribution -aleido (c:\\users\\zach rosenof\\anaconda3\\lib\\site-packages)\n",
      "WARNING: Ignoring invalid distribution -aleido (c:\\users\\zach rosenof\\anaconda3\\lib\\site-packages)\n"
     ]
    }
   ],
   "source": [
    "! pip install manim"
   ]
  },
  {
   "cell_type": "code",
   "execution_count": 2,
   "id": "5d81c5e5",
   "metadata": {},
   "outputs": [
    {
     "ename": "ModuleNotFoundError",
     "evalue": "No module named 'manim'",
     "output_type": "error",
     "traceback": [
      "\u001b[1;31m---------------------------------------------------------------------------\u001b[0m",
      "\u001b[1;31mModuleNotFoundError\u001b[0m                       Traceback (most recent call last)",
      "Input \u001b[1;32mIn [2]\u001b[0m, in \u001b[0;36m<cell line: 1>\u001b[1;34m()\u001b[0m\n\u001b[1;32m----> 1\u001b[0m \u001b[38;5;28;01mfrom\u001b[39;00m \u001b[38;5;21;01mmanim\u001b[39;00m \u001b[38;5;28;01mimport\u001b[39;00m \u001b[38;5;241m*\u001b[39m\n\u001b[0;32m      3\u001b[0m \u001b[38;5;28;01mclass\u001b[39;00m \u001b[38;5;21;01mSquareToCircle\u001b[39;00m(Scene):\n\u001b[0;32m      4\u001b[0m     \u001b[38;5;28;01mdef\u001b[39;00m \u001b[38;5;21mconstruct\u001b[39m(\u001b[38;5;28mself\u001b[39m):\n",
      "\u001b[1;31mModuleNotFoundError\u001b[0m: No module named 'manim'"
     ]
    }
   ],
   "source": []
  },
  {
   "cell_type": "code",
   "execution_count": null,
   "id": "677ea222",
   "metadata": {},
   "outputs": [],
   "source": []
  }
 ],
 "metadata": {
  "kernelspec": {
   "display_name": "Python 3 (ipykernel)",
   "language": "python",
   "name": "python3"
  },
  "language_info": {
   "codemirror_mode": {
    "name": "ipython",
    "version": 3
   },
   "file_extension": ".py",
   "mimetype": "text/x-python",
   "name": "python",
   "nbconvert_exporter": "python",
   "pygments_lexer": "ipython3",
   "version": "3.9.12"
  }
 },
 "nbformat": 4,
 "nbformat_minor": 5
}
