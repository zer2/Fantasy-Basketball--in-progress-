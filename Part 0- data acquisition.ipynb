{
 "cells": [
  {
   "cell_type": "markdown",
   "id": "fb776972",
   "metadata": {},
   "source": [
    "We will load data using the NBA's official API"
   ]
  },
  {
   "cell_type": "code",
   "execution_count": 156,
   "id": "4822276d",
   "metadata": {},
   "outputs": [],
   "source": [
    "from nba_api.live.nba.endpoints import boxscore\n",
    "from nba_api.stats.static import teams\n",
    "from nba_api.stats.endpoints import leaguegamefinder\n",
    "from nba_api.stats.endpoints import boxscoretraditionalv2\n",
    "from nba_api.stats.endpoints import fantasywidget\n",
    "from nba_api.stats.static import players\n",
    "from nba_api.stats.static import players\n",
    "\n",
    "from datetime import datetime\n",
    "import pandas as pd"
   ]
  },
  {
   "cell_type": "markdown",
   "id": "96ed90e6",
   "metadata": {},
   "source": [
    "# Basic player data"
   ]
  },
  {
   "cell_type": "code",
   "execution_count": 187,
   "id": "04563239",
   "metadata": {},
   "outputs": [],
   "source": [
    "player_df = pd.DataFrame.from_records(players.get_players())\n",
    "player_df.to_csv('../data/player_id_reference.csv')"
   ]
  },
  {
   "cell_type": "markdown",
   "id": "28bde4a4",
   "metadata": {},
   "source": [
    "# Data by season"
   ]
  },
  {
   "cell_type": "code",
   "execution_count": 199,
   "id": "1e510b8f",
   "metadata": {},
   "outputs": [],
   "source": [
    "def box_score_helper(g):\n",
    "    if g[0:3] == '002':\n",
    "        try:\n",
    "            return extract_game_data(boxscore.BoxScore(g).get_dict()['game'])\n",
    "        except:\n",
    "            return None\n",
    "\n",
    "def extract_game_data(res):\n",
    "\n",
    "    hometeam = res['homeTeam']['players']\n",
    "    awayteam = res['awayTeam']['players']\n",
    "\n",
    "    player_info = [get_player_info(player) for player in hometeam + awayteam]\n",
    "    player_df = pd.DataFrame.from_records(player_info)\n",
    "    \n",
    "    player_df.loc[:,'date'] = res['gameTimeUTC'][0:10]\n",
    "\n",
    "    return player_df\n",
    "\n",
    "def get_player_info(player):\n",
    "    player_stats = player['statistics']\n",
    "\n",
    "    player_dict = {'id' : player['personId']\n",
    "                   ,'status' : player['status']\n",
    "                   ,'pts' : player_stats['reboundsTotal']\n",
    "                   ,'trb' : player_stats['points']\n",
    "                   ,'ast' : player_stats['assists']\n",
    "                   ,'stl' : player_stats['steals']\n",
    "                   ,'blk' : player_stats['blocks']\n",
    "                   ,'fg3' : player_stats['threePointersMade']\n",
    "                   ,'tov' : player_stats['turnovers']\n",
    "                   ,'fg' : player_stats['fieldGoalsMade']\n",
    "                   ,'fga' : player_stats['fieldGoalsAttempted']\n",
    "                   ,'ft' : player_stats['freeThrowsMade']\n",
    "                   ,'fta' : player_stats['freeThrowsAttempted']}\n",
    "\n",
    "    return player_dict"
   ]
  },
  {
   "cell_type": "code",
   "execution_count": 175,
   "id": "6e56e4c9",
   "metadata": {},
   "outputs": [
    {
     "name": "stdout",
     "output_type": "stream",
     "text": [
      "0:05:19.909479\n"
     ]
    }
   ],
   "source": [
    "start = datetime.now()\n",
    "gamefinder = leaguegamefinder.LeagueGameFinder(season_nullable='2021-22', season_type_nullable = 'Regular Season')\n",
    "games_2021 = pd.unique(gamefinder.get_data_frames()[0]['GAME_ID'])\n",
    "box_scores_all_games_2021 = pd.concat([box_score_helper(g) for g in games_2021])\n",
    "box_scores_all_games_2021.to_csv('../data/data_by_season/2021-22.csv', index = False)\n",
    "print(datetime.now() - start)"
   ]
  },
  {
   "cell_type": "code",
   "execution_count": 263,
   "id": "896f8c89",
   "metadata": {},
   "outputs": [],
   "source": [
    "def box_score_helper_legacy(g, date):\n",
    "    if g[0:3] == '002':\n",
    "        try:\n",
    "            df = extract_game_data_legacy(boxscoretraditionalv2.BoxScoreTraditionalV2(g).get_dict()['resultSets'][0])\n",
    "            df.loc[:,'date'] = date\n",
    "            return df\n",
    "        except:\n",
    "            return None\n",
    "\n",
    "def extract_game_data_legacy(res):\n",
    "\n",
    "    return pd.DataFrame(res['rowSet'], columns = res['headers'])"
   ]
  },
  {
   "cell_type": "code",
   "execution_count": null,
   "id": "43ba7c1e",
   "metadata": {},
   "outputs": [],
   "source": [
    "start = datetime.now()\n",
    "seasons = ['2018-19']\n",
    "for season in seasons:\n",
    "    gamefinder = leaguegamefinder.LeagueGameFinder(season_nullable=season, season_type_nullable = 'Regular Season')\n",
    "    games_and_dates = gamefinder.get_data_frames()[0].groupby(['GAME_ID','GAME_DATE']).count().index\n",
    "    box_scores_all_games = pd.concat([box_score_helper_legacy(g, date) for g, date in games_and_dates])\n",
    "    box_scores_all_games.to_csv('../data/data_by_season/' + season + '.csv', index = False)\n",
    "print(datetime.now() - start)"
   ]
  }
 ],
 "metadata": {
  "kernelspec": {
   "display_name": "Python 3 (ipykernel)",
   "language": "python",
   "name": "python3"
  },
  "language_info": {
   "codemirror_mode": {
    "name": "ipython",
    "version": 3
   },
   "file_extension": ".py",
   "mimetype": "text/x-python",
   "name": "python",
   "nbconvert_exporter": "python",
   "pygments_lexer": "ipython3",
   "version": "3.9.12"
  }
 },
 "nbformat": 4,
 "nbformat_minor": 5
}
