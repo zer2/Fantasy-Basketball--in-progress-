{
 "cells": [
  {
   "cell_type": "markdown",
   "id": "3d200a26",
   "metadata": {},
   "source": [
    "Before we do any analysis on fantasy basketball we need to acquire appropriate data. We will mostly use the official NBA API, with some supplemental info from from basketball reference (as provided by Sumitro Datta [here](https://www.kaggle.com/datasets/sumitrodatta/nba-aba-baa-stats)) "
   ]
  },
  {
   "cell_type": "code",
   "execution_count": 48,
   "id": "2661c148",
   "metadata": {},
   "outputs": [],
   "source": [
    "from nba_api.live.nba.endpoints import boxscore\n",
    "from nba_api.stats.endpoints import leaguegamefinder\n",
    "from nba_api.stats.endpoints import boxscoretraditionalv2\n",
    "from functools import reduce\n",
    "from unidecode import unidecode\n",
    "from nba_api.stats.static import players\n",
    "\n",
    "import time \n",
    "\n",
    "from datetime import datetime\n",
    "import pandas as pd"
   ]
  },
  {
   "cell_type": "markdown",
   "id": "fd7ea1cb",
   "metadata": {},
   "source": [
    "# Basic player data"
   ]
  },
  {
   "cell_type": "code",
   "execution_count": 51,
   "id": "2c6758b7",
   "metadata": {},
   "outputs": [],
   "source": [
    "player_id_reference = pd.DataFrame(players.get_players())\n",
    "player_id_reference.rename(columns = {'full_name' : 'player'}).to_csv('../data/player_id_reference.csv', index = False)"
   ]
  },
  {
   "cell_type": "code",
   "execution_count": 53,
   "id": "cbd54749",
   "metadata": {},
   "outputs": [],
   "source": [
    "player_data = pd.read_csv('../data/raw/player_data.csv') #downloaded from kaggle\n",
    "\n",
    "def cleanup_name_str(x):\n",
    "    x = unidecode(x)\n",
    "    if x == 'Robert Williams':\n",
    "        return 'Robert Williams III'\n",
    "    if x == 'OG Anunoby':\n",
    "        return 'O.G. Anunoby'\n",
    "    if x == 'Marcus Morris':\n",
    "        return 'Marcus Morris Sr.'\n",
    "    return x\n",
    "\n",
    "player_data['player'] = [cleanup_name_str(x) for x in player_data['player']]\n",
    "\n",
    "def get_pos_list(pos):\n",
    "    positions = pos.split('-')\n",
    "    position_set = set()\n",
    "    \n",
    "    if ('F' in positions) or ('SF' in positions):\n",
    "        position_set.add('SF')  \n",
    "        \n",
    "    if ('F' in positions) or ('PF' in positions):\n",
    "        position_set.add('PF') \n",
    "        \n",
    "    if ('G' in positions) or ('SG' in positions):\n",
    "        position_set.add('SG')            \n",
    "        \n",
    "    if ('G' in positions) or ('PG' in positions):\n",
    "        position_set.add('PG') \n",
    "        \n",
    "    if ('C' in positions):\n",
    "        position_set.add('C')    \n",
    "    return position_set\n",
    "\n",
    "player_data.loc[:,'pos'] = [get_pos_list(pos) for pos in player_data['pos']] \n",
    "positions = player_data.groupby(['player','season'])['pos'].aggregate(lambda x: reduce(set.union, x))\n",
    "positions.to_csv('../data/positions.csv')\n"
   ]
  },
  {
   "cell_type": "markdown",
   "id": "a79578ef",
   "metadata": {},
   "source": [
    "# Data by season"
   ]
  },
  {
   "cell_type": "code",
   "execution_count": 2,
   "id": "14df2af8",
   "metadata": {},
   "outputs": [],
   "source": [
    "def box_score_helper(g):\n",
    "    if g[0:3] == '002':\n",
    "        try:\n",
    "            return extract_game_data(boxscore.BoxScore(g).get_dict()['game'])\n",
    "        except:\n",
    "            return None\n",
    "\n",
    "def extract_game_data(res):\n",
    "\n",
    "    hometeam = res['homeTeam']['players']\n",
    "    awayteam = res['awayTeam']['players']\n",
    "\n",
    "    player_info = [get_player_info(player) for player in hometeam + awayteam]\n",
    "    player_df = pd.DataFrame.from_records(player_info)\n",
    "    \n",
    "    player_df.loc[:,'date'] = res['gameTimeUTC'][0:10]\n",
    "\n",
    "    return player_df\n",
    "\n",
    "def get_player_info(player):\n",
    "    player_stats = player['statistics']\n",
    "\n",
    "    player_dict = {'id' : player['personId']\n",
    "                   ,'status' : player['status']\n",
    "                   ,'pts' : player_stats['reboundsTotal']\n",
    "                   ,'trb' : player_stats['points']\n",
    "                   ,'ast' : player_stats['assists']\n",
    "                   ,'stl' : player_stats['steals']\n",
    "                   ,'blk' : player_stats['blocks']\n",
    "                   ,'fg3' : player_stats['threePointersMade']\n",
    "                   ,'tov' : player_stats['turnovers']\n",
    "                   ,'fg' : player_stats['fieldGoalsMade']\n",
    "                   ,'fga' : player_stats['fieldGoalsAttempted']\n",
    "                   ,'ft' : player_stats['freeThrowsMade']\n",
    "                   ,'fta' : player_stats['freeThrowsAttempted']}\n",
    "\n",
    "    return player_dict"
   ]
  },
  {
   "cell_type": "code",
   "execution_count": 175,
   "id": "b19df83f",
   "metadata": {},
   "outputs": [
    {
     "name": "stdout",
     "output_type": "stream",
     "text": [
      "0:05:19.909479\n"
     ]
    }
   ],
   "source": [
    "start = datetime.now()\n",
    "gamefinder = leaguegamefinder.LeagueGameFinder(season_nullable='2021-22', season_type_nullable = 'Regular Season')\n",
    "games_2021 = pd.unique(gamefinder.get_data_frames()[0]['GAME_ID'])\n",
    "box_scores_all_games_2021 = pd.concat([box_score_helper(g) for g in games_2021])\n",
    "box_scores_all_games_2021.to_csv('../data/data_by_season/2021-22.csv', index = False)\n",
    "print(datetime.now() - start)"
   ]
  },
  {
   "cell_type": "markdown",
   "id": "1625c1e5",
   "metadata": {},
   "source": [
    "Here and below: have not run yet"
   ]
  },
  {
   "cell_type": "code",
   "execution_count": 3,
   "id": "2c7b376f",
   "metadata": {},
   "outputs": [],
   "source": [
    "def box_score_helper_legacy(g, date):\n",
    "    if g[0:3] == '002':\n",
    "        try:\n",
    "            df = extract_game_data_legacy(boxscoretraditionalv2.BoxScoreTraditionalV2(g).get_dict()['resultSets'][0])\n",
    "            df.loc[:,'date'] = date\n",
    "            return df\n",
    "        except:\n",
    "            return None\n",
    "\n",
    "def extract_game_data_legacy(res):\n",
    "\n",
    "    return pd.DataFrame(res['rowSet'], columns = res['headers'])"
   ]
  },
  {
   "cell_type": "code",
   "execution_count": null,
   "id": "a4413346",
   "metadata": {},
   "outputs": [],
   "source": [
    "start = datetime.now()\n",
    "seasons = ['2018-19']\n",
    "for season in seasons:\n",
    "    gamefinder = leaguegamefinder.LeagueGameFinder(season_nullable=season, season_type_nullable = 'Regular Season')\n",
    "    games_and_dates = gamefinder.get_data_frames()[0].groupby(['GAME_ID','GAME_DATE']).count().index\n",
    "    box_scores_all_games = pd.concat([box_score_helper_legacy(g, date) for g, date in games_and_dates])\n",
    "    box_scores_all_games.to_csv('../data/data_by_season/' + season + '.csv', index = False)\n",
    "print(datetime.now() - start)"
   ]
  }
 ],
 "metadata": {
  "kernelspec": {
   "display_name": "Python 3 (ipykernel)",
   "language": "python",
   "name": "python3"
  },
  "language_info": {
   "codemirror_mode": {
    "name": "ipython",
    "version": 3
   },
   "file_extension": ".py",
   "mimetype": "text/x-python",
   "name": "python",
   "nbconvert_exporter": "python",
   "pygments_lexer": "ipython3",
   "version": "3.9.12"
  }
 },
 "nbformat": 4,
 "nbformat_minor": 5
}
